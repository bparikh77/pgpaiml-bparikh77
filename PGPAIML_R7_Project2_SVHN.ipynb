{
 "cells": [
  {
   "cell_type": "code",
   "execution_count": 1,
   "metadata": {},
   "outputs": [],
   "source": [
    "# import necessary libraries\n",
    "\n",
    "import numpy as np\n",
    "import h5py\n",
    "import tensorflow as tf\n",
    "\n",
    "# Ignore the warnings\n",
    "import warnings\n",
    "warnings.filterwarnings(\"ignore\")"
   ]
  },
  {
   "cell_type": "code",
   "execution_count": 2,
   "metadata": {},
   "outputs": [],
   "source": [
    "# load the data from .h5 file\n",
    "\n",
    "svhn_data = h5py.File('Autonomous_Vehicles_SVHN_single_grey1.h5','r') "
   ]
  },
  {
   "cell_type": "markdown",
   "metadata": {},
   "source": [
    "# Data pre-processing"
   ]
  },
  {
   "cell_type": "code",
   "execution_count": 3,
   "metadata": {},
   "outputs": [
    {
     "data": {
      "text/plain": [
       "<KeysViewHDF5 ['X_test', 'X_train', 'X_val', 'y_test', 'y_train', 'y_val']>"
      ]
     },
     "execution_count": 3,
     "metadata": {},
     "output_type": "execute_result"
    }
   ],
   "source": [
    "svhn_data.keys() # Check the keys in the HDF5 dataset"
   ]
  },
  {
   "cell_type": "code",
   "execution_count": 4,
   "metadata": {},
   "outputs": [],
   "source": [
    "# extract X_train data and convert it into a numpy array\n",
    "\n",
    "X_train = np.asarray(list(svhn_data['X_train'])) "
   ]
  },
  {
   "cell_type": "code",
   "execution_count": 5,
   "metadata": {},
   "outputs": [
    {
     "data": {
      "text/plain": [
       "(42000, 32, 32)"
      ]
     },
     "execution_count": 5,
     "metadata": {},
     "output_type": "execute_result"
    }
   ],
   "source": [
    "X_train.shape"
   ]
  },
  {
   "cell_type": "code",
   "execution_count": 6,
   "metadata": {},
   "outputs": [],
   "source": [
    "# extract X_test data and convert it into a numpy array\n",
    "\n",
    "X_test = np.asarray(list(svhn_data['X_test'])) "
   ]
  },
  {
   "cell_type": "code",
   "execution_count": 7,
   "metadata": {},
   "outputs": [
    {
     "data": {
      "text/plain": [
       "(18000, 32, 32)"
      ]
     },
     "execution_count": 7,
     "metadata": {},
     "output_type": "execute_result"
    }
   ],
   "source": [
    "X_test.shape"
   ]
  },
  {
   "cell_type": "code",
   "execution_count": 8,
   "metadata": {},
   "outputs": [],
   "source": [
    "# extract y_train data and convert it into a numpy array\n",
    "\n",
    "y_train = np.asarray(list(svhn_data['y_train'])) "
   ]
  },
  {
   "cell_type": "code",
   "execution_count": 9,
   "metadata": {},
   "outputs": [
    {
     "data": {
      "text/plain": [
       "(42000,)"
      ]
     },
     "execution_count": 9,
     "metadata": {},
     "output_type": "execute_result"
    }
   ],
   "source": [
    "y_train.shape"
   ]
  },
  {
   "cell_type": "code",
   "execution_count": 10,
   "metadata": {},
   "outputs": [],
   "source": [
    "# extract y_test data and convert it into a numpy array\n",
    "\n",
    "y_test = np.asarray(list(svhn_data['y_test']))"
   ]
  },
  {
   "cell_type": "code",
   "execution_count": 11,
   "metadata": {},
   "outputs": [
    {
     "data": {
      "text/plain": [
       "(18000,)"
      ]
     },
     "execution_count": 11,
     "metadata": {},
     "output_type": "execute_result"
    }
   ],
   "source": [
    "y_test.shape"
   ]
  },
  {
   "cell_type": "markdown",
   "metadata": {},
   "source": [
    "# Data visualization"
   ]
  },
  {
   "cell_type": "code",
   "execution_count": 12,
   "metadata": {},
   "outputs": [
    {
     "name": "stdout",
     "output_type": "stream",
     "text": [
      "Label: 6\n"
     ]
    },
    {
     "data": {
      "text/plain": [
       "<matplotlib.image.AxesImage at 0x29c39893c70>"
      ]
     },
     "execution_count": 12,
     "metadata": {},
     "output_type": "execute_result"
    },
    {
     "data": {
      "image/png": "[encoded data removed]",
      "text/plain": [
       "<Figure size 432x288 with 1 Axes>"
      ]
     },
     "metadata": {
      "needs_background": "light"
     },
     "output_type": "display_data"
    }
   ],
   "source": [
    "import matplotlib.pyplot as plt\n",
    "%matplotlib inline\n",
    "\n",
    "# Visualize the training data along with label\n",
    "\n",
    "print(\"Label: {}\".format(y_train[1000]))\n",
    "plt.imshow(X_train[1000], cmap='gray')"
   ]
  },
  {
   "cell_type": "code",
   "execution_count": 13,
   "metadata": {},
   "outputs": [
    {
     "name": "stdout",
     "output_type": "stream",
     "text": [
      "Label: 8\n"
     ]
    },
    {
     "data": {
      "text/plain": [
       "<matplotlib.image.AxesImage at 0x29c39bc2d60>"
      ]
     },
     "execution_count": 13,
     "metadata": {},
     "output_type": "execute_result"
    },
    {
     "data": {
      "image/png": "[encoded data removed]",
      "text/plain": [
       "<Figure size 432x288 with 1 Axes>"
      ]
     },
     "metadata": {
      "needs_background": "light"
     },
     "output_type": "display_data"
    }
   ],
   "source": [
    "# Visualize the test data along with label\n",
    "\n",
    "print(\"Label: {}\".format(y_test[10]))\n",
    "plt.imshow(X_test[10], cmap='gray')"
   ]
  },
  {
   "cell_type": "markdown",
   "metadata": {},
   "source": [
    "# Neural Network Classifier"
   ]
  },
  {
   "cell_type": "code",
   "execution_count": 14,
   "metadata": {},
   "outputs": [
    {
     "name": "stdout",
     "output_type": "stream",
     "text": [
      "One value of y_train: [0. 0. 0. 0. 0. 0. 1. 0. 0. 0.]\n"
     ]
    }
   ],
   "source": [
    "from tensorflow.keras.utils import to_categorical\n",
    "\n",
    "y_train = to_categorical(y_train, num_classes=10)\n",
    "y_test = to_categorical(y_test, num_classes=10)\n",
    "\n",
    "print(\"One value of y_train:\", y_train[1])"
   ]
  },
  {
   "cell_type": "code",
   "execution_count": 15,
   "metadata": {},
   "outputs": [],
   "source": [
    "from tensorflow.keras.models import Sequential\n",
    "from tensorflow.keras.layers import Dense\n",
    "\n",
    "# initialize the session\n",
    "    \n",
    "tf.keras.backend.clear_session()\n",
    "\n",
    "model = Sequential()\n",
    "\n",
    "#Reshape data from 2D to 1D\n",
    "model.add(tf.keras.layers.Reshape((1024,),input_shape=(32,32,)))\n",
    "\n",
    "#Normalize the data\n",
    "model.add(tf.keras.layers.BatchNormalization())\n",
    "\n",
    "model.add(Dense(128))\n",
    "\n",
    "model.add(tf.keras.layers.LeakyReLU(0.1)) #LeakyRelu\n",
    "\n",
    "model.add(Dense(64))\n",
    "\n",
    "model.add(tf.keras.layers.LeakyReLU(0.1)) #LeakyRelu\n",
    "\n",
    "model.add(Dense(32))\n",
    "\n",
    "model.add(tf.keras.layers.LeakyReLU(0.1)) #LeakyRelu\n",
    "\n",
    "model.add(Dense(10, activation=\"softmax\"))"
   ]
  },
  {
   "cell_type": "code",
   "execution_count": 16,
   "metadata": {},
   "outputs": [
    {
     "name": "stdout",
     "output_type": "stream",
     "text": [
      "Model: \"sequential\"\n",
      "_________________________________________________________________\n",
      "Layer (type)                 Output Shape              Param #   \n",
      "=================================================================\n",
      "reshape (Reshape)            (None, 1024)              0         \n",
      "_________________________________________________________________\n",
      "batch_normalization (BatchNo (None, 1024)              4096      \n",
      "_________________________________________________________________\n",
      "dense (Dense)                (None, 128)               131200    \n",
      "_________________________________________________________________\n",
      "leaky_re_lu (LeakyReLU)      (None, 128)               0         \n",
      "_________________________________________________________________\n",
      "dense_1 (Dense)              (None, 64)                8256      \n",
      "_________________________________________________________________\n",
      "leaky_re_lu_1 (LeakyReLU)    (None, 64)                0         \n",
      "_________________________________________________________________\n",
      "dense_2 (Dense)              (None, 32)                2080      \n",
      "_________________________________________________________________\n",
      "leaky_re_lu_2 (LeakyReLU)    (None, 32)                0         \n",
      "_________________________________________________________________\n",
      "dense_3 (Dense)              (None, 10)                330       \n",
      "=================================================================\n",
      "Total params: 145,962\n",
      "Trainable params: 143,914\n",
      "Non-trainable params: 2,048\n",
      "_________________________________________________________________\n"
     ]
    }
   ],
   "source": [
    "model.summary()"
   ]
  },
  {
   "cell_type": "code",
   "execution_count": 17,
   "metadata": {},
   "outputs": [
    {
     "name": "stdout",
     "output_type": "stream",
     "text": [
      "Epoch 1/50\n",
      "329/329 [==============================] - 3s 7ms/step - loss: 1.7960 - accuracy: 0.3773 - val_loss: 1.0720 - val_accuracy: 0.6690\n",
      "Epoch 2/50\n",
      "329/329 [==============================] - 1s 4ms/step - loss: 0.9914 - accuracy: 0.6930 - val_loss: 0.8670 - val_accuracy: 0.7429\n",
      "Epoch 3/50\n",
      "329/329 [==============================] - 1s 4ms/step - loss: 0.8178 - accuracy: 0.7489 - val_loss: 0.8084 - val_accuracy: 0.7554\n",
      "Epoch 4/50\n",
      "329/329 [==============================] - 1s 4ms/step - loss: 0.7852 - accuracy: 0.7596 - val_loss: 0.7444 - val_accuracy: 0.7779\n",
      "Epoch 5/50\n",
      "329/329 [==============================] - 1s 4ms/step - loss: 0.6895 - accuracy: 0.7849 - val_loss: 0.7578 - val_accuracy: 0.7756\n",
      "Epoch 6/50\n",
      "329/329 [==============================] - 1s 4ms/step - loss: 0.6478 - accuracy: 0.7984 - val_loss: 0.6941 - val_accuracy: 0.7986\n",
      "Epoch 7/50\n",
      "329/329 [==============================] - 1s 3ms/step - loss: 0.6194 - accuracy: 0.8101 - val_loss: 0.7023 - val_accuracy: 0.7985\n",
      "Epoch 8/50\n",
      "329/329 [==============================] - 1s 3ms/step - loss: 0.5932 - accuracy: 0.8142 - val_loss: 0.7047 - val_accuracy: 0.7971\n",
      "Epoch 9/50\n",
      "329/329 [==============================] - 1s 4ms/step - loss: 0.5801 - accuracy: 0.8190 - val_loss: 0.6792 - val_accuracy: 0.8060\n",
      "Epoch 10/50\n",
      "329/329 [==============================] - 1s 4ms/step - loss: 0.5503 - accuracy: 0.8306 - val_loss: 0.6465 - val_accuracy: 0.8184\n",
      "Epoch 11/50\n",
      "329/329 [==============================] - 1s 4ms/step - loss: 0.5298 - accuracy: 0.8357 - val_loss: 0.6810 - val_accuracy: 0.8044\n",
      "Epoch 12/50\n",
      "329/329 [==============================] - 1s 4ms/step - loss: 0.5123 - accuracy: 0.8419 - val_loss: 0.6414 - val_accuracy: 0.8177\n",
      "Epoch 13/50\n",
      "329/329 [==============================] - 1s 3ms/step - loss: 0.5069 - accuracy: 0.8408 - val_loss: 0.6349 - val_accuracy: 0.8203\n",
      "Epoch 14/50\n",
      "329/329 [==============================] - 1s 3ms/step - loss: 0.4825 - accuracy: 0.8473 - val_loss: 0.6609 - val_accuracy: 0.8157\n",
      "Epoch 15/50\n",
      "329/329 [==============================] - 1s 3ms/step - loss: 0.4770 - accuracy: 0.8512 - val_loss: 0.6036 - val_accuracy: 0.8349\n",
      "Epoch 16/50\n",
      "329/329 [==============================] - 1s 4ms/step - loss: 0.4529 - accuracy: 0.8620 - val_loss: 0.6211 - val_accuracy: 0.8247\n",
      "Epoch 17/50\n",
      "329/329 [==============================] - 1s 4ms/step - loss: 0.4565 - accuracy: 0.8560 - val_loss: 0.6260 - val_accuracy: 0.8274\n",
      "Epoch 18/50\n",
      "329/329 [==============================] - 1s 3ms/step - loss: 0.4305 - accuracy: 0.8636 - val_loss: 0.6336 - val_accuracy: 0.8212\n",
      "Epoch 19/50\n",
      "329/329 [==============================] - 1s 4ms/step - loss: 0.4236 - accuracy: 0.8662 - val_loss: 0.6777 - val_accuracy: 0.8117\n",
      "Epoch 20/50\n",
      "329/329 [==============================] - 1s 4ms/step - loss: 0.4383 - accuracy: 0.8619 - val_loss: 0.6271 - val_accuracy: 0.8304\n",
      "Epoch 21/50\n",
      "329/329 [==============================] - 1s 4ms/step - loss: 0.4174 - accuracy: 0.8680 - val_loss: 0.6333 - val_accuracy: 0.8243\n",
      "Epoch 22/50\n",
      "329/329 [==============================] - 1s 4ms/step - loss: 0.4039 - accuracy: 0.8735 - val_loss: 0.6640 - val_accuracy: 0.8195\n",
      "Epoch 23/50\n",
      "329/329 [==============================] - 1s 4ms/step - loss: 0.3913 - accuracy: 0.8779 - val_loss: 0.6710 - val_accuracy: 0.8209\n",
      "Epoch 24/50\n",
      "329/329 [==============================] - 1s 4ms/step - loss: 0.3841 - accuracy: 0.8784 - val_loss: 0.6339 - val_accuracy: 0.8311\n",
      "Epoch 25/50\n",
      "329/329 [==============================] - 1s 3ms/step - loss: 0.3820 - accuracy: 0.8825 - val_loss: 0.6231 - val_accuracy: 0.8363\n"
     ]
    }
   ],
   "source": [
    "# Compile the model\n",
    "model.compile(loss=\"categorical_crossentropy\", metrics=[\"accuracy\"], optimizer=\"adam\")\n",
    "\n",
    "# Fit the model\n",
    "callback = tf.keras.callbacks.EarlyStopping(monitor='val_loss', patience = 10, restore_best_weights=True, mode='min')\n",
    "history = model.fit(x=X_train, y=y_train, batch_size=128, epochs=50, validation_data=(X_test, y_test), callbacks=callback)"
   ]
  },
  {
   "cell_type": "code",
   "execution_count": 18,
   "metadata": {},
   "outputs": [
    {
     "name": "stdout",
     "output_type": "stream",
     "text": [
      "563/563 [==============================] - 1s 937us/step - loss: 0.6036 - accuracy: 0.8349\n"
     ]
    },
    {
     "data": {
      "text/plain": [
       "[0.603589653968811, 0.8348888754844666]"
      ]
     },
     "execution_count": 18,
     "metadata": {},
     "output_type": "execute_result"
    }
   ],
   "source": [
    "model.evaluate(X_test, y_test)"
   ]
  },
  {
   "cell_type": "code",
   "execution_count": 24,
   "metadata": {},
   "outputs": [
    {
     "data": {
      "image/png": "[encoded data removed]",
      "text/plain": [
       "<Figure size 432x288 with 1 Axes>"
      ]
     },
     "metadata": {
      "needs_background": "light"
     },
     "output_type": "display_data"
    }
   ],
   "source": [
    "# Plot training accuracy and validation accuracy vc no. of epochs\n",
    "\n",
    "import matplotlib.pyplot as plt\n",
    "\n",
    "plt.plot(history.history['accuracy'])\n",
    "plt.plot(history.history['val_accuracy'])\n",
    "plt.title('accuracy vs epochs')\n",
    "plt.ylabel('accuracy')\n",
    "plt.xlabel('epochs')\n",
    "plt.legend(['training', 'validation'], loc='upper left')\n",
    "plt.show()"
   ]
  },
  {
   "cell_type": "code",
   "execution_count": 23,
   "metadata": {},
   "outputs": [
    {
     "data": {
      "image/png": "[encoded data removed]",
      "text/plain": [
       "<Figure size 432x288 with 1 Axes>"
      ]
     },
     "metadata": {
      "needs_background": "light"
     },
     "output_type": "display_data"
    }
   ],
   "source": [
    "# Plot training loss and validation loss vc no. of epochs\n",
    "\n",
    "plt.plot(history.history['loss'])\n",
    "plt.plot(history.history['val_loss'])\n",
    "plt.title('loss vs epochs')\n",
    "plt.ylabel('loss')\n",
    "plt.xlabel('epochs')\n",
    "plt.legend(['training', 'validation'], loc='upper left')\n",
    "plt.show()"
   ]
  }
 ],
 "metadata": {
  "kernelspec": {
   "display_name": "Python 3",
   "language": "python",
   "name": "python3"
  },
  "language_info": {
   "codemirror_mode": {
    "name": "ipython",
    "version": 3
   },
   "file_extension": ".py",
   "mimetype": "text/x-python",
   "name": "python",
   "nbconvert_exporter": "python",
   "pygments_lexer": "ipython3",
   "version": "3.8.5"
  }
 },
 "nbformat": 4,
 "nbformat_minor": 4
}
