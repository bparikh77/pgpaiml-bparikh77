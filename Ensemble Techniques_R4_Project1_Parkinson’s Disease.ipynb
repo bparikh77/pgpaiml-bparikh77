{
 "cells": [
  {
   "cell_type": "markdown",
   "metadata": {},
   "source": [
    "Import the libraries"
   ]
  },
  {
   "cell_type": "code",
   "execution_count": 87,
   "metadata": {},
   "outputs": [],
   "source": [
    "import pandas as pd\n",
    "import numpy as np\n",
    "import seaborn as sns\n",
    "from sklearn.model_selection import train_test_split\n",
    "from sklearn.tree import DecisionTreeClassifier\n",
    "from sklearn import metrics\n",
    "from sklearn.ensemble import RandomForestClassifier"
   ]
  },
  {
   "cell_type": "markdown",
   "metadata": {},
   "source": [
    "Q1. Load the dataset"
   ]
  },
  {
   "cell_type": "code",
   "execution_count": 88,
   "metadata": {},
   "outputs": [],
   "source": [
    "pk_data = pd.read_csv(\"parkinsons.csv\")"
   ]
  },
  {
   "cell_type": "markdown",
   "metadata": {},
   "source": [
    "Q2. It is always a good practice to eye-ball raw data to get a feel of the data in terms of number of structure of the file, number of attributes, types of attributes and a general idea of likely challenges in the dataset."
   ]
  },
  {
   "cell_type": "code",
   "execution_count": 3,
   "metadata": {},
   "outputs": [
    {
     "data": {
      "text/plain": [
       "(195, 24)"
      ]
     },
     "execution_count": 3,
     "metadata": {},
     "output_type": "execute_result"
    }
   ],
   "source": [
    "pk_data.shape\n",
    "# The data has 195 rows and 24 columns, i.e. 23 attributes along with status column"
   ]
  },
  {
   "cell_type": "code",
   "execution_count": 7,
   "metadata": {},
   "outputs": [
    {
     "name": "stdout",
     "output_type": "stream",
     "text": [
      "<class 'pandas.core.frame.DataFrame'>\n",
      "RangeIndex: 195 entries, 0 to 194\n",
      "Data columns (total 24 columns):\n",
      "name                195 non-null object\n",
      "MDVP:Fo(Hz)         195 non-null float64\n",
      "MDVP:Fhi(Hz)        195 non-null float64\n",
      "MDVP:Flo(Hz)        195 non-null float64\n",
      "MDVP:Jitter(%)      195 non-null float64\n",
      "MDVP:Jitter(Abs)    195 non-null float64\n",
      "MDVP:RAP            195 non-null float64\n",
      "MDVP:PPQ            195 non-null float64\n",
      "Jitter:DDP          195 non-null float64\n",
      "MDVP:Shimmer        195 non-null float64\n",
      "MDVP:Shimmer(dB)    195 non-null float64\n",
      "Shimmer:APQ3        195 non-null float64\n",
      "Shimmer:APQ5        195 non-null float64\n",
      "MDVP:APQ            195 non-null float64\n",
      "Shimmer:DDA         195 non-null float64\n",
      "NHR                 195 non-null float64\n",
      "HNR                 195 non-null float64\n",
      "status              195 non-null int64\n",
      "RPDE                195 non-null float64\n",
      "DFA                 195 non-null float64\n",
      "spread1             195 non-null float64\n",
      "spread2             195 non-null float64\n",
      "D2                  195 non-null float64\n",
      "PPE                 195 non-null float64\n",
      "dtypes: float64(22), int64(1), object(1)\n",
      "memory usage: 36.6+ KB\n"
     ]
    }
   ],
   "source": [
    "pk_data.info()\n",
    "# All the attributes are non-numeric, i.e. float"
   ]
  },
  {
   "cell_type": "code",
   "execution_count": 4,
   "metadata": {},
   "outputs": [
    {
     "data": {
      "text/html": [
       "<div>\n",
       "<style scoped>\n",
       "    .dataframe tbody tr th:only-of-type {\n",
       "        vertical-align: middle;\n",
       "    }\n",
       "\n",
       "    .dataframe tbody tr th {\n",
       "        vertical-align: top;\n",
       "    }\n",
       "\n",
       "    .dataframe thead th {\n",
       "        text-align: right;\n",
       "    }\n",
       "</style>\n",
       "<table border=\"1\" class=\"dataframe\">\n",
       "  <thead>\n",
       "    <tr style=\"text-align: right;\">\n",
       "      <th></th>\n",
       "      <th>name</th>\n",
       "      <th>MDVP:Fo(Hz)</th>\n",
       "      <th>MDVP:Fhi(Hz)</th>\n",
       "      <th>MDVP:Flo(Hz)</th>\n",
       "      <th>MDVP:Jitter(%)</th>\n",
       "      <th>MDVP:Jitter(Abs)</th>\n",
       "      <th>MDVP:RAP</th>\n",
       "      <th>MDVP:PPQ</th>\n",
       "      <th>Jitter:DDP</th>\n",
       "      <th>MDVP:Shimmer</th>\n",
       "      <th>...</th>\n",
       "      <th>Shimmer:DDA</th>\n",
       "      <th>NHR</th>\n",
       "      <th>HNR</th>\n",
       "      <th>status</th>\n",
       "      <th>RPDE</th>\n",
       "      <th>DFA</th>\n",
       "      <th>spread1</th>\n",
       "      <th>spread2</th>\n",
       "      <th>D2</th>\n",
       "      <th>PPE</th>\n",
       "    </tr>\n",
       "  </thead>\n",
       "  <tbody>\n",
       "    <tr>\n",
       "      <th>0</th>\n",
       "      <td>phon_R01_S01_1</td>\n",
       "      <td>119.992</td>\n",
       "      <td>157.302</td>\n",
       "      <td>74.997</td>\n",
       "      <td>0.00784</td>\n",
       "      <td>0.00007</td>\n",
       "      <td>0.00370</td>\n",
       "      <td>0.00554</td>\n",
       "      <td>0.01109</td>\n",
       "      <td>0.04374</td>\n",
       "      <td>...</td>\n",
       "      <td>0.06545</td>\n",
       "      <td>0.02211</td>\n",
       "      <td>21.033</td>\n",
       "      <td>1</td>\n",
       "      <td>0.414783</td>\n",
       "      <td>0.815285</td>\n",
       "      <td>-4.813031</td>\n",
       "      <td>0.266482</td>\n",
       "      <td>2.301442</td>\n",
       "      <td>0.284654</td>\n",
       "    </tr>\n",
       "    <tr>\n",
       "      <th>1</th>\n",
       "      <td>phon_R01_S01_2</td>\n",
       "      <td>122.400</td>\n",
       "      <td>148.650</td>\n",
       "      <td>113.819</td>\n",
       "      <td>0.00968</td>\n",
       "      <td>0.00008</td>\n",
       "      <td>0.00465</td>\n",
       "      <td>0.00696</td>\n",
       "      <td>0.01394</td>\n",
       "      <td>0.06134</td>\n",
       "      <td>...</td>\n",
       "      <td>0.09403</td>\n",
       "      <td>0.01929</td>\n",
       "      <td>19.085</td>\n",
       "      <td>1</td>\n",
       "      <td>0.458359</td>\n",
       "      <td>0.819521</td>\n",
       "      <td>-4.075192</td>\n",
       "      <td>0.335590</td>\n",
       "      <td>2.486855</td>\n",
       "      <td>0.368674</td>\n",
       "    </tr>\n",
       "    <tr>\n",
       "      <th>2</th>\n",
       "      <td>phon_R01_S01_3</td>\n",
       "      <td>116.682</td>\n",
       "      <td>131.111</td>\n",
       "      <td>111.555</td>\n",
       "      <td>0.01050</td>\n",
       "      <td>0.00009</td>\n",
       "      <td>0.00544</td>\n",
       "      <td>0.00781</td>\n",
       "      <td>0.01633</td>\n",
       "      <td>0.05233</td>\n",
       "      <td>...</td>\n",
       "      <td>0.08270</td>\n",
       "      <td>0.01309</td>\n",
       "      <td>20.651</td>\n",
       "      <td>1</td>\n",
       "      <td>0.429895</td>\n",
       "      <td>0.825288</td>\n",
       "      <td>-4.443179</td>\n",
       "      <td>0.311173</td>\n",
       "      <td>2.342259</td>\n",
       "      <td>0.332634</td>\n",
       "    </tr>\n",
       "    <tr>\n",
       "      <th>3</th>\n",
       "      <td>phon_R01_S01_4</td>\n",
       "      <td>116.676</td>\n",
       "      <td>137.871</td>\n",
       "      <td>111.366</td>\n",
       "      <td>0.00997</td>\n",
       "      <td>0.00009</td>\n",
       "      <td>0.00502</td>\n",
       "      <td>0.00698</td>\n",
       "      <td>0.01505</td>\n",
       "      <td>0.05492</td>\n",
       "      <td>...</td>\n",
       "      <td>0.08771</td>\n",
       "      <td>0.01353</td>\n",
       "      <td>20.644</td>\n",
       "      <td>1</td>\n",
       "      <td>0.434969</td>\n",
       "      <td>0.819235</td>\n",
       "      <td>-4.117501</td>\n",
       "      <td>0.334147</td>\n",
       "      <td>2.405554</td>\n",
       "      <td>0.368975</td>\n",
       "    </tr>\n",
       "    <tr>\n",
       "      <th>4</th>\n",
       "      <td>phon_R01_S01_5</td>\n",
       "      <td>116.014</td>\n",
       "      <td>141.781</td>\n",
       "      <td>110.655</td>\n",
       "      <td>0.01284</td>\n",
       "      <td>0.00011</td>\n",
       "      <td>0.00655</td>\n",
       "      <td>0.00908</td>\n",
       "      <td>0.01966</td>\n",
       "      <td>0.06425</td>\n",
       "      <td>...</td>\n",
       "      <td>0.10470</td>\n",
       "      <td>0.01767</td>\n",
       "      <td>19.649</td>\n",
       "      <td>1</td>\n",
       "      <td>0.417356</td>\n",
       "      <td>0.823484</td>\n",
       "      <td>-3.747787</td>\n",
       "      <td>0.234513</td>\n",
       "      <td>2.332180</td>\n",
       "      <td>0.410335</td>\n",
       "    </tr>\n",
       "    <tr>\n",
       "      <th>5</th>\n",
       "      <td>phon_R01_S01_6</td>\n",
       "      <td>120.552</td>\n",
       "      <td>131.162</td>\n",
       "      <td>113.787</td>\n",
       "      <td>0.00968</td>\n",
       "      <td>0.00008</td>\n",
       "      <td>0.00463</td>\n",
       "      <td>0.00750</td>\n",
       "      <td>0.01388</td>\n",
       "      <td>0.04701</td>\n",
       "      <td>...</td>\n",
       "      <td>0.06985</td>\n",
       "      <td>0.01222</td>\n",
       "      <td>21.378</td>\n",
       "      <td>1</td>\n",
       "      <td>0.415564</td>\n",
       "      <td>0.825069</td>\n",
       "      <td>-4.242867</td>\n",
       "      <td>0.299111</td>\n",
       "      <td>2.187560</td>\n",
       "      <td>0.357775</td>\n",
       "    </tr>\n",
       "    <tr>\n",
       "      <th>6</th>\n",
       "      <td>phon_R01_S02_1</td>\n",
       "      <td>120.267</td>\n",
       "      <td>137.244</td>\n",
       "      <td>114.820</td>\n",
       "      <td>0.00333</td>\n",
       "      <td>0.00003</td>\n",
       "      <td>0.00155</td>\n",
       "      <td>0.00202</td>\n",
       "      <td>0.00466</td>\n",
       "      <td>0.01608</td>\n",
       "      <td>...</td>\n",
       "      <td>0.02337</td>\n",
       "      <td>0.00607</td>\n",
       "      <td>24.886</td>\n",
       "      <td>1</td>\n",
       "      <td>0.596040</td>\n",
       "      <td>0.764112</td>\n",
       "      <td>-5.634322</td>\n",
       "      <td>0.257682</td>\n",
       "      <td>1.854785</td>\n",
       "      <td>0.211756</td>\n",
       "    </tr>\n",
       "    <tr>\n",
       "      <th>7</th>\n",
       "      <td>phon_R01_S02_2</td>\n",
       "      <td>107.332</td>\n",
       "      <td>113.840</td>\n",
       "      <td>104.315</td>\n",
       "      <td>0.00290</td>\n",
       "      <td>0.00003</td>\n",
       "      <td>0.00144</td>\n",
       "      <td>0.00182</td>\n",
       "      <td>0.00431</td>\n",
       "      <td>0.01567</td>\n",
       "      <td>...</td>\n",
       "      <td>0.02487</td>\n",
       "      <td>0.00344</td>\n",
       "      <td>26.892</td>\n",
       "      <td>1</td>\n",
       "      <td>0.637420</td>\n",
       "      <td>0.763262</td>\n",
       "      <td>-6.167603</td>\n",
       "      <td>0.183721</td>\n",
       "      <td>2.064693</td>\n",
       "      <td>0.163755</td>\n",
       "    </tr>\n",
       "    <tr>\n",
       "      <th>8</th>\n",
       "      <td>phon_R01_S02_3</td>\n",
       "      <td>95.730</td>\n",
       "      <td>132.068</td>\n",
       "      <td>91.754</td>\n",
       "      <td>0.00551</td>\n",
       "      <td>0.00006</td>\n",
       "      <td>0.00293</td>\n",
       "      <td>0.00332</td>\n",
       "      <td>0.00880</td>\n",
       "      <td>0.02093</td>\n",
       "      <td>...</td>\n",
       "      <td>0.03218</td>\n",
       "      <td>0.01070</td>\n",
       "      <td>21.812</td>\n",
       "      <td>1</td>\n",
       "      <td>0.615551</td>\n",
       "      <td>0.773587</td>\n",
       "      <td>-5.498678</td>\n",
       "      <td>0.327769</td>\n",
       "      <td>2.322511</td>\n",
       "      <td>0.231571</td>\n",
       "    </tr>\n",
       "    <tr>\n",
       "      <th>9</th>\n",
       "      <td>phon_R01_S02_4</td>\n",
       "      <td>95.056</td>\n",
       "      <td>120.103</td>\n",
       "      <td>91.226</td>\n",
       "      <td>0.00532</td>\n",
       "      <td>0.00006</td>\n",
       "      <td>0.00268</td>\n",
       "      <td>0.00332</td>\n",
       "      <td>0.00803</td>\n",
       "      <td>0.02838</td>\n",
       "      <td>...</td>\n",
       "      <td>0.04324</td>\n",
       "      <td>0.01022</td>\n",
       "      <td>21.862</td>\n",
       "      <td>1</td>\n",
       "      <td>0.547037</td>\n",
       "      <td>0.798463</td>\n",
       "      <td>-5.011879</td>\n",
       "      <td>0.325996</td>\n",
       "      <td>2.432792</td>\n",
       "      <td>0.271362</td>\n",
       "    </tr>\n",
       "  </tbody>\n",
       "</table>\n",
       "<p>10 rows × 24 columns</p>\n",
       "</div>"
      ],
      "text/plain": [
       "             name  MDVP:Fo(Hz)  MDVP:Fhi(Hz)  MDVP:Flo(Hz)  MDVP:Jitter(%)  \\\n",
       "0  phon_R01_S01_1      119.992       157.302        74.997         0.00784   \n",
       "1  phon_R01_S01_2      122.400       148.650       113.819         0.00968   \n",
       "2  phon_R01_S01_3      116.682       131.111       111.555         0.01050   \n",
       "3  phon_R01_S01_4      116.676       137.871       111.366         0.00997   \n",
       "4  phon_R01_S01_5      116.014       141.781       110.655         0.01284   \n",
       "5  phon_R01_S01_6      120.552       131.162       113.787         0.00968   \n",
       "6  phon_R01_S02_1      120.267       137.244       114.820         0.00333   \n",
       "7  phon_R01_S02_2      107.332       113.840       104.315         0.00290   \n",
       "8  phon_R01_S02_3       95.730       132.068        91.754         0.00551   \n",
       "9  phon_R01_S02_4       95.056       120.103        91.226         0.00532   \n",
       "\n",
       "   MDVP:Jitter(Abs)  MDVP:RAP  MDVP:PPQ  Jitter:DDP  MDVP:Shimmer    ...     \\\n",
       "0           0.00007   0.00370   0.00554     0.01109       0.04374    ...      \n",
       "1           0.00008   0.00465   0.00696     0.01394       0.06134    ...      \n",
       "2           0.00009   0.00544   0.00781     0.01633       0.05233    ...      \n",
       "3           0.00009   0.00502   0.00698     0.01505       0.05492    ...      \n",
       "4           0.00011   0.00655   0.00908     0.01966       0.06425    ...      \n",
       "5           0.00008   0.00463   0.00750     0.01388       0.04701    ...      \n",
       "6           0.00003   0.00155   0.00202     0.00466       0.01608    ...      \n",
       "7           0.00003   0.00144   0.00182     0.00431       0.01567    ...      \n",
       "8           0.00006   0.00293   0.00332     0.00880       0.02093    ...      \n",
       "9           0.00006   0.00268   0.00332     0.00803       0.02838    ...      \n",
       "\n",
       "   Shimmer:DDA      NHR     HNR  status      RPDE       DFA   spread1  \\\n",
       "0      0.06545  0.02211  21.033       1  0.414783  0.815285 -4.813031   \n",
       "1      0.09403  0.01929  19.085       1  0.458359  0.819521 -4.075192   \n",
       "2      0.08270  0.01309  20.651       1  0.429895  0.825288 -4.443179   \n",
       "3      0.08771  0.01353  20.644       1  0.434969  0.819235 -4.117501   \n",
       "4      0.10470  0.01767  19.649       1  0.417356  0.823484 -3.747787   \n",
       "5      0.06985  0.01222  21.378       1  0.415564  0.825069 -4.242867   \n",
       "6      0.02337  0.00607  24.886       1  0.596040  0.764112 -5.634322   \n",
       "7      0.02487  0.00344  26.892       1  0.637420  0.763262 -6.167603   \n",
       "8      0.03218  0.01070  21.812       1  0.615551  0.773587 -5.498678   \n",
       "9      0.04324  0.01022  21.862       1  0.547037  0.798463 -5.011879   \n",
       "\n",
       "    spread2        D2       PPE  \n",
       "0  0.266482  2.301442  0.284654  \n",
       "1  0.335590  2.486855  0.368674  \n",
       "2  0.311173  2.342259  0.332634  \n",
       "3  0.334147  2.405554  0.368975  \n",
       "4  0.234513  2.332180  0.410335  \n",
       "5  0.299111  2.187560  0.357775  \n",
       "6  0.257682  1.854785  0.211756  \n",
       "7  0.183721  2.064693  0.163755  \n",
       "8  0.327769  2.322511  0.231571  \n",
       "9  0.325996  2.432792  0.271362  \n",
       "\n",
       "[10 rows x 24 columns]"
      ]
     },
     "execution_count": 4,
     "metadata": {},
     "output_type": "execute_result"
    }
   ],
   "source": [
    "pk_data.head(10)\n",
    "# View the first 10 rows of dataset"
   ]
  },
  {
   "cell_type": "code",
   "execution_count": 9,
   "metadata": {},
   "outputs": [
    {
     "data": {
      "text/html": [
       "<div>\n",
       "<style scoped>\n",
       "    .dataframe tbody tr th:only-of-type {\n",
       "        vertical-align: middle;\n",
       "    }\n",
       "\n",
       "    .dataframe tbody tr th {\n",
       "        vertical-align: top;\n",
       "    }\n",
       "\n",
       "    .dataframe thead th {\n",
       "        text-align: right;\n",
       "    }\n",
       "</style>\n",
       "<table border=\"1\" class=\"dataframe\">\n",
       "  <thead>\n",
       "    <tr style=\"text-align: right;\">\n",
       "      <th></th>\n",
       "      <th>MDVP:Fo(Hz)</th>\n",
       "      <th>MDVP:Fhi(Hz)</th>\n",
       "      <th>MDVP:Flo(Hz)</th>\n",
       "      <th>MDVP:Jitter(%)</th>\n",
       "      <th>MDVP:Jitter(Abs)</th>\n",
       "      <th>MDVP:RAP</th>\n",
       "      <th>MDVP:PPQ</th>\n",
       "      <th>Jitter:DDP</th>\n",
       "      <th>MDVP:Shimmer</th>\n",
       "      <th>MDVP:Shimmer(dB)</th>\n",
       "      <th>...</th>\n",
       "      <th>Shimmer:DDA</th>\n",
       "      <th>NHR</th>\n",
       "      <th>HNR</th>\n",
       "      <th>status</th>\n",
       "      <th>RPDE</th>\n",
       "      <th>DFA</th>\n",
       "      <th>spread1</th>\n",
       "      <th>spread2</th>\n",
       "      <th>D2</th>\n",
       "      <th>PPE</th>\n",
       "    </tr>\n",
       "  </thead>\n",
       "  <tbody>\n",
       "    <tr>\n",
       "      <th>count</th>\n",
       "      <td>195.000000</td>\n",
       "      <td>195.000000</td>\n",
       "      <td>195.000000</td>\n",
       "      <td>195.000000</td>\n",
       "      <td>195.000000</td>\n",
       "      <td>195.000000</td>\n",
       "      <td>195.000000</td>\n",
       "      <td>195.000000</td>\n",
       "      <td>195.000000</td>\n",
       "      <td>195.000000</td>\n",
       "      <td>...</td>\n",
       "      <td>195.000000</td>\n",
       "      <td>195.000000</td>\n",
       "      <td>195.000000</td>\n",
       "      <td>195.000000</td>\n",
       "      <td>195.000000</td>\n",
       "      <td>195.000000</td>\n",
       "      <td>195.000000</td>\n",
       "      <td>195.000000</td>\n",
       "      <td>195.000000</td>\n",
       "      <td>195.000000</td>\n",
       "    </tr>\n",
       "    <tr>\n",
       "      <th>mean</th>\n",
       "      <td>154.228641</td>\n",
       "      <td>197.104918</td>\n",
       "      <td>116.324631</td>\n",
       "      <td>0.006220</td>\n",
       "      <td>0.000044</td>\n",
       "      <td>0.003306</td>\n",
       "      <td>0.003446</td>\n",
       "      <td>0.009920</td>\n",
       "      <td>0.029709</td>\n",
       "      <td>0.282251</td>\n",
       "      <td>...</td>\n",
       "      <td>0.046993</td>\n",
       "      <td>0.024847</td>\n",
       "      <td>21.885974</td>\n",
       "      <td>0.753846</td>\n",
       "      <td>0.498536</td>\n",
       "      <td>0.718099</td>\n",
       "      <td>-5.684397</td>\n",
       "      <td>0.226510</td>\n",
       "      <td>2.381826</td>\n",
       "      <td>0.206552</td>\n",
       "    </tr>\n",
       "    <tr>\n",
       "      <th>std</th>\n",
       "      <td>41.390065</td>\n",
       "      <td>91.491548</td>\n",
       "      <td>43.521413</td>\n",
       "      <td>0.004848</td>\n",
       "      <td>0.000035</td>\n",
       "      <td>0.002968</td>\n",
       "      <td>0.002759</td>\n",
       "      <td>0.008903</td>\n",
       "      <td>0.018857</td>\n",
       "      <td>0.194877</td>\n",
       "      <td>...</td>\n",
       "      <td>0.030459</td>\n",
       "      <td>0.040418</td>\n",
       "      <td>4.425764</td>\n",
       "      <td>0.431878</td>\n",
       "      <td>0.103942</td>\n",
       "      <td>0.055336</td>\n",
       "      <td>1.090208</td>\n",
       "      <td>0.083406</td>\n",
       "      <td>0.382799</td>\n",
       "      <td>0.090119</td>\n",
       "    </tr>\n",
       "    <tr>\n",
       "      <th>min</th>\n",
       "      <td>88.333000</td>\n",
       "      <td>102.145000</td>\n",
       "      <td>65.476000</td>\n",
       "      <td>0.001680</td>\n",
       "      <td>0.000007</td>\n",
       "      <td>0.000680</td>\n",
       "      <td>0.000920</td>\n",
       "      <td>0.002040</td>\n",
       "      <td>0.009540</td>\n",
       "      <td>0.085000</td>\n",
       "      <td>...</td>\n",
       "      <td>0.013640</td>\n",
       "      <td>0.000650</td>\n",
       "      <td>8.441000</td>\n",
       "      <td>0.000000</td>\n",
       "      <td>0.256570</td>\n",
       "      <td>0.574282</td>\n",
       "      <td>-7.964984</td>\n",
       "      <td>0.006274</td>\n",
       "      <td>1.423287</td>\n",
       "      <td>0.044539</td>\n",
       "    </tr>\n",
       "    <tr>\n",
       "      <th>25%</th>\n",
       "      <td>117.572000</td>\n",
       "      <td>134.862500</td>\n",
       "      <td>84.291000</td>\n",
       "      <td>0.003460</td>\n",
       "      <td>0.000020</td>\n",
       "      <td>0.001660</td>\n",
       "      <td>0.001860</td>\n",
       "      <td>0.004985</td>\n",
       "      <td>0.016505</td>\n",
       "      <td>0.148500</td>\n",
       "      <td>...</td>\n",
       "      <td>0.024735</td>\n",
       "      <td>0.005925</td>\n",
       "      <td>19.198000</td>\n",
       "      <td>1.000000</td>\n",
       "      <td>0.421306</td>\n",
       "      <td>0.674758</td>\n",
       "      <td>-6.450096</td>\n",
       "      <td>0.174351</td>\n",
       "      <td>2.099125</td>\n",
       "      <td>0.137451</td>\n",
       "    </tr>\n",
       "    <tr>\n",
       "      <th>50%</th>\n",
       "      <td>148.790000</td>\n",
       "      <td>175.829000</td>\n",
       "      <td>104.315000</td>\n",
       "      <td>0.004940</td>\n",
       "      <td>0.000030</td>\n",
       "      <td>0.002500</td>\n",
       "      <td>0.002690</td>\n",
       "      <td>0.007490</td>\n",
       "      <td>0.022970</td>\n",
       "      <td>0.221000</td>\n",
       "      <td>...</td>\n",
       "      <td>0.038360</td>\n",
       "      <td>0.011660</td>\n",
       "      <td>22.085000</td>\n",
       "      <td>1.000000</td>\n",
       "      <td>0.495954</td>\n",
       "      <td>0.722254</td>\n",
       "      <td>-5.720868</td>\n",
       "      <td>0.218885</td>\n",
       "      <td>2.361532</td>\n",
       "      <td>0.194052</td>\n",
       "    </tr>\n",
       "    <tr>\n",
       "      <th>75%</th>\n",
       "      <td>182.769000</td>\n",
       "      <td>224.205500</td>\n",
       "      <td>140.018500</td>\n",
       "      <td>0.007365</td>\n",
       "      <td>0.000060</td>\n",
       "      <td>0.003835</td>\n",
       "      <td>0.003955</td>\n",
       "      <td>0.011505</td>\n",
       "      <td>0.037885</td>\n",
       "      <td>0.350000</td>\n",
       "      <td>...</td>\n",
       "      <td>0.060795</td>\n",
       "      <td>0.025640</td>\n",
       "      <td>25.075500</td>\n",
       "      <td>1.000000</td>\n",
       "      <td>0.587562</td>\n",
       "      <td>0.761881</td>\n",
       "      <td>-5.046192</td>\n",
       "      <td>0.279234</td>\n",
       "      <td>2.636456</td>\n",
       "      <td>0.252980</td>\n",
       "    </tr>\n",
       "    <tr>\n",
       "      <th>max</th>\n",
       "      <td>260.105000</td>\n",
       "      <td>592.030000</td>\n",
       "      <td>239.170000</td>\n",
       "      <td>0.033160</td>\n",
       "      <td>0.000260</td>\n",
       "      <td>0.021440</td>\n",
       "      <td>0.019580</td>\n",
       "      <td>0.064330</td>\n",
       "      <td>0.119080</td>\n",
       "      <td>1.302000</td>\n",
       "      <td>...</td>\n",
       "      <td>0.169420</td>\n",
       "      <td>0.314820</td>\n",
       "      <td>33.047000</td>\n",
       "      <td>1.000000</td>\n",
       "      <td>0.685151</td>\n",
       "      <td>0.825288</td>\n",
       "      <td>-2.434031</td>\n",
       "      <td>0.450493</td>\n",
       "      <td>3.671155</td>\n",
       "      <td>0.527367</td>\n",
       "    </tr>\n",
       "  </tbody>\n",
       "</table>\n",
       "<p>8 rows × 23 columns</p>\n",
       "</div>"
      ],
      "text/plain": [
       "       MDVP:Fo(Hz)  MDVP:Fhi(Hz)  MDVP:Flo(Hz)  MDVP:Jitter(%)  \\\n",
       "count   195.000000    195.000000    195.000000      195.000000   \n",
       "mean    154.228641    197.104918    116.324631        0.006220   \n",
       "std      41.390065     91.491548     43.521413        0.004848   \n",
       "min      88.333000    102.145000     65.476000        0.001680   \n",
       "25%     117.572000    134.862500     84.291000        0.003460   \n",
       "50%     148.790000    175.829000    104.315000        0.004940   \n",
       "75%     182.769000    224.205500    140.018500        0.007365   \n",
       "max     260.105000    592.030000    239.170000        0.033160   \n",
       "\n",
       "       MDVP:Jitter(Abs)    MDVP:RAP    MDVP:PPQ  Jitter:DDP  MDVP:Shimmer  \\\n",
       "count        195.000000  195.000000  195.000000  195.000000    195.000000   \n",
       "mean           0.000044    0.003306    0.003446    0.009920      0.029709   \n",
       "std            0.000035    0.002968    0.002759    0.008903      0.018857   \n",
       "min            0.000007    0.000680    0.000920    0.002040      0.009540   \n",
       "25%            0.000020    0.001660    0.001860    0.004985      0.016505   \n",
       "50%            0.000030    0.002500    0.002690    0.007490      0.022970   \n",
       "75%            0.000060    0.003835    0.003955    0.011505      0.037885   \n",
       "max            0.000260    0.021440    0.019580    0.064330      0.119080   \n",
       "\n",
       "       MDVP:Shimmer(dB)     ...      Shimmer:DDA         NHR         HNR  \\\n",
       "count        195.000000     ...       195.000000  195.000000  195.000000   \n",
       "mean           0.282251     ...         0.046993    0.024847   21.885974   \n",
       "std            0.194877     ...         0.030459    0.040418    4.425764   \n",
       "min            0.085000     ...         0.013640    0.000650    8.441000   \n",
       "25%            0.148500     ...         0.024735    0.005925   19.198000   \n",
       "50%            0.221000     ...         0.038360    0.011660   22.085000   \n",
       "75%            0.350000     ...         0.060795    0.025640   25.075500   \n",
       "max            1.302000     ...         0.169420    0.314820   33.047000   \n",
       "\n",
       "           status        RPDE         DFA     spread1     spread2          D2  \\\n",
       "count  195.000000  195.000000  195.000000  195.000000  195.000000  195.000000   \n",
       "mean     0.753846    0.498536    0.718099   -5.684397    0.226510    2.381826   \n",
       "std      0.431878    0.103942    0.055336    1.090208    0.083406    0.382799   \n",
       "min      0.000000    0.256570    0.574282   -7.964984    0.006274    1.423287   \n",
       "25%      1.000000    0.421306    0.674758   -6.450096    0.174351    2.099125   \n",
       "50%      1.000000    0.495954    0.722254   -5.720868    0.218885    2.361532   \n",
       "75%      1.000000    0.587562    0.761881   -5.046192    0.279234    2.636456   \n",
       "max      1.000000    0.685151    0.825288   -2.434031    0.450493    3.671155   \n",
       "\n",
       "              PPE  \n",
       "count  195.000000  \n",
       "mean     0.206552  \n",
       "std      0.090119  \n",
       "min      0.044539  \n",
       "25%      0.137451  \n",
       "50%      0.194052  \n",
       "75%      0.252980  \n",
       "max      0.527367  \n",
       "\n",
       "[8 rows x 23 columns]"
      ]
     },
     "execution_count": 9,
     "metadata": {},
     "output_type": "execute_result"
    }
   ],
   "source": [
    "pk_data.describe()\n",
    "# View the statistical measures for all the attributes, using describe function"
   ]
  },
  {
   "cell_type": "code",
   "execution_count": 11,
   "metadata": {},
   "outputs": [
    {
     "data": {
      "text/html": [
       "<div>\n",
       "<style scoped>\n",
       "    .dataframe tbody tr th:only-of-type {\n",
       "        vertical-align: middle;\n",
       "    }\n",
       "\n",
       "    .dataframe tbody tr th {\n",
       "        vertical-align: top;\n",
       "    }\n",
       "\n",
       "    .dataframe thead th {\n",
       "        text-align: right;\n",
       "    }\n",
       "</style>\n",
       "<table border=\"1\" class=\"dataframe\">\n",
       "  <thead>\n",
       "    <tr style=\"text-align: right;\">\n",
       "      <th></th>\n",
       "      <th>MDVP:Fo(Hz)</th>\n",
       "      <th>MDVP:Fhi(Hz)</th>\n",
       "      <th>MDVP:Flo(Hz)</th>\n",
       "      <th>MDVP:Jitter(%)</th>\n",
       "      <th>MDVP:Jitter(Abs)</th>\n",
       "      <th>MDVP:RAP</th>\n",
       "      <th>MDVP:PPQ</th>\n",
       "      <th>Jitter:DDP</th>\n",
       "      <th>MDVP:Shimmer</th>\n",
       "      <th>MDVP:Shimmer(dB)</th>\n",
       "      <th>...</th>\n",
       "      <th>Shimmer:DDA</th>\n",
       "      <th>NHR</th>\n",
       "      <th>HNR</th>\n",
       "      <th>status</th>\n",
       "      <th>RPDE</th>\n",
       "      <th>DFA</th>\n",
       "      <th>spread1</th>\n",
       "      <th>spread2</th>\n",
       "      <th>D2</th>\n",
       "      <th>PPE</th>\n",
       "    </tr>\n",
       "  </thead>\n",
       "  <tbody>\n",
       "    <tr>\n",
       "      <th>MDVP:Fo(Hz)</th>\n",
       "      <td>1.000000</td>\n",
       "      <td>0.400985</td>\n",
       "      <td>0.596546</td>\n",
       "      <td>-0.118003</td>\n",
       "      <td>-0.382027</td>\n",
       "      <td>-0.076194</td>\n",
       "      <td>-0.112165</td>\n",
       "      <td>-0.076213</td>\n",
       "      <td>-0.098374</td>\n",
       "      <td>-0.073742</td>\n",
       "      <td>...</td>\n",
       "      <td>-0.094732</td>\n",
       "      <td>-0.021981</td>\n",
       "      <td>0.059144</td>\n",
       "      <td>-0.383535</td>\n",
       "      <td>-0.383894</td>\n",
       "      <td>-0.446013</td>\n",
       "      <td>-0.413738</td>\n",
       "      <td>-0.249450</td>\n",
       "      <td>0.177980</td>\n",
       "      <td>-0.372356</td>\n",
       "    </tr>\n",
       "    <tr>\n",
       "      <th>MDVP:Fhi(Hz)</th>\n",
       "      <td>0.400985</td>\n",
       "      <td>1.000000</td>\n",
       "      <td>0.084951</td>\n",
       "      <td>0.102086</td>\n",
       "      <td>-0.029198</td>\n",
       "      <td>0.097177</td>\n",
       "      <td>0.091126</td>\n",
       "      <td>0.097150</td>\n",
       "      <td>0.002281</td>\n",
       "      <td>0.043465</td>\n",
       "      <td>...</td>\n",
       "      <td>-0.003733</td>\n",
       "      <td>0.163766</td>\n",
       "      <td>-0.024893</td>\n",
       "      <td>-0.166136</td>\n",
       "      <td>-0.112404</td>\n",
       "      <td>-0.343097</td>\n",
       "      <td>-0.076658</td>\n",
       "      <td>-0.002954</td>\n",
       "      <td>0.176323</td>\n",
       "      <td>-0.069543</td>\n",
       "    </tr>\n",
       "    <tr>\n",
       "      <th>MDVP:Flo(Hz)</th>\n",
       "      <td>0.596546</td>\n",
       "      <td>0.084951</td>\n",
       "      <td>1.000000</td>\n",
       "      <td>-0.139919</td>\n",
       "      <td>-0.277815</td>\n",
       "      <td>-0.100519</td>\n",
       "      <td>-0.095828</td>\n",
       "      <td>-0.100488</td>\n",
       "      <td>-0.144543</td>\n",
       "      <td>-0.119089</td>\n",
       "      <td>...</td>\n",
       "      <td>-0.150737</td>\n",
       "      <td>-0.108670</td>\n",
       "      <td>0.210851</td>\n",
       "      <td>-0.380200</td>\n",
       "      <td>-0.400143</td>\n",
       "      <td>-0.050406</td>\n",
       "      <td>-0.394857</td>\n",
       "      <td>-0.243829</td>\n",
       "      <td>-0.100629</td>\n",
       "      <td>-0.340071</td>\n",
       "    </tr>\n",
       "    <tr>\n",
       "      <th>MDVP:Jitter(%)</th>\n",
       "      <td>-0.118003</td>\n",
       "      <td>0.102086</td>\n",
       "      <td>-0.139919</td>\n",
       "      <td>1.000000</td>\n",
       "      <td>0.935714</td>\n",
       "      <td>0.990276</td>\n",
       "      <td>0.974256</td>\n",
       "      <td>0.990276</td>\n",
       "      <td>0.769063</td>\n",
       "      <td>0.804289</td>\n",
       "      <td>...</td>\n",
       "      <td>0.746635</td>\n",
       "      <td>0.906959</td>\n",
       "      <td>-0.728165</td>\n",
       "      <td>0.278220</td>\n",
       "      <td>0.360673</td>\n",
       "      <td>0.098572</td>\n",
       "      <td>0.693577</td>\n",
       "      <td>0.385123</td>\n",
       "      <td>0.433434</td>\n",
       "      <td>0.721543</td>\n",
       "    </tr>\n",
       "    <tr>\n",
       "      <th>MDVP:Jitter(Abs)</th>\n",
       "      <td>-0.382027</td>\n",
       "      <td>-0.029198</td>\n",
       "      <td>-0.277815</td>\n",
       "      <td>0.935714</td>\n",
       "      <td>1.000000</td>\n",
       "      <td>0.922911</td>\n",
       "      <td>0.897778</td>\n",
       "      <td>0.922913</td>\n",
       "      <td>0.703322</td>\n",
       "      <td>0.716601</td>\n",
       "      <td>...</td>\n",
       "      <td>0.697170</td>\n",
       "      <td>0.834972</td>\n",
       "      <td>-0.656810</td>\n",
       "      <td>0.338653</td>\n",
       "      <td>0.441839</td>\n",
       "      <td>0.175036</td>\n",
       "      <td>0.735779</td>\n",
       "      <td>0.388543</td>\n",
       "      <td>0.310694</td>\n",
       "      <td>0.748162</td>\n",
       "    </tr>\n",
       "    <tr>\n",
       "      <th>MDVP:RAP</th>\n",
       "      <td>-0.076194</td>\n",
       "      <td>0.097177</td>\n",
       "      <td>-0.100519</td>\n",
       "      <td>0.990276</td>\n",
       "      <td>0.922911</td>\n",
       "      <td>1.000000</td>\n",
       "      <td>0.957317</td>\n",
       "      <td>1.000000</td>\n",
       "      <td>0.759581</td>\n",
       "      <td>0.790652</td>\n",
       "      <td>...</td>\n",
       "      <td>0.744919</td>\n",
       "      <td>0.919521</td>\n",
       "      <td>-0.721543</td>\n",
       "      <td>0.266668</td>\n",
       "      <td>0.342140</td>\n",
       "      <td>0.064083</td>\n",
       "      <td>0.648328</td>\n",
       "      <td>0.324407</td>\n",
       "      <td>0.426605</td>\n",
       "      <td>0.670999</td>\n",
       "    </tr>\n",
       "    <tr>\n",
       "      <th>MDVP:PPQ</th>\n",
       "      <td>-0.112165</td>\n",
       "      <td>0.091126</td>\n",
       "      <td>-0.095828</td>\n",
       "      <td>0.974256</td>\n",
       "      <td>0.897778</td>\n",
       "      <td>0.957317</td>\n",
       "      <td>1.000000</td>\n",
       "      <td>0.957319</td>\n",
       "      <td>0.797826</td>\n",
       "      <td>0.839239</td>\n",
       "      <td>...</td>\n",
       "      <td>0.763592</td>\n",
       "      <td>0.844604</td>\n",
       "      <td>-0.731510</td>\n",
       "      <td>0.288698</td>\n",
       "      <td>0.333274</td>\n",
       "      <td>0.196301</td>\n",
       "      <td>0.716489</td>\n",
       "      <td>0.407605</td>\n",
       "      <td>0.412524</td>\n",
       "      <td>0.769647</td>\n",
       "    </tr>\n",
       "    <tr>\n",
       "      <th>Jitter:DDP</th>\n",
       "      <td>-0.076213</td>\n",
       "      <td>0.097150</td>\n",
       "      <td>-0.100488</td>\n",
       "      <td>0.990276</td>\n",
       "      <td>0.922913</td>\n",
       "      <td>1.000000</td>\n",
       "      <td>0.957319</td>\n",
       "      <td>1.000000</td>\n",
       "      <td>0.759555</td>\n",
       "      <td>0.790621</td>\n",
       "      <td>...</td>\n",
       "      <td>0.744901</td>\n",
       "      <td>0.919548</td>\n",
       "      <td>-0.721494</td>\n",
       "      <td>0.266646</td>\n",
       "      <td>0.342079</td>\n",
       "      <td>0.064026</td>\n",
       "      <td>0.648328</td>\n",
       "      <td>0.324377</td>\n",
       "      <td>0.426556</td>\n",
       "      <td>0.671005</td>\n",
       "    </tr>\n",
       "    <tr>\n",
       "      <th>MDVP:Shimmer</th>\n",
       "      <td>-0.098374</td>\n",
       "      <td>0.002281</td>\n",
       "      <td>-0.144543</td>\n",
       "      <td>0.769063</td>\n",
       "      <td>0.703322</td>\n",
       "      <td>0.759581</td>\n",
       "      <td>0.797826</td>\n",
       "      <td>0.759555</td>\n",
       "      <td>1.000000</td>\n",
       "      <td>0.987258</td>\n",
       "      <td>...</td>\n",
       "      <td>0.987626</td>\n",
       "      <td>0.722194</td>\n",
       "      <td>-0.835271</td>\n",
       "      <td>0.367430</td>\n",
       "      <td>0.447424</td>\n",
       "      <td>0.159954</td>\n",
       "      <td>0.654734</td>\n",
       "      <td>0.452025</td>\n",
       "      <td>0.507088</td>\n",
       "      <td>0.693771</td>\n",
       "    </tr>\n",
       "    <tr>\n",
       "      <th>MDVP:Shimmer(dB)</th>\n",
       "      <td>-0.073742</td>\n",
       "      <td>0.043465</td>\n",
       "      <td>-0.119089</td>\n",
       "      <td>0.804289</td>\n",
       "      <td>0.716601</td>\n",
       "      <td>0.790652</td>\n",
       "      <td>0.839239</td>\n",
       "      <td>0.790621</td>\n",
       "      <td>0.987258</td>\n",
       "      <td>1.000000</td>\n",
       "      <td>...</td>\n",
       "      <td>0.963202</td>\n",
       "      <td>0.744477</td>\n",
       "      <td>-0.827805</td>\n",
       "      <td>0.350697</td>\n",
       "      <td>0.410684</td>\n",
       "      <td>0.165157</td>\n",
       "      <td>0.652547</td>\n",
       "      <td>0.454314</td>\n",
       "      <td>0.512233</td>\n",
       "      <td>0.695058</td>\n",
       "    </tr>\n",
       "    <tr>\n",
       "      <th>Shimmer:APQ3</th>\n",
       "      <td>-0.094717</td>\n",
       "      <td>-0.003743</td>\n",
       "      <td>-0.150747</td>\n",
       "      <td>0.746625</td>\n",
       "      <td>0.697153</td>\n",
       "      <td>0.744912</td>\n",
       "      <td>0.763580</td>\n",
       "      <td>0.744894</td>\n",
       "      <td>0.987625</td>\n",
       "      <td>0.963198</td>\n",
       "      <td>...</td>\n",
       "      <td>1.000000</td>\n",
       "      <td>0.716207</td>\n",
       "      <td>-0.827123</td>\n",
       "      <td>0.347617</td>\n",
       "      <td>0.435242</td>\n",
       "      <td>0.151124</td>\n",
       "      <td>0.610967</td>\n",
       "      <td>0.402243</td>\n",
       "      <td>0.467265</td>\n",
       "      <td>0.645377</td>\n",
       "    </tr>\n",
       "    <tr>\n",
       "      <th>Shimmer:APQ5</th>\n",
       "      <td>-0.070682</td>\n",
       "      <td>-0.009997</td>\n",
       "      <td>-0.101095</td>\n",
       "      <td>0.725561</td>\n",
       "      <td>0.648961</td>\n",
       "      <td>0.709927</td>\n",
       "      <td>0.786780</td>\n",
       "      <td>0.709907</td>\n",
       "      <td>0.982835</td>\n",
       "      <td>0.973751</td>\n",
       "      <td>...</td>\n",
       "      <td>0.960072</td>\n",
       "      <td>0.658080</td>\n",
       "      <td>-0.813753</td>\n",
       "      <td>0.351148</td>\n",
       "      <td>0.399903</td>\n",
       "      <td>0.213873</td>\n",
       "      <td>0.646809</td>\n",
       "      <td>0.457195</td>\n",
       "      <td>0.502174</td>\n",
       "      <td>0.702456</td>\n",
       "    </tr>\n",
       "    <tr>\n",
       "      <th>MDVP:APQ</th>\n",
       "      <td>-0.077774</td>\n",
       "      <td>0.004937</td>\n",
       "      <td>-0.107293</td>\n",
       "      <td>0.758255</td>\n",
       "      <td>0.648793</td>\n",
       "      <td>0.737455</td>\n",
       "      <td>0.804139</td>\n",
       "      <td>0.737439</td>\n",
       "      <td>0.950083</td>\n",
       "      <td>0.960977</td>\n",
       "      <td>...</td>\n",
       "      <td>0.896647</td>\n",
       "      <td>0.694019</td>\n",
       "      <td>-0.800407</td>\n",
       "      <td>0.364316</td>\n",
       "      <td>0.451379</td>\n",
       "      <td>0.157276</td>\n",
       "      <td>0.673158</td>\n",
       "      <td>0.502188</td>\n",
       "      <td>0.536869</td>\n",
       "      <td>0.721694</td>\n",
       "    </tr>\n",
       "    <tr>\n",
       "      <th>Shimmer:DDA</th>\n",
       "      <td>-0.094732</td>\n",
       "      <td>-0.003733</td>\n",
       "      <td>-0.150737</td>\n",
       "      <td>0.746635</td>\n",
       "      <td>0.697170</td>\n",
       "      <td>0.744919</td>\n",
       "      <td>0.763592</td>\n",
       "      <td>0.744901</td>\n",
       "      <td>0.987626</td>\n",
       "      <td>0.963202</td>\n",
       "      <td>...</td>\n",
       "      <td>1.000000</td>\n",
       "      <td>0.716215</td>\n",
       "      <td>-0.827130</td>\n",
       "      <td>0.347608</td>\n",
       "      <td>0.435237</td>\n",
       "      <td>0.151132</td>\n",
       "      <td>0.610971</td>\n",
       "      <td>0.402223</td>\n",
       "      <td>0.467261</td>\n",
       "      <td>0.645389</td>\n",
       "    </tr>\n",
       "    <tr>\n",
       "      <th>NHR</th>\n",
       "      <td>-0.021981</td>\n",
       "      <td>0.163766</td>\n",
       "      <td>-0.108670</td>\n",
       "      <td>0.906959</td>\n",
       "      <td>0.834972</td>\n",
       "      <td>0.919521</td>\n",
       "      <td>0.844604</td>\n",
       "      <td>0.919548</td>\n",
       "      <td>0.722194</td>\n",
       "      <td>0.744477</td>\n",
       "      <td>...</td>\n",
       "      <td>0.716215</td>\n",
       "      <td>1.000000</td>\n",
       "      <td>-0.714072</td>\n",
       "      <td>0.189429</td>\n",
       "      <td>0.370890</td>\n",
       "      <td>-0.131882</td>\n",
       "      <td>0.540865</td>\n",
       "      <td>0.318099</td>\n",
       "      <td>0.470949</td>\n",
       "      <td>0.552591</td>\n",
       "    </tr>\n",
       "    <tr>\n",
       "      <th>HNR</th>\n",
       "      <td>0.059144</td>\n",
       "      <td>-0.024893</td>\n",
       "      <td>0.210851</td>\n",
       "      <td>-0.728165</td>\n",
       "      <td>-0.656810</td>\n",
       "      <td>-0.721543</td>\n",
       "      <td>-0.731510</td>\n",
       "      <td>-0.721494</td>\n",
       "      <td>-0.835271</td>\n",
       "      <td>-0.827805</td>\n",
       "      <td>...</td>\n",
       "      <td>-0.827130</td>\n",
       "      <td>-0.714072</td>\n",
       "      <td>1.000000</td>\n",
       "      <td>-0.361515</td>\n",
       "      <td>-0.598736</td>\n",
       "      <td>-0.008665</td>\n",
       "      <td>-0.673210</td>\n",
       "      <td>-0.431564</td>\n",
       "      <td>-0.601401</td>\n",
       "      <td>-0.692876</td>\n",
       "    </tr>\n",
       "    <tr>\n",
       "      <th>status</th>\n",
       "      <td>-0.383535</td>\n",
       "      <td>-0.166136</td>\n",
       "      <td>-0.380200</td>\n",
       "      <td>0.278220</td>\n",
       "      <td>0.338653</td>\n",
       "      <td>0.266668</td>\n",
       "      <td>0.288698</td>\n",
       "      <td>0.266646</td>\n",
       "      <td>0.367430</td>\n",
       "      <td>0.350697</td>\n",
       "      <td>...</td>\n",
       "      <td>0.347608</td>\n",
       "      <td>0.189429</td>\n",
       "      <td>-0.361515</td>\n",
       "      <td>1.000000</td>\n",
       "      <td>0.308567</td>\n",
       "      <td>0.231739</td>\n",
       "      <td>0.564838</td>\n",
       "      <td>0.454842</td>\n",
       "      <td>0.340232</td>\n",
       "      <td>0.531039</td>\n",
       "    </tr>\n",
       "    <tr>\n",
       "      <th>RPDE</th>\n",
       "      <td>-0.383894</td>\n",
       "      <td>-0.112404</td>\n",
       "      <td>-0.400143</td>\n",
       "      <td>0.360673</td>\n",
       "      <td>0.441839</td>\n",
       "      <td>0.342140</td>\n",
       "      <td>0.333274</td>\n",
       "      <td>0.342079</td>\n",
       "      <td>0.447424</td>\n",
       "      <td>0.410684</td>\n",
       "      <td>...</td>\n",
       "      <td>0.435237</td>\n",
       "      <td>0.370890</td>\n",
       "      <td>-0.598736</td>\n",
       "      <td>0.308567</td>\n",
       "      <td>1.000000</td>\n",
       "      <td>-0.110950</td>\n",
       "      <td>0.591117</td>\n",
       "      <td>0.479905</td>\n",
       "      <td>0.236931</td>\n",
       "      <td>0.545886</td>\n",
       "    </tr>\n",
       "    <tr>\n",
       "      <th>DFA</th>\n",
       "      <td>-0.446013</td>\n",
       "      <td>-0.343097</td>\n",
       "      <td>-0.050406</td>\n",
       "      <td>0.098572</td>\n",
       "      <td>0.175036</td>\n",
       "      <td>0.064083</td>\n",
       "      <td>0.196301</td>\n",
       "      <td>0.064026</td>\n",
       "      <td>0.159954</td>\n",
       "      <td>0.165157</td>\n",
       "      <td>...</td>\n",
       "      <td>0.151132</td>\n",
       "      <td>-0.131882</td>\n",
       "      <td>-0.008665</td>\n",
       "      <td>0.231739</td>\n",
       "      <td>-0.110950</td>\n",
       "      <td>1.000000</td>\n",
       "      <td>0.195668</td>\n",
       "      <td>0.166548</td>\n",
       "      <td>-0.165381</td>\n",
       "      <td>0.270445</td>\n",
       "    </tr>\n",
       "    <tr>\n",
       "      <th>spread1</th>\n",
       "      <td>-0.413738</td>\n",
       "      <td>-0.076658</td>\n",
       "      <td>-0.394857</td>\n",
       "      <td>0.693577</td>\n",
       "      <td>0.735779</td>\n",
       "      <td>0.648328</td>\n",
       "      <td>0.716489</td>\n",
       "      <td>0.648328</td>\n",
       "      <td>0.654734</td>\n",
       "      <td>0.652547</td>\n",
       "      <td>...</td>\n",
       "      <td>0.610971</td>\n",
       "      <td>0.540865</td>\n",
       "      <td>-0.673210</td>\n",
       "      <td>0.564838</td>\n",
       "      <td>0.591117</td>\n",
       "      <td>0.195668</td>\n",
       "      <td>1.000000</td>\n",
       "      <td>0.652358</td>\n",
       "      <td>0.495123</td>\n",
       "      <td>0.962435</td>\n",
       "    </tr>\n",
       "    <tr>\n",
       "      <th>spread2</th>\n",
       "      <td>-0.249450</td>\n",
       "      <td>-0.002954</td>\n",
       "      <td>-0.243829</td>\n",
       "      <td>0.385123</td>\n",
       "      <td>0.388543</td>\n",
       "      <td>0.324407</td>\n",
       "      <td>0.407605</td>\n",
       "      <td>0.324377</td>\n",
       "      <td>0.452025</td>\n",
       "      <td>0.454314</td>\n",
       "      <td>...</td>\n",
       "      <td>0.402223</td>\n",
       "      <td>0.318099</td>\n",
       "      <td>-0.431564</td>\n",
       "      <td>0.454842</td>\n",
       "      <td>0.479905</td>\n",
       "      <td>0.166548</td>\n",
       "      <td>0.652358</td>\n",
       "      <td>1.000000</td>\n",
       "      <td>0.523532</td>\n",
       "      <td>0.644711</td>\n",
       "    </tr>\n",
       "    <tr>\n",
       "      <th>D2</th>\n",
       "      <td>0.177980</td>\n",
       "      <td>0.176323</td>\n",
       "      <td>-0.100629</td>\n",
       "      <td>0.433434</td>\n",
       "      <td>0.310694</td>\n",
       "      <td>0.426605</td>\n",
       "      <td>0.412524</td>\n",
       "      <td>0.426556</td>\n",
       "      <td>0.507088</td>\n",
       "      <td>0.512233</td>\n",
       "      <td>...</td>\n",
       "      <td>0.467261</td>\n",
       "      <td>0.470949</td>\n",
       "      <td>-0.601401</td>\n",
       "      <td>0.340232</td>\n",
       "      <td>0.236931</td>\n",
       "      <td>-0.165381</td>\n",
       "      <td>0.495123</td>\n",
       "      <td>0.523532</td>\n",
       "      <td>1.000000</td>\n",
       "      <td>0.480585</td>\n",
       "    </tr>\n",
       "    <tr>\n",
       "      <th>PPE</th>\n",
       "      <td>-0.372356</td>\n",
       "      <td>-0.069543</td>\n",
       "      <td>-0.340071</td>\n",
       "      <td>0.721543</td>\n",
       "      <td>0.748162</td>\n",
       "      <td>0.670999</td>\n",
       "      <td>0.769647</td>\n",
       "      <td>0.671005</td>\n",
       "      <td>0.693771</td>\n",
       "      <td>0.695058</td>\n",
       "      <td>...</td>\n",
       "      <td>0.645389</td>\n",
       "      <td>0.552591</td>\n",
       "      <td>-0.692876</td>\n",
       "      <td>0.531039</td>\n",
       "      <td>0.545886</td>\n",
       "      <td>0.270445</td>\n",
       "      <td>0.962435</td>\n",
       "      <td>0.644711</td>\n",
       "      <td>0.480585</td>\n",
       "      <td>1.000000</td>\n",
       "    </tr>\n",
       "  </tbody>\n",
       "</table>\n",
       "<p>23 rows × 23 columns</p>\n",
       "</div>"
      ],
      "text/plain": [
       "                  MDVP:Fo(Hz)  MDVP:Fhi(Hz)  MDVP:Flo(Hz)  MDVP:Jitter(%)  \\\n",
       "MDVP:Fo(Hz)          1.000000      0.400985      0.596546       -0.118003   \n",
       "MDVP:Fhi(Hz)         0.400985      1.000000      0.084951        0.102086   \n",
       "MDVP:Flo(Hz)         0.596546      0.084951      1.000000       -0.139919   \n",
       "MDVP:Jitter(%)      -0.118003      0.102086     -0.139919        1.000000   \n",
       "MDVP:Jitter(Abs)    -0.382027     -0.029198     -0.277815        0.935714   \n",
       "MDVP:RAP            -0.076194      0.097177     -0.100519        0.990276   \n",
       "MDVP:PPQ            -0.112165      0.091126     -0.095828        0.974256   \n",
       "Jitter:DDP          -0.076213      0.097150     -0.100488        0.990276   \n",
       "MDVP:Shimmer        -0.098374      0.002281     -0.144543        0.769063   \n",
       "MDVP:Shimmer(dB)    -0.073742      0.043465     -0.119089        0.804289   \n",
       "Shimmer:APQ3        -0.094717     -0.003743     -0.150747        0.746625   \n",
       "Shimmer:APQ5        -0.070682     -0.009997     -0.101095        0.725561   \n",
       "MDVP:APQ            -0.077774      0.004937     -0.107293        0.758255   \n",
       "Shimmer:DDA         -0.094732     -0.003733     -0.150737        0.746635   \n",
       "NHR                 -0.021981      0.163766     -0.108670        0.906959   \n",
       "HNR                  0.059144     -0.024893      0.210851       -0.728165   \n",
       "status              -0.383535     -0.166136     -0.380200        0.278220   \n",
       "RPDE                -0.383894     -0.112404     -0.400143        0.360673   \n",
       "DFA                 -0.446013     -0.343097     -0.050406        0.098572   \n",
       "spread1             -0.413738     -0.076658     -0.394857        0.693577   \n",
       "spread2             -0.249450     -0.002954     -0.243829        0.385123   \n",
       "D2                   0.177980      0.176323     -0.100629        0.433434   \n",
       "PPE                 -0.372356     -0.069543     -0.340071        0.721543   \n",
       "\n",
       "                  MDVP:Jitter(Abs)  MDVP:RAP  MDVP:PPQ  Jitter:DDP  \\\n",
       "MDVP:Fo(Hz)              -0.382027 -0.076194 -0.112165   -0.076213   \n",
       "MDVP:Fhi(Hz)             -0.029198  0.097177  0.091126    0.097150   \n",
       "MDVP:Flo(Hz)             -0.277815 -0.100519 -0.095828   -0.100488   \n",
       "MDVP:Jitter(%)            0.935714  0.990276  0.974256    0.990276   \n",
       "MDVP:Jitter(Abs)          1.000000  0.922911  0.897778    0.922913   \n",
       "MDVP:RAP                  0.922911  1.000000  0.957317    1.000000   \n",
       "MDVP:PPQ                  0.897778  0.957317  1.000000    0.957319   \n",
       "Jitter:DDP                0.922913  1.000000  0.957319    1.000000   \n",
       "MDVP:Shimmer              0.703322  0.759581  0.797826    0.759555   \n",
       "MDVP:Shimmer(dB)          0.716601  0.790652  0.839239    0.790621   \n",
       "Shimmer:APQ3              0.697153  0.744912  0.763580    0.744894   \n",
       "Shimmer:APQ5              0.648961  0.709927  0.786780    0.709907   \n",
       "MDVP:APQ                  0.648793  0.737455  0.804139    0.737439   \n",
       "Shimmer:DDA               0.697170  0.744919  0.763592    0.744901   \n",
       "NHR                       0.834972  0.919521  0.844604    0.919548   \n",
       "HNR                      -0.656810 -0.721543 -0.731510   -0.721494   \n",
       "status                    0.338653  0.266668  0.288698    0.266646   \n",
       "RPDE                      0.441839  0.342140  0.333274    0.342079   \n",
       "DFA                       0.175036  0.064083  0.196301    0.064026   \n",
       "spread1                   0.735779  0.648328  0.716489    0.648328   \n",
       "spread2                   0.388543  0.324407  0.407605    0.324377   \n",
       "D2                        0.310694  0.426605  0.412524    0.426556   \n",
       "PPE                       0.748162  0.670999  0.769647    0.671005   \n",
       "\n",
       "                  MDVP:Shimmer  MDVP:Shimmer(dB)    ...     Shimmer:DDA  \\\n",
       "MDVP:Fo(Hz)          -0.098374         -0.073742    ...       -0.094732   \n",
       "MDVP:Fhi(Hz)          0.002281          0.043465    ...       -0.003733   \n",
       "MDVP:Flo(Hz)         -0.144543         -0.119089    ...       -0.150737   \n",
       "MDVP:Jitter(%)        0.769063          0.804289    ...        0.746635   \n",
       "MDVP:Jitter(Abs)      0.703322          0.716601    ...        0.697170   \n",
       "MDVP:RAP              0.759581          0.790652    ...        0.744919   \n",
       "MDVP:PPQ              0.797826          0.839239    ...        0.763592   \n",
       "Jitter:DDP            0.759555          0.790621    ...        0.744901   \n",
       "MDVP:Shimmer          1.000000          0.987258    ...        0.987626   \n",
       "MDVP:Shimmer(dB)      0.987258          1.000000    ...        0.963202   \n",
       "Shimmer:APQ3          0.987625          0.963198    ...        1.000000   \n",
       "Shimmer:APQ5          0.982835          0.973751    ...        0.960072   \n",
       "MDVP:APQ              0.950083          0.960977    ...        0.896647   \n",
       "Shimmer:DDA           0.987626          0.963202    ...        1.000000   \n",
       "NHR                   0.722194          0.744477    ...        0.716215   \n",
       "HNR                  -0.835271         -0.827805    ...       -0.827130   \n",
       "status                0.367430          0.350697    ...        0.347608   \n",
       "RPDE                  0.447424          0.410684    ...        0.435237   \n",
       "DFA                   0.159954          0.165157    ...        0.151132   \n",
       "spread1               0.654734          0.652547    ...        0.610971   \n",
       "spread2               0.452025          0.454314    ...        0.402223   \n",
       "D2                    0.507088          0.512233    ...        0.467261   \n",
       "PPE                   0.693771          0.695058    ...        0.645389   \n",
       "\n",
       "                       NHR       HNR    status      RPDE       DFA   spread1  \\\n",
       "MDVP:Fo(Hz)      -0.021981  0.059144 -0.383535 -0.383894 -0.446013 -0.413738   \n",
       "MDVP:Fhi(Hz)      0.163766 -0.024893 -0.166136 -0.112404 -0.343097 -0.076658   \n",
       "MDVP:Flo(Hz)     -0.108670  0.210851 -0.380200 -0.400143 -0.050406 -0.394857   \n",
       "MDVP:Jitter(%)    0.906959 -0.728165  0.278220  0.360673  0.098572  0.693577   \n",
       "MDVP:Jitter(Abs)  0.834972 -0.656810  0.338653  0.441839  0.175036  0.735779   \n",
       "MDVP:RAP          0.919521 -0.721543  0.266668  0.342140  0.064083  0.648328   \n",
       "MDVP:PPQ          0.844604 -0.731510  0.288698  0.333274  0.196301  0.716489   \n",
       "Jitter:DDP        0.919548 -0.721494  0.266646  0.342079  0.064026  0.648328   \n",
       "MDVP:Shimmer      0.722194 -0.835271  0.367430  0.447424  0.159954  0.654734   \n",
       "MDVP:Shimmer(dB)  0.744477 -0.827805  0.350697  0.410684  0.165157  0.652547   \n",
       "Shimmer:APQ3      0.716207 -0.827123  0.347617  0.435242  0.151124  0.610967   \n",
       "Shimmer:APQ5      0.658080 -0.813753  0.351148  0.399903  0.213873  0.646809   \n",
       "MDVP:APQ          0.694019 -0.800407  0.364316  0.451379  0.157276  0.673158   \n",
       "Shimmer:DDA       0.716215 -0.827130  0.347608  0.435237  0.151132  0.610971   \n",
       "NHR               1.000000 -0.714072  0.189429  0.370890 -0.131882  0.540865   \n",
       "HNR              -0.714072  1.000000 -0.361515 -0.598736 -0.008665 -0.673210   \n",
       "status            0.189429 -0.361515  1.000000  0.308567  0.231739  0.564838   \n",
       "RPDE              0.370890 -0.598736  0.308567  1.000000 -0.110950  0.591117   \n",
       "DFA              -0.131882 -0.008665  0.231739 -0.110950  1.000000  0.195668   \n",
       "spread1           0.540865 -0.673210  0.564838  0.591117  0.195668  1.000000   \n",
       "spread2           0.318099 -0.431564  0.454842  0.479905  0.166548  0.652358   \n",
       "D2                0.470949 -0.601401  0.340232  0.236931 -0.165381  0.495123   \n",
       "PPE               0.552591 -0.692876  0.531039  0.545886  0.270445  0.962435   \n",
       "\n",
       "                   spread2        D2       PPE  \n",
       "MDVP:Fo(Hz)      -0.249450  0.177980 -0.372356  \n",
       "MDVP:Fhi(Hz)     -0.002954  0.176323 -0.069543  \n",
       "MDVP:Flo(Hz)     -0.243829 -0.100629 -0.340071  \n",
       "MDVP:Jitter(%)    0.385123  0.433434  0.721543  \n",
       "MDVP:Jitter(Abs)  0.388543  0.310694  0.748162  \n",
       "MDVP:RAP          0.324407  0.426605  0.670999  \n",
       "MDVP:PPQ          0.407605  0.412524  0.769647  \n",
       "Jitter:DDP        0.324377  0.426556  0.671005  \n",
       "MDVP:Shimmer      0.452025  0.507088  0.693771  \n",
       "MDVP:Shimmer(dB)  0.454314  0.512233  0.695058  \n",
       "Shimmer:APQ3      0.402243  0.467265  0.645377  \n",
       "Shimmer:APQ5      0.457195  0.502174  0.702456  \n",
       "MDVP:APQ          0.502188  0.536869  0.721694  \n",
       "Shimmer:DDA       0.402223  0.467261  0.645389  \n",
       "NHR               0.318099  0.470949  0.552591  \n",
       "HNR              -0.431564 -0.601401 -0.692876  \n",
       "status            0.454842  0.340232  0.531039  \n",
       "RPDE              0.479905  0.236931  0.545886  \n",
       "DFA               0.166548 -0.165381  0.270445  \n",
       "spread1           0.652358  0.495123  0.962435  \n",
       "spread2           1.000000  0.523532  0.644711  \n",
       "D2                0.523532  1.000000  0.480585  \n",
       "PPE               0.644711  0.480585  1.000000  \n",
       "\n",
       "[23 rows x 23 columns]"
      ]
     },
     "execution_count": 11,
     "metadata": {},
     "output_type": "execute_result"
    }
   ],
   "source": [
    "pk_data.corr()"
   ]
  },
  {
   "cell_type": "markdown",
   "metadata": {},
   "source": [
    "Q3. Using univariate & bivariate analysis to check the individual attributes for their basic statistics such as \n",
    "central values, spread, tails etc. What are your observations?"
   ]
  },
  {
   "cell_type": "code",
   "execution_count": 197,
   "metadata": {},
   "outputs": [
    {
     "data": {
      "text/plain": [
       "<matplotlib.axes._subplots.AxesSubplot at 0x21537cdf198>"
      ]
     },
     "execution_count": 197,
     "metadata": {},
     "output_type": "execute_result"
    },
    {
     "data": {
      "image/png": "[encoded data removed]",
      "text/plain": [
       "<Figure size 432x288 with 1 Axes>"
      ]
     },
     "metadata": {},
     "output_type": "display_data"
    }
   ],
   "source": [
    "final_data = pk_data.drop('name', axis=1) # drop name column\n",
    "\n",
    "sns.boxplot(data=final_data, orient=\"h\", palette=\"Set2\")\n",
    "# Horizontal boxplots of all the attributes, which shows distinct outliers in high and low vocal fundamental frequencies"
   ]
  },
  {
   "cell_type": "markdown",
   "metadata": {},
   "source": [
    "# Univariate Analysis"
   ]
  },
  {
   "cell_type": "code",
   "execution_count": 190,
   "metadata": {},
   "outputs": [
    {
     "data": {
      "text/plain": [
       "<matplotlib.axes._subplots.AxesSubplot at 0x21536885668>"
      ]
     },
     "execution_count": 190,
     "metadata": {},
     "output_type": "execute_result"
    },
    {
     "data": {
      "image/png": "[encoded data removed]",
      "text/plain": [
       "<Figure size 432x288 with 1 Axes>"
      ]
     },
     "metadata": {},
     "output_type": "display_data"
    }
   ],
   "source": [
    "sns.boxplot(final_data[\"MDVP:Jitter(Abs)\"], palette=\"Set2\")\n",
    "\n",
    "# Boxplot for absolute measures of variation in fundamental frequency, which has outliers and is right skewed"
   ]
  },
  {
   "cell_type": "code",
   "execution_count": 192,
   "metadata": {},
   "outputs": [
    {
     "data": {
      "text/plain": [
       "<matplotlib.axes._subplots.AxesSubplot at 0x2153792d7b8>"
      ]
     },
     "execution_count": 192,
     "metadata": {},
     "output_type": "execute_result"
    },
    {
     "data": {
      "image/png": "[encoded data removed]",
      "text/plain": [
       "<Figure size 432x288 with 1 Axes>"
      ]
     },
     "metadata": {},
     "output_type": "display_data"
    }
   ],
   "source": [
    "sns.boxplot(final_data[\"Shimmer:APQ3\"], palette=\"Set2\")\n",
    "# Boxplot for measure of variation in amplitude, which has outliers and is right skewed"
   ]
  },
  {
   "cell_type": "code",
   "execution_count": 179,
   "metadata": {},
   "outputs": [
    {
     "name": "stderr",
     "output_type": "stream",
     "text": [
      "C:\\Program Files (x86)\\Microsoft Visual Studio\\Shared\\Anaconda3_64\\lib\\site-packages\\matplotlib\\axes\\_axes.py:6462: UserWarning: The 'normed' kwarg is deprecated, and has been replaced by the 'density' kwarg.\n",
      "  warnings.warn(\"The 'normed' kwarg is deprecated, and has been \"\n"
     ]
    },
    {
     "data": {
      "text/plain": [
       "<matplotlib.axes._subplots.AxesSubplot at 0x215360e4240>"
      ]
     },
     "execution_count": 179,
     "metadata": {},
     "output_type": "execute_result"
    },
    {
     "data": {
      "image/png": "[encoded data removed]",
      "text/plain": [
       "<Figure size 432x288 with 1 Axes>"
      ]
     },
     "metadata": {},
     "output_type": "display_data"
    }
   ],
   "source": [
    "sns.distplot(final_data[\"MDVP:Fo(Hz)\"])\n",
    "\n",
    "# Average vocal fundamental frequency boxplot, right skewed"
   ]
  },
  {
   "cell_type": "code",
   "execution_count": 194,
   "metadata": {},
   "outputs": [
    {
     "name": "stderr",
     "output_type": "stream",
     "text": [
      "C:\\Program Files (x86)\\Microsoft Visual Studio\\Shared\\Anaconda3_64\\lib\\site-packages\\matplotlib\\axes\\_axes.py:6462: UserWarning: The 'normed' kwarg is deprecated, and has been replaced by the 'density' kwarg.\n",
      "  warnings.warn(\"The 'normed' kwarg is deprecated, and has been \"\n"
     ]
    },
    {
     "data": {
      "text/plain": [
       "<matplotlib.axes._subplots.AxesSubplot at 0x2153798fc88>"
      ]
     },
     "execution_count": 194,
     "metadata": {},
     "output_type": "execute_result"
    },
    {
     "data": {
      "image/png": "[encoded data removed]",
      "text/plain": [
       "<Figure size 432x288 with 1 Axes>"
      ]
     },
     "metadata": {},
     "output_type": "display_data"
    }
   ],
   "source": [
    "sns.distplot(final_data[\"MDVP:PPQ\"])\n",
    "\n",
    "# distplot for measure of variation in fundamental frequency, right skewed"
   ]
  },
  {
   "cell_type": "code",
   "execution_count": 186,
   "metadata": {},
   "outputs": [
    {
     "name": "stderr",
     "output_type": "stream",
     "text": [
      "C:\\Program Files (x86)\\Microsoft Visual Studio\\Shared\\Anaconda3_64\\lib\\site-packages\\matplotlib\\axes\\_axes.py:6462: UserWarning: The 'normed' kwarg is deprecated, and has been replaced by the 'density' kwarg.\n",
      "  warnings.warn(\"The 'normed' kwarg is deprecated, and has been \"\n"
     ]
    },
    {
     "data": {
      "text/plain": [
       "<matplotlib.axes._subplots.AxesSubplot at 0x2153649cd30>"
      ]
     },
     "execution_count": 186,
     "metadata": {},
     "output_type": "execute_result"
    },
    {
     "data": {
      "image/png": "[encoded data removed]",
      "text/plain": [
       "<Figure size 432x288 with 1 Axes>"
      ]
     },
     "metadata": {},
     "output_type": "display_data"
    }
   ],
   "source": [
    "sns.distplot(final_data[\"MDVP:Fhi(Hz)\"])\n",
    "# distplot for Maximum vocal fundamental frequency, right skewed"
   ]
  },
  {
   "cell_type": "markdown",
   "metadata": {},
   "source": [
    "# Bivariate Analysis"
   ]
  },
  {
   "cell_type": "code",
   "execution_count": 189,
   "metadata": {},
   "outputs": [
    {
     "name": "stderr",
     "output_type": "stream",
     "text": [
      "C:\\Program Files (x86)\\Microsoft Visual Studio\\Shared\\Anaconda3_64\\lib\\site-packages\\matplotlib\\axes\\_axes.py:6462: UserWarning: The 'normed' kwarg is deprecated, and has been replaced by the 'density' kwarg.\n",
      "  warnings.warn(\"The 'normed' kwarg is deprecated, and has been \"\n",
      "C:\\Program Files (x86)\\Microsoft Visual Studio\\Shared\\Anaconda3_64\\lib\\site-packages\\matplotlib\\axes\\_axes.py:6462: UserWarning: The 'normed' kwarg is deprecated, and has been replaced by the 'density' kwarg.\n",
      "  warnings.warn(\"The 'normed' kwarg is deprecated, and has been \"\n"
     ]
    },
    {
     "data": {
      "text/plain": [
       "<seaborn.axisgrid.JointGrid at 0x21536752278>"
      ]
     },
     "execution_count": 189,
     "metadata": {},
     "output_type": "execute_result"
    },
    {
     "data": {
      "image/png": "[encoded data removed]",
      "text/plain": [
       "<Figure size 432x432 with 3 Axes>"
      ]
     },
     "metadata": {},
     "output_type": "display_data"
    }
   ],
   "source": [
    "sns.jointplot(data=final_data, x=\"MDVP:Fo(Hz)\", y=\"MDVP:Flo(Hz)\")\n",
    "\n",
    "# joint plot between average and low vocal fundamental frequency, showing a high corelation of 0.6"
   ]
  },
  {
   "cell_type": "code",
   "execution_count": 195,
   "metadata": {},
   "outputs": [
    {
     "name": "stderr",
     "output_type": "stream",
     "text": [
      "C:\\Program Files (x86)\\Microsoft Visual Studio\\Shared\\Anaconda3_64\\lib\\site-packages\\matplotlib\\axes\\_axes.py:6462: UserWarning: The 'normed' kwarg is deprecated, and has been replaced by the 'density' kwarg.\n",
      "  warnings.warn(\"The 'normed' kwarg is deprecated, and has been \"\n",
      "C:\\Program Files (x86)\\Microsoft Visual Studio\\Shared\\Anaconda3_64\\lib\\site-packages\\matplotlib\\axes\\_axes.py:6462: UserWarning: The 'normed' kwarg is deprecated, and has been replaced by the 'density' kwarg.\n",
      "  warnings.warn(\"The 'normed' kwarg is deprecated, and has been \"\n"
     ]
    },
    {
     "data": {
      "text/plain": [
       "<seaborn.axisgrid.JointGrid at 0x21537c4cb38>"
      ]
     },
     "execution_count": 195,
     "metadata": {},
     "output_type": "execute_result"
    },
    {
     "data": {
      "image/png": "[encoded data removed]",
      "text/plain": [
       "<Figure size 432x432 with 3 Axes>"
      ]
     },
     "metadata": {},
     "output_type": "display_data"
    }
   ],
   "source": [
    "sns.jointplot(data=final_data, x=\"spread1\", y=\"PPE\")\n",
    "# joint plot between two nonlinear measures of fundamental frequency variation, showing a high corelation of 0.96"
   ]
  },
  {
   "cell_type": "code",
   "execution_count": 202,
   "metadata": {},
   "outputs": [
    {
     "data": {
      "text/plain": [
       "<matplotlib.axes._subplots.AxesSubplot at 0x215384e8dd8>"
      ]
     },
     "execution_count": 202,
     "metadata": {},
     "output_type": "execute_result"
    },
    {
     "data": {
      "image/png": "[encoded data removed]",
      "text/plain": [
       "<Figure size 432x288 with 1 Axes>"
      ]
     },
     "metadata": {},
     "output_type": "display_data"
    }
   ],
   "source": [
    "sns.swarmplot(data=final_data, x=\"status\", y=\"spread1\")\n",
    "\n",
    "# Swarm plot to display the relationship between categorical (status) and \n",
    "# numerical datas (sread1 - nonlinear measures of fundamental frequency variation) with a maximum corelation of 0.56"
   ]
  },
  {
   "cell_type": "code",
   "execution_count": 204,
   "metadata": {},
   "outputs": [
    {
     "name": "stderr",
     "output_type": "stream",
     "text": [
      "C:\\Program Files (x86)\\Microsoft Visual Studio\\Shared\\Anaconda3_64\\lib\\site-packages\\matplotlib\\axes\\_axes.py:6462: UserWarning: The 'normed' kwarg is deprecated, and has been replaced by the 'density' kwarg.\n",
      "  warnings.warn(\"The 'normed' kwarg is deprecated, and has been \"\n",
      "C:\\Program Files (x86)\\Microsoft Visual Studio\\Shared\\Anaconda3_64\\lib\\site-packages\\matplotlib\\axes\\_axes.py:6462: UserWarning: The 'normed' kwarg is deprecated, and has been replaced by the 'density' kwarg.\n",
      "  warnings.warn(\"The 'normed' kwarg is deprecated, and has been \"\n"
     ]
    },
    {
     "data": {
      "text/plain": [
       "<seaborn.axisgrid.JointGrid at 0x21538645710>"
      ]
     },
     "execution_count": 204,
     "metadata": {},
     "output_type": "execute_result"
    },
    {
     "data": {
      "image/png": "[encoded data removed]",
      "text/plain": [
       "<Figure size 432x432 with 3 Axes>"
      ]
     },
     "metadata": {},
     "output_type": "display_data"
    }
   ],
   "source": [
    "sns.jointplot(data=final_data, x=\"NHR\", y=\"HNR\")\n",
    "# Joint plot between two measures of ratio of noise to tonal components in the voice\n",
    "# showing high negative co-relation of -0.71"
   ]
  },
  {
   "cell_type": "markdown",
   "metadata": {},
   "source": [
    "# Decision Tree"
   ]
  },
  {
   "cell_type": "markdown",
   "metadata": {},
   "source": [
    "Q4. Split the dataset into training and test set in the ratio of 70:30 (Training:Test)."
   ]
  },
  {
   "cell_type": "code",
   "execution_count": 134,
   "metadata": {},
   "outputs": [],
   "source": [
    "X = pk_data.drop('status', axis=1)\n",
    "X = X.drop('name', axis=1)\n",
    "Y = pk_data[['status']]\n",
    "X_train, X_test, Y_train, Y_test = train_test_split(X, Y, test_size=0.30, random_state=42, stratify=Y)"
   ]
  },
  {
   "cell_type": "markdown",
   "metadata": {},
   "source": [
    "Q5. Create a decision tree model using “entropy” method of reducing the entropy and fit it to training data"
   ]
  },
  {
   "cell_type": "code",
   "execution_count": 95,
   "metadata": {},
   "outputs": [],
   "source": [
    "dt_model = DecisionTreeClassifier(criterion = 'entropy', random_state=42)"
   ]
  },
  {
   "cell_type": "code",
   "execution_count": 96,
   "metadata": {},
   "outputs": [
    {
     "data": {
      "text/plain": [
       "DecisionTreeClassifier(class_weight=None, criterion='entropy', max_depth=None,\n",
       "            max_features=None, max_leaf_nodes=None,\n",
       "            min_impurity_decrease=0.0, min_impurity_split=None,\n",
       "            min_samples_leaf=1, min_samples_split=2,\n",
       "            min_weight_fraction_leaf=0.0, presort=False, random_state=42,\n",
       "            splitter='best')"
      ]
     },
     "execution_count": 96,
     "metadata": {},
     "output_type": "execute_result"
    }
   ],
   "source": [
    "dt_model.fit(X_train, Y_train)"
   ]
  },
  {
   "cell_type": "code",
   "execution_count": 97,
   "metadata": {},
   "outputs": [
    {
     "data": {
      "text/plain": [
       "1.0"
      ]
     },
     "execution_count": 97,
     "metadata": {},
     "output_type": "execute_result"
    }
   ],
   "source": [
    "dt_model.score(X_train , Y_train)\n",
    "# Training accuracy is 100%"
   ]
  },
  {
   "cell_type": "markdown",
   "metadata": {},
   "source": [
    "Q6. Test the model on test data and what is the accuracy achieved. Capture the predicted values and do a crosstab"
   ]
  },
  {
   "cell_type": "code",
   "execution_count": 98,
   "metadata": {},
   "outputs": [
    {
     "data": {
      "text/plain": [
       "0.847457627118644"
      ]
     },
     "execution_count": 98,
     "metadata": {},
     "output_type": "execute_result"
    }
   ],
   "source": [
    "dt_model.score(X_test , Y_test)\n",
    "# Testing accuracy is 84%"
   ]
  },
  {
   "cell_type": "code",
   "execution_count": 99,
   "metadata": {},
   "outputs": [
    {
     "data": {
      "text/plain": [
       "array([[12,  3],\n",
       "       [ 6, 38]], dtype=int64)"
      ]
     },
     "execution_count": 99,
     "metadata": {},
     "output_type": "execute_result"
    }
   ],
   "source": [
    "y_pred = dt_model.predict(X_test)\n",
    "metrics.confusion_matrix(Y_test, y_pred)\n",
    "# Cross tab / confusion matrix of the predicted values is shown below"
   ]
  },
  {
   "cell_type": "markdown",
   "metadata": {},
   "source": [
    "# Decision Tree with Regularisation"
   ]
  },
  {
   "cell_type": "markdown",
   "metadata": {},
   "source": [
    "Q7. Use regularization parameters of max_depth, min_sample_leaf to recreate the model. What is the impact on the model accuracy? How does regularization help?"
   ]
  },
  {
   "cell_type": "code",
   "execution_count": 163,
   "metadata": {},
   "outputs": [
    {
     "data": {
      "text/plain": [
       "DecisionTreeClassifier(class_weight=None, criterion='entropy', max_depth=5,\n",
       "            max_features=None, max_leaf_nodes=None,\n",
       "            min_impurity_decrease=0.0, min_impurity_split=None,\n",
       "            min_samples_leaf=1, min_samples_split=2,\n",
       "            min_weight_fraction_leaf=0.0, presort=False, random_state=542,\n",
       "            splitter='best')"
      ]
     },
     "execution_count": 163,
     "metadata": {},
     "output_type": "execute_result"
    }
   ],
   "source": [
    "# Use a regularised DT with max_depth = 5 and min_samples_leaf = 1\n",
    "\n",
    "dt_reg_model = DecisionTreeClassifier(criterion = 'entropy', max_depth=5, min_samples_leaf=1, random_state=42)\n",
    "dt_reg_model.fit(X_train, Y_train)"
   ]
  },
  {
   "cell_type": "code",
   "execution_count": 164,
   "metadata": {},
   "outputs": [
    {
     "data": {
      "text/plain": [
       "1.0"
      ]
     },
     "execution_count": 164,
     "metadata": {},
     "output_type": "execute_result"
    }
   ],
   "source": [
    "dt_reg_model.score(X_train , Y_train)"
   ]
  },
  {
   "cell_type": "code",
   "execution_count": 165,
   "metadata": {},
   "outputs": [
    {
     "data": {
      "text/plain": [
       "0.847457627118644"
      ]
     },
     "execution_count": 165,
     "metadata": {},
     "output_type": "execute_result"
    }
   ],
   "source": [
    "dt_reg_model.score(X_test , Y_test)"
   ]
  },
  {
   "cell_type": "markdown",
   "metadata": {},
   "source": [
    "# Conclusion: Using the regularisation parameters of max_depth and min_samples_leaf does not change the training and testing accuracy. Any value of max_depth < 5 and min_samples_lead > 2 deteriorates the model accuracy, of both training and test data"
   ]
  },
  {
   "cell_type": "markdown",
   "metadata": {},
   "source": [
    "# Random Forest"
   ]
  },
  {
   "cell_type": "markdown",
   "metadata": {},
   "source": [
    "Q8. Next implement the Random Forest model and find the accuracy"
   ]
  },
  {
   "cell_type": "code",
   "execution_count": 159,
   "metadata": {},
   "outputs": [],
   "source": [
    "rfcl = RandomForestClassifier(criterion='entropy', random_state=543)"
   ]
  },
  {
   "cell_type": "code",
   "execution_count": 160,
   "metadata": {},
   "outputs": [
    {
     "name": "stderr",
     "output_type": "stream",
     "text": [
      "C:\\Program Files (x86)\\Microsoft Visual Studio\\Shared\\Anaconda3_64\\lib\\site-packages\\ipykernel_launcher.py:1: DataConversionWarning: A column-vector y was passed when a 1d array was expected. Please change the shape of y to (n_samples,), for example using ravel().\n",
      "  \"\"\"Entry point for launching an IPython kernel.\n"
     ]
    },
    {
     "data": {
      "text/plain": [
       "RandomForestClassifier(bootstrap=True, class_weight=None, criterion='entropy',\n",
       "            max_depth=None, max_features='auto', max_leaf_nodes=None,\n",
       "            min_impurity_decrease=0.0, min_impurity_split=None,\n",
       "            min_samples_leaf=1, min_samples_split=2,\n",
       "            min_weight_fraction_leaf=0.0, n_estimators=10, n_jobs=1,\n",
       "            oob_score=False, random_state=543, verbose=0, warm_start=False)"
      ]
     },
     "execution_count": 160,
     "metadata": {},
     "output_type": "execute_result"
    }
   ],
   "source": [
    "rfcl.fit(X_train, Y_train)"
   ]
  },
  {
   "cell_type": "code",
   "execution_count": 161,
   "metadata": {},
   "outputs": [
    {
     "data": {
      "text/plain": [
       "1.0"
      ]
     },
     "execution_count": 161,
     "metadata": {},
     "output_type": "execute_result"
    }
   ],
   "source": [
    "rfcl.score(X_train , Y_train)\n",
    "# Training accuracy is 99.2%"
   ]
  },
  {
   "cell_type": "code",
   "execution_count": 162,
   "metadata": {},
   "outputs": [
    {
     "data": {
      "text/plain": [
       "0.9152542372881356"
      ]
     },
     "execution_count": 162,
     "metadata": {},
     "output_type": "execute_result"
    }
   ],
   "source": [
    "rfcl.score(X_test , Y_test)\n",
    "# Testing accuracy is 91%"
   ]
  },
  {
   "cell_type": "markdown",
   "metadata": {},
   "source": [
    "# Conclusion: Using the Random Forest model improves the testing accuracy significantly to 91.5% from 84.7%"
   ]
  }
 ],
 "metadata": {
  "kernelspec": {
   "display_name": "Python 3",
   "language": "python",
   "name": "python3"
  },
  "language_info": {
   "codemirror_mode": {
    "name": "ipython",
    "version": 3
   },
   "file_extension": ".py",
   "mimetype": "text/x-python",
   "name": "python",
   "nbconvert_exporter": "python",
   "pygments_lexer": "ipython3",
   "version": "3.6.5"
  }
 },
 "nbformat": 4,
 "nbformat_minor": 2
}
