{
 "cells": [
  {
   "cell_type": "code",
   "execution_count": null,
   "metadata": {
    "colab": {
     "base_uri": "https://localhost:8080/"
    },
    "executionInfo": {
     "elapsed": 890,
     "status": "ok",
     "timestamp": 1621266160662,
     "user": {
      "displayName": "Bhavik Parikh",
      "photoUrl": "",
      "userId": "10417339530876264927"
     },
     "user_tz": -330
    },
    "id": "G6rZ7bar5FT3",
    "outputId": "3df5cb54-c30a-45ec-8c43-7120ddff744f"
   },
   "outputs": [
    {
     "name": "stdout",
     "output_type": "stream",
     "text": [
      "Drive already mounted at /content/drive; to attempt to forcibly remount, call drive.mount(\"/content/drive\", force_remount=True).\n"
     ]
    }
   ],
   "source": [
    "from google.colab import drive\n",
    "drive.mount('/content/drive')"
   ]
  },
  {
   "cell_type": "code",
   "execution_count": 1,
   "metadata": {
    "executionInfo": {
     "elapsed": 2716,
     "status": "ok",
     "timestamp": 1621312211982,
     "user": {
      "displayName": "Bhavik Parikh",
      "photoUrl": "",
      "userId": "10417339530876264927"
     },
     "user_tz": -330
    },
    "id": "u3axvLZY6E8B"
   },
   "outputs": [],
   "source": [
    "# import the necessary libraries\n",
    "import warnings\n",
    "import os\n",
    "import pandas as pd \n",
    "import numpy as np\n",
    "\n",
    "import matplotlib.pyplot as plt\n",
    "%matplotlib inline\n",
    "from matplotlib import pyplot\n",
    "\n",
    "import tensorflow as tf\n",
    "from keras.models import Sequential\n",
    "from keras.layers.core import Dense, Dropout, Activation, Flatten\n",
    "from keras.layers.convolutional import Conv2D, MaxPooling2D"
   ]
  },
  {
   "cell_type": "markdown",
   "metadata": {
    "id": "qXzbvMJTaMmO"
   },
   "source": [
    "**Import the necessary libraries to authorise Google Collab to connect to the Google Drive** "
   ]
  },
  {
   "cell_type": "code",
   "execution_count": 2,
   "metadata": {
    "executionInfo": {
     "elapsed": 16228,
     "status": "ok",
     "timestamp": 1621312230225,
     "user": {
      "displayName": "Bhavik Parikh",
      "photoUrl": "",
      "userId": "10417339530876264927"
     },
     "user_tz": -330
    },
    "id": "F76EsMSV_atj"
   },
   "outputs": [],
   "source": [
    "from pydrive.auth import GoogleAuth\n",
    "from pydrive.drive import GoogleDrive\n",
    "from google.colab import auth\n",
    "from oauth2client.client import GoogleCredentials\n",
    " \n",
    "auth.authenticate_user()\n",
    "gauth = GoogleAuth()\n",
    "gauth.credentials = GoogleCredentials.get_application_default()\n",
    "drive = GoogleDrive(gauth)"
   ]
  },
  {
   "cell_type": "markdown",
   "metadata": {
    "id": "4E22QIv7afgx"
   },
   "source": [
    "**Get a list of files specific uploaded to the shared URL for this project**"
   ]
  },
  {
   "cell_type": "code",
   "execution_count": null,
   "metadata": {
    "id": "kipD8mLx_hcf"
   },
   "outputs": [],
   "source": [
    "file_list = drive.ListFile({'q': \"'1QYZO_AXl07d8qMYu00THIKjrxVCUaTs5' in parents\"}).GetList()"
   ]
  },
  {
   "cell_type": "code",
   "execution_count": null,
   "metadata": {
    "colab": {
     "base_uri": "https://localhost:8080/"
    },
    "executionInfo": {
     "elapsed": 67445,
     "status": "ok",
     "timestamp": 1621272740119,
     "user": {
      "displayName": "Bhavik Parikh",
      "photoUrl": "",
      "userId": "10417339530876264927"
     },
     "user_tz": -330
    },
    "id": "plyXtg-eAbMQ",
    "outputId": "25640503-ec7c-483d-a5b5-793e32b1d93b"
   },
   "outputs": [
    {
     "name": "stdout",
     "output_type": "stream",
     "text": [
      "title: Dataset - Prediction.zip, id: 1DSMiBe3vdYy7sziFbCEiyldDqzHgsL2A\n",
      "title: Dataset - Plant-seedlings-classification.zip, id: 1ET0dF65pkI0Uo4hsyX4sX-4OhjGJvuES\n",
      "title: Dataset - Images.zip, id: 1DL3gAuS6pqXUzyNorp7yQwZVngOxgMnp\n"
     ]
    }
   ],
   "source": [
    "os.chdir(\"/content/drive/MyDrive/Colab Notebooks/Data\")\n",
    "for f in file_list:\n",
    "  print('title: %s, id: %s' % (f['title'], f['id']))\n",
    "  f_ = drive.CreateFile({'id': f['id']})\n",
    "  f_.GetContentFile(f['title'])"
   ]
  },
  {
   "cell_type": "markdown",
   "metadata": {
    "id": "NQRb00onZkJq"
   },
   "source": [
    "**Extract the data from Plant-seedlings-classification.zip file into train and test folders**"
   ]
  },
  {
   "cell_type": "code",
   "execution_count": null,
   "metadata": {
    "id": "14l7rVID5Jkx"
   },
   "outputs": [],
   "source": [
    "from zipfile import ZipFile\n",
    "with ZipFile('/content/drive/MyDrive/Colab Notebooks/Data/Dataset - Plant-seedlings-classification.zip', 'r') as z:\n",
    "  z.extractall()"
   ]
  },
  {
   "cell_type": "markdown",
   "metadata": {
    "id": "kCctFrncZqRx"
   },
   "source": [
    "**Extract the images from train folder and its sub-folders into images and labels arrays**"
   ]
  },
  {
   "cell_type": "code",
   "execution_count": 16,
   "metadata": {
    "colab": {
     "base_uri": "https://localhost:8080/"
    },
    "executionInfo": {
     "elapsed": 51127,
     "status": "ok",
     "timestamp": 1621318067354,
     "user": {
      "displayName": "Bhavik Parikh",
      "photoUrl": "",
      "userId": "10417339530876264927"
     },
     "user_tz": -330
    },
    "id": "XGx-BPJU59r5",
    "outputId": "11cbdca2-6f00-459b-f069-b206a3f19619"
   },
   "outputs": [
    {
     "name": "stdout",
     "output_type": "stream",
     "text": [
      "Black-grass 263\n",
      "Charlock 390\n",
      "Cleavers 287\n",
      "Common Chickweed 611\n",
      "Fat Hen 475\n",
      "Loose Silky-bent 654\n",
      "Maize 221\n",
      "Scentless Mayweed 516\n",
      "Shepherds Purse 231\n",
      "Small-flowered Cranesbill 496\n",
      "Sugar beet 385\n"
     ]
    }
   ],
   "source": [
    "import cv2\n",
    "from google.colab.patches import cv2_imshow\n",
    "images = []\n",
    "labels = []\n",
    "label_name = ''\n",
    "image_count = 0\n",
    "train_path = \"/content/drive/MyDrive/Colab Notebooks/Data/train/\"\n",
    "for label_name in os.listdir(train_path):\n",
    "  if (label_name != \"Common wheat\"):\n",
    "    for img in os.listdir(train_path + label_name):\n",
    "      img = cv2.imread(train_path + label_name + '/' + img)\n",
    "      img = cv2.resize(img, (32,32))\n",
    "      images.append(img)\n",
    "      if (label_name == 'Black-grass'):\n",
    "        label = 0\n",
    "      elif (label_name == 'Charlock'):\n",
    "        label = 1\n",
    "      elif (label_name == 'Cleavers'):\n",
    "        label = 2\n",
    "      elif (label_name == 'Common Chickweed'):\n",
    "        label = 3\n",
    "      elif (label_name == 'Fat Hen'):\n",
    "        label = 4\n",
    "      elif (label_name == 'Loose Silky-bent'):\n",
    "        label = 5\n",
    "      elif (label_name == 'Maize'):\n",
    "        label = 6\n",
    "      elif (label_name == 'Scentless Mayweed'):\n",
    "        label = 7\n",
    "      elif (label_name == 'Shepherds Purse'):\n",
    "        label = 8\n",
    "      elif (label_name == 'Small-flowered Cranesbill'):\n",
    "        label = 9\n",
    "      else:\n",
    "        label = 10\n",
    "      labels.append(label)\n",
    "      image_count = image_count + 1\n",
    "    print(label_name, image_count)\n",
    "    image_count = 0"
   ]
  },
  {
   "cell_type": "markdown",
   "metadata": {
    "id": "PkkchJldR6A0"
   },
   "source": [
    "**Buld the Support Vector Classifier Supervised Learning Model  to classify the images**"
   ]
  },
  {
   "cell_type": "code",
   "execution_count": 50,
   "metadata": {
    "executionInfo": {
     "elapsed": 44718,
     "status": "ok",
     "timestamp": 1621320815831,
     "user": {
      "displayName": "Bhavik Parikh",
      "photoUrl": "",
      "userId": "10417339530876264927"
     },
     "user_tz": -330
    },
    "id": "HVJCevUhFpJf"
   },
   "outputs": [],
   "source": [
    "feature_list = []\n",
    "for image in images:\n",
    "  flat_features = image.flatten()\n",
    "  feature_list.append(np.hstack(flat_features))\n",
    "\n",
    "feature_matrix = np.array(feature_list)"
   ]
  },
  {
   "cell_type": "code",
   "execution_count": 55,
   "metadata": {
    "executionInfo": {
     "elapsed": 1454,
     "status": "ok",
     "timestamp": 1621320922782,
     "user": {
      "displayName": "Bhavik Parikh",
      "photoUrl": "",
      "userId": "10417339530876264927"
     },
     "user_tz": -330
    },
    "id": "fgDa4vXCK8vJ"
   },
   "outputs": [],
   "source": [
    "from sklearn.model_selection import train_test_split\n",
    "from sklearn.metrics import accuracy_score\n",
    "from sklearn.preprocessing import StandardScaler\n",
    "from sklearn.decomposition import PCA\n",
    "\n",
    "# define standard scaler\n",
    "sc = StandardScaler()\n",
    "\n",
    "# run this on the feature matrix\n",
    "sc_features = sc.fit_transform(feature_matrix)\n",
    "\n",
    "pca = PCA(n_components=500)\n",
    "\n",
    "# use fit_transform to run PCA on standardized matrix\n",
    "pca_features = sc.fit_transform(sc_features)\n"
   ]
  },
  {
   "cell_type": "markdown",
   "metadata": {
    "id": "0gl7GuZXVEmz"
   },
   "source": [
    "**Convert labels list to numpy array**"
   ]
  },
  {
   "cell_type": "code",
   "execution_count": 66,
   "metadata": {
    "executionInfo": {
     "elapsed": 875,
     "status": "ok",
     "timestamp": 1621322142509,
     "user": {
      "displayName": "Bhavik Parikh",
      "photoUrl": "",
      "userId": "10417339530876264927"
     },
     "user_tz": -330
    },
    "id": "mytBCGXQUeob"
   },
   "outputs": [],
   "source": [
    "svn_labels = np.array(labels)"
   ]
  },
  {
   "cell_type": "markdown",
   "metadata": {
    "id": "Q21_hLTXVlob"
   },
   "source": [
    "**Train the Support Vector Classifier Model**"
   ]
  },
  {
   "cell_type": "code",
   "execution_count": 69,
   "metadata": {
    "colab": {
     "base_uri": "https://localhost:8080/"
    },
    "executionInfo": {
     "elapsed": 326904,
     "status": "ok",
     "timestamp": 1621322755880,
     "user": {
      "displayName": "Bhavik Parikh",
      "photoUrl": "",
      "userId": "10417339530876264927"
     },
     "user_tz": -330
    },
    "id": "dJyxaj6RGil_",
    "outputId": "967853fb-da99-4e19-87e8-a632d2a6215c"
   },
   "outputs": [
    {
     "data": {
      "text/plain": [
       "SVC(C=1.0, break_ties=False, cache_size=200, class_weight=None, coef0=0.0,\n",
       "    decision_function_shape='ovr', degree=3, gamma='scale', kernel='linear',\n",
       "    max_iter=-1, probability=True, random_state=42, shrinking=True, tol=0.001,\n",
       "    verbose=False)"
      ]
     },
     "execution_count": 69,
     "metadata": {
      "tags": []
     },
     "output_type": "execute_result"
    }
   ],
   "source": [
    "from sklearn.model_selection import train_test_split\n",
    "from sklearn.metrics import accuracy_score\n",
    "\n",
    "svn_X_train, svn_X_test, svn_y_train, svn_y_test = train_test_split(pca_features, svn_labels, test_size=.3, random_state=42)\n",
    "\n",
    "from sklearn.svm import SVC\n",
    "\n",
    "# define support vector classifier\n",
    "svm = SVC(kernel='linear', probability=True, random_state=42)\n",
    "\n",
    "# fit model\n",
    "svm.fit(svn_X_train, svn_y_train)"
   ]
  },
  {
   "cell_type": "markdown",
   "metadata": {
    "id": "j8HBxw7AWEUY"
   },
   "source": [
    "**Score the SVC Model**"
   ]
  },
  {
   "cell_type": "code",
   "execution_count": 70,
   "metadata": {
    "colab": {
     "base_uri": "https://localhost:8080/"
    },
    "executionInfo": {
     "elapsed": 22454,
     "status": "ok",
     "timestamp": 1621322826951,
     "user": {
      "displayName": "Bhavik Parikh",
      "photoUrl": "",
      "userId": "10417339530876264927"
     },
     "user_tz": -330
    },
    "id": "um37grDdV_kH",
    "outputId": "e1fabb6c-3469-4132-ed33-8bd7e0a1a2f4"
   },
   "outputs": [
    {
     "name": "stdout",
     "output_type": "stream",
     "text": [
      "SVC Model accuracy is:  0.481972038263429\n"
     ]
    }
   ],
   "source": [
    "# generate predictions\n",
    "svn_y_pred = svm.predict(svn_X_test)\n",
    "\n",
    "# calculate accuracy\n",
    "accuracy = accuracy_score(svn_y_test, svn_y_pred)\n",
    "print('SVC Model accuracy is: ', accuracy)"
   ]
  },
  {
   "cell_type": "markdown",
   "metadata": {
    "id": "b5JekIqyXyAo"
   },
   "source": [
    "**As seen above, the model accuracy for the SVC supervised learning model is only 48%, as it is not able to identify lower level features during training. As a result Neural Network and CNN models are prefered and shown below**"
   ]
  },
  {
   "cell_type": "markdown",
   "metadata": {
    "id": "REHOn8czUwQc"
   },
   "source": [
    "**Data pre-processing for Neural Network and CNN Models**"
   ]
  },
  {
   "cell_type": "markdown",
   "metadata": {
    "id": "4bANNsfv2okV"
   },
   "source": [
    "**Convert images list to numpy array**\n",
    "\n"
   ]
  },
  {
   "cell_type": "code",
   "execution_count": 11,
   "metadata": {
    "executionInfo": {
     "elapsed": 926,
     "status": "ok",
     "timestamp": 1621317150141,
     "user": {
      "displayName": "Bhavik Parikh",
      "photoUrl": "",
      "userId": "10417339530876264927"
     },
     "user_tz": -330
    },
    "id": "2eCOayqFvaJk"
   },
   "outputs": [],
   "source": [
    "images = np.array(images)"
   ]
  },
  {
   "cell_type": "markdown",
   "metadata": {
    "id": "q72COgvP2zPT"
   },
   "source": [
    "**Convert labels list to numpy array**"
   ]
  },
  {
   "cell_type": "code",
   "execution_count": null,
   "metadata": {
    "id": "-VaiAPsnwAmE"
   },
   "outputs": [],
   "source": [
    "labels = np.array(labels)"
   ]
  },
  {
   "cell_type": "markdown",
   "metadata": {
    "id": "U-mu4Csw3NHz"
   },
   "source": [
    "**Shuffle the images and labels**"
   ]
  },
  {
   "cell_type": "code",
   "execution_count": null,
   "metadata": {
    "id": "pAgHfy0BBVhb"
   },
   "outputs": [],
   "source": [
    "from sklearn.utils import shuffle\n",
    "images, labels = shuffle(images, labels)"
   ]
  },
  {
   "cell_type": "markdown",
   "metadata": {
    "id": "zNQvI4Is3Tir"
   },
   "source": [
    "**Display a few training images and their labels**"
   ]
  },
  {
   "cell_type": "code",
   "execution_count": null,
   "metadata": {
    "colab": {
     "base_uri": "https://localhost:8080/",
     "height": 300
    },
    "executionInfo": {
     "elapsed": 2447,
     "status": "ok",
     "timestamp": 1621267519435,
     "user": {
      "displayName": "Bhavik Parikh",
      "photoUrl": "",
      "userId": "10417339530876264927"
     },
     "user_tz": -330
    },
    "id": "GfsuK3z4BW9X",
    "outputId": "f6e5bd10-9c71-42e3-cc4b-7ad58e0e1591"
   },
   "outputs": [
    {
     "data": {
      "image/png": "[encoded data removed]",
      "text/plain": [
       "<Figure size 720x288 with 10 Axes>"
      ]
     },
     "metadata": {
      "needs_background": "light",
      "tags": []
     },
     "output_type": "display_data"
    }
   ],
   "source": [
    "def plot_images(images, labels, num_row=4, num_col=6):\n",
    "   \n",
    "    fig, axes = plt.subplots(num_row, num_col, figsize=(2*num_col,2*num_row))\n",
    "    for i in range(0,num_row * num_col):\n",
    "        ax = axes[i//num_col, i%num_col]       \n",
    "        ax.imshow(images[i], cmap=\"gray\")\n",
    "        ax.set_title(labels[i],weight='bold',fontsize=8)\n",
    "    plt.tight_layout()    \n",
    "    plt.show()\n",
    "\n",
    "plot_images(images,labels, num_row=2, num_col=5)"
   ]
  },
  {
   "cell_type": "markdown",
   "metadata": {
    "id": "7bj8OLt43dHI"
   },
   "source": [
    "**Split the data into train and test**"
   ]
  },
  {
   "cell_type": "code",
   "execution_count": null,
   "metadata": {
    "id": "cPvfe7NYBZ1h"
   },
   "outputs": [],
   "source": [
    "from sklearn.model_selection import train_test_split\n",
    "X_train, X_test, y_train, y_test = train_test_split(images, labels, test_size=0.3, random_state=42)"
   ]
  },
  {
   "cell_type": "code",
   "execution_count": null,
   "metadata": {
    "colab": {
     "base_uri": "https://localhost:8080/"
    },
    "executionInfo": {
     "elapsed": 872,
     "status": "ok",
     "timestamp": 1621267530265,
     "user": {
      "displayName": "Bhavik Parikh",
      "photoUrl": "",
      "userId": "10417339530876264927"
     },
     "user_tz": -330
    },
    "id": "oTgUM7xsFVnB",
    "outputId": "12c6643a-137c-48c6-c6be-5e9473707f3e"
   },
   "outputs": [
    {
     "name": "stdout",
     "output_type": "stream",
     "text": [
      "No. of images in X_train: 3170\n",
      "No. of images in X_test: 1359\n",
      "Shape of Image in X_train: (32, 32, 3)\n",
      "Shape of Image in X_test: (32, 32, 3)\n",
      "No. of labels in y_train: 3170\n",
      "No. of labels in y_test: 1359\n"
     ]
    }
   ],
   "source": [
    "print(\"No. of images in X_train:\", len(X_train))\n",
    "print(\"No. of images in X_test:\", len(X_test))\n",
    "print(\"Shape of Image in X_train:\", X_train[0].shape)\n",
    "print(\"Shape of Image in X_test:\", X_test[0].shape)\n",
    "print(\"No. of labels in y_train:\", len(y_train))\n",
    "print(\"No. of labels in y_test:\", len(y_test))"
   ]
  },
  {
   "cell_type": "markdown",
   "metadata": {
    "id": "lRgpVOgLxdHE"
   },
   "source": [
    "**Normalize the data by dividing by 255**"
   ]
  },
  {
   "cell_type": "code",
   "execution_count": null,
   "metadata": {
    "id": "O4FAcSq4xNzs"
   },
   "outputs": [],
   "source": [
    "X_train = X_train.astype('float32')\n",
    "X_test = X_test.astype('float32')\n",
    "\n",
    "X_train /= 255\n",
    "X_test /= 255"
   ]
  },
  {
   "cell_type": "markdown",
   "metadata": {
    "id": "_D8mf5OTrLcp"
   },
   "source": [
    "**One hot encode the labels for train and test data**"
   ]
  },
  {
   "cell_type": "code",
   "execution_count": null,
   "metadata": {
    "id": "WkSvix-skvOe"
   },
   "outputs": [],
   "source": [
    "from tensorflow.keras.utils import to_categorical\n",
    "\n",
    "y_train = to_categorical(y_train, num_classes=11)\n",
    "y_test = to_categorical(y_test, num_classes=11)"
   ]
  },
  {
   "cell_type": "code",
   "execution_count": null,
   "metadata": {
    "colab": {
     "base_uri": "https://localhost:8080/"
    },
    "executionInfo": {
     "elapsed": 863,
     "status": "ok",
     "timestamp": 1621273904237,
     "user": {
      "displayName": "Bhavik Parikh",
      "photoUrl": "",
      "userId": "10417339530876264927"
     },
     "user_tz": -330
    },
    "id": "PwVVNoCidF26",
    "outputId": "e2137922-69e2-4355-ef15-518f9af3e0ae"
   },
   "outputs": [
    {
     "data": {
      "text/plain": [
       "(3170, 32, 32, 3)"
      ]
     },
     "execution_count": 71,
     "metadata": {
      "tags": []
     },
     "output_type": "execute_result"
    }
   ],
   "source": [
    "X_train.shape"
   ]
  },
  {
   "cell_type": "markdown",
   "metadata": {
    "id": "szDcX9v34WDM"
   },
   "source": [
    "**Build the Nueral Network Model**"
   ]
  },
  {
   "cell_type": "code",
   "execution_count": null,
   "metadata": {
    "id": "H_Z9ArHJ3nbL"
   },
   "outputs": [],
   "source": [
    "tf.keras.backend.clear_session()\n",
    "\n",
    "nn_model = Sequential()\n",
    "\n",
    "nn_input_shape = (32,32,3)\n",
    "\n",
    "nn_model.add(tf.keras.layers.Reshape((3072,),input_shape=nn_input_shape))\n",
    "\n",
    "nn_model.add(Dense(128))\n",
    "\n",
    "nn_model.add(tf.keras.layers.LeakyReLU(0.1)) #LeakyRelu\n",
    "\n",
    "nn_model.add(Dense(64))\n",
    "\n",
    "nn_model.add(tf.keras.layers.LeakyReLU(0.1)) #LeakyRelu\n",
    "\n",
    "nn_model.add(Dense(32))\n",
    "\n",
    "nn_model.add(tf.keras.layers.LeakyReLU(0.1)) #LeakyRelu\n",
    "\n",
    "nn_model.add(Dense(11, activation=\"softmax\"))"
   ]
  },
  {
   "cell_type": "markdown",
   "metadata": {
    "id": "_mDhPBIc54S0"
   },
   "source": [
    "**Display the Nueral Network Model Summary**"
   ]
  },
  {
   "cell_type": "code",
   "execution_count": null,
   "metadata": {
    "colab": {
     "base_uri": "https://localhost:8080/"
    },
    "executionInfo": {
     "elapsed": 1084,
     "status": "ok",
     "timestamp": 1621152109627,
     "user": {
      "displayName": "Bhavik Parikh",
      "photoUrl": "",
      "userId": "10417339530876264927"
     },
     "user_tz": -330
    },
    "id": "p_y7NOZV4b5k",
    "outputId": "0fc8e2ca-f15f-4734-f7dd-985b6034a78a"
   },
   "outputs": [
    {
     "name": "stdout",
     "output_type": "stream",
     "text": [
      "Model: \"sequential\"\n",
      "_________________________________________________________________\n",
      "Layer (type)                 Output Shape              Param #   \n",
      "=================================================================\n",
      "reshape (Reshape)            (None, 3072)              0         \n",
      "_________________________________________________________________\n",
      "dense (Dense)                (None, 128)               393344    \n",
      "_________________________________________________________________\n",
      "leaky_re_lu (LeakyReLU)      (None, 128)               0         \n",
      "_________________________________________________________________\n",
      "dense_1 (Dense)              (None, 64)                8256      \n",
      "_________________________________________________________________\n",
      "leaky_re_lu_1 (LeakyReLU)    (None, 64)                0         \n",
      "_________________________________________________________________\n",
      "dense_2 (Dense)              (None, 32)                2080      \n",
      "_________________________________________________________________\n",
      "leaky_re_lu_2 (LeakyReLU)    (None, 32)                0         \n",
      "_________________________________________________________________\n",
      "dense_3 (Dense)              (None, 11)                363       \n",
      "=================================================================\n",
      "Total params: 404,043\n",
      "Trainable params: 404,043\n",
      "Non-trainable params: 0\n",
      "_________________________________________________________________\n"
     ]
    }
   ],
   "source": [
    "nn_model.summary()"
   ]
  },
  {
   "cell_type": "markdown",
   "metadata": {
    "id": "8sFS5GgS5-RO"
   },
   "source": [
    "**Compile the Neural Network Model**"
   ]
  },
  {
   "cell_type": "code",
   "execution_count": null,
   "metadata": {
    "id": "VY9MZ1Pd5cpm"
   },
   "outputs": [],
   "source": [
    "nn_model.compile(loss=\"categorical_crossentropy\", metrics=[\"accuracy\"], optimizer=\"adam\")"
   ]
  },
  {
   "cell_type": "markdown",
   "metadata": {
    "id": "zcmVW3gs6HdP"
   },
   "source": [
    "**Fit the Nueral Network Model**"
   ]
  },
  {
   "cell_type": "code",
   "execution_count": null,
   "metadata": {
    "colab": {
     "base_uri": "https://localhost:8080/"
    },
    "executionInfo": {
     "elapsed": 34067,
     "status": "ok",
     "timestamp": 1621152345401,
     "user": {
      "displayName": "Bhavik Parikh",
      "photoUrl": "",
      "userId": "10417339530876264927"
     },
     "user_tz": -330
    },
    "id": "--T8rv9q4cCq",
    "outputId": "245ec4d3-b6ef-41be-8e7d-c35339ac0fd2"
   },
   "outputs": [
    {
     "name": "stdout",
     "output_type": "stream",
     "text": [
      "Epoch 1/50\n",
      "100/100 [==============================] - 1s 7ms/step - loss: 0.1110 - accuracy: 0.9656 - val_loss: 2.5275 - val_accuracy: 0.5342\n",
      "Epoch 2/50\n",
      "100/100 [==============================] - 1s 7ms/step - loss: 0.0835 - accuracy: 0.9757 - val_loss: 2.5833 - val_accuracy: 0.5276\n",
      "Epoch 3/50\n",
      "100/100 [==============================] - 1s 6ms/step - loss: 0.0832 - accuracy: 0.9751 - val_loss: 2.3559 - val_accuracy: 0.5519\n",
      "Epoch 4/50\n",
      "100/100 [==============================] - 1s 7ms/step - loss: 0.0620 - accuracy: 0.9845 - val_loss: 2.4306 - val_accuracy: 0.5533\n",
      "Epoch 5/50\n",
      "100/100 [==============================] - 1s 6ms/step - loss: 0.0684 - accuracy: 0.9817 - val_loss: 2.4362 - val_accuracy: 0.5467\n",
      "Epoch 6/50\n",
      "100/100 [==============================] - 1s 6ms/step - loss: 0.0754 - accuracy: 0.9782 - val_loss: 2.5026 - val_accuracy: 0.5394\n",
      "Epoch 7/50\n",
      "100/100 [==============================] - 1s 7ms/step - loss: 0.0908 - accuracy: 0.9729 - val_loss: 2.8071 - val_accuracy: 0.4901\n",
      "Epoch 8/50\n",
      "100/100 [==============================] - 1s 6ms/step - loss: 0.0866 - accuracy: 0.9741 - val_loss: 2.5201 - val_accuracy: 0.5585\n",
      "Epoch 9/50\n",
      "100/100 [==============================] - 1s 6ms/step - loss: 0.0523 - accuracy: 0.9890 - val_loss: 2.8648 - val_accuracy: 0.5313\n",
      "Epoch 10/50\n",
      "100/100 [==============================] - 1s 7ms/step - loss: 0.2555 - accuracy: 0.9215 - val_loss: 2.5994 - val_accuracy: 0.5143\n",
      "Epoch 11/50\n",
      "100/100 [==============================] - 1s 6ms/step - loss: 0.3588 - accuracy: 0.8808 - val_loss: 2.4043 - val_accuracy: 0.5548\n",
      "Epoch 12/50\n",
      "100/100 [==============================] - 1s 6ms/step - loss: 0.0905 - accuracy: 0.9757 - val_loss: 2.4900 - val_accuracy: 0.5445\n",
      "Epoch 13/50\n",
      "100/100 [==============================] - 1s 6ms/step - loss: 0.0752 - accuracy: 0.9757 - val_loss: 2.5227 - val_accuracy: 0.5475\n",
      "Epoch 14/50\n",
      "100/100 [==============================] - 1s 6ms/step - loss: 0.0528 - accuracy: 0.9874 - val_loss: 2.8708 - val_accuracy: 0.5261\n",
      "Epoch 15/50\n",
      "100/100 [==============================] - 1s 7ms/step - loss: 0.1040 - accuracy: 0.9631 - val_loss: 2.8088 - val_accuracy: 0.5475\n",
      "Epoch 16/50\n",
      "100/100 [==============================] - 1s 7ms/step - loss: 0.0762 - accuracy: 0.9757 - val_loss: 2.5769 - val_accuracy: 0.5703\n",
      "Epoch 17/50\n",
      "100/100 [==============================] - 1s 6ms/step - loss: 0.0460 - accuracy: 0.9877 - val_loss: 2.6841 - val_accuracy: 0.5644\n",
      "Epoch 18/50\n",
      "100/100 [==============================] - 1s 7ms/step - loss: 0.0371 - accuracy: 0.9918 - val_loss: 3.3529 - val_accuracy: 0.5099\n",
      "Epoch 19/50\n",
      "100/100 [==============================] - 1s 7ms/step - loss: 0.1823 - accuracy: 0.9407 - val_loss: 2.8667 - val_accuracy: 0.5040\n",
      "Epoch 20/50\n",
      "100/100 [==============================] - 1s 6ms/step - loss: 0.0512 - accuracy: 0.9871 - val_loss: 3.0208 - val_accuracy: 0.5350\n",
      "Epoch 21/50\n",
      "100/100 [==============================] - 1s 6ms/step - loss: 0.2301 - accuracy: 0.9186 - val_loss: 2.8672 - val_accuracy: 0.5327\n",
      "Epoch 22/50\n",
      "100/100 [==============================] - 1s 7ms/step - loss: 0.0508 - accuracy: 0.9868 - val_loss: 2.7480 - val_accuracy: 0.5305\n",
      "Epoch 23/50\n",
      "100/100 [==============================] - 1s 7ms/step - loss: 0.0814 - accuracy: 0.9754 - val_loss: 2.6551 - val_accuracy: 0.5460\n",
      "Epoch 24/50\n",
      "100/100 [==============================] - 1s 7ms/step - loss: 0.0559 - accuracy: 0.9845 - val_loss: 3.0596 - val_accuracy: 0.5033\n",
      "Epoch 25/50\n",
      "100/100 [==============================] - 1s 7ms/step - loss: 0.0678 - accuracy: 0.9751 - val_loss: 3.2121 - val_accuracy: 0.5408\n",
      "Epoch 26/50\n",
      "100/100 [==============================] - 1s 7ms/step - loss: 0.1051 - accuracy: 0.9625 - val_loss: 2.7693 - val_accuracy: 0.5335\n",
      "Epoch 27/50\n",
      "100/100 [==============================] - 1s 7ms/step - loss: 0.0371 - accuracy: 0.9886 - val_loss: 2.9229 - val_accuracy: 0.5364\n",
      "Epoch 28/50\n",
      "100/100 [==============================] - 1s 7ms/step - loss: 0.0304 - accuracy: 0.9921 - val_loss: 2.8829 - val_accuracy: 0.5254\n",
      "Epoch 29/50\n",
      "100/100 [==============================] - 1s 6ms/step - loss: 0.0452 - accuracy: 0.9861 - val_loss: 3.1189 - val_accuracy: 0.5283\n",
      "Epoch 30/50\n",
      "100/100 [==============================] - 1s 7ms/step - loss: 0.1006 - accuracy: 0.9678 - val_loss: 3.4453 - val_accuracy: 0.5166\n",
      "Epoch 31/50\n",
      "100/100 [==============================] - 1s 6ms/step - loss: 0.2921 - accuracy: 0.9063 - val_loss: 3.1552 - val_accuracy: 0.5254\n",
      "Epoch 32/50\n",
      "100/100 [==============================] - 1s 7ms/step - loss: 0.0373 - accuracy: 0.9934 - val_loss: 2.8736 - val_accuracy: 0.5401\n",
      "Epoch 33/50\n",
      "100/100 [==============================] - 1s 7ms/step - loss: 0.0244 - accuracy: 0.9953 - val_loss: 3.2635 - val_accuracy: 0.4893\n",
      "Epoch 34/50\n",
      "100/100 [==============================] - 1s 7ms/step - loss: 0.1887 - accuracy: 0.9375 - val_loss: 3.2666 - val_accuracy: 0.4871\n",
      "Epoch 35/50\n",
      "100/100 [==============================] - 1s 6ms/step - loss: 0.0648 - accuracy: 0.9782 - val_loss: 3.0772 - val_accuracy: 0.5570\n",
      "Epoch 36/50\n",
      "100/100 [==============================] - 1s 7ms/step - loss: 0.0177 - accuracy: 0.9978 - val_loss: 3.2154 - val_accuracy: 0.5408\n",
      "Epoch 37/50\n",
      "100/100 [==============================] - 1s 7ms/step - loss: 0.0446 - accuracy: 0.9864 - val_loss: 3.5866 - val_accuracy: 0.4930\n",
      "Epoch 38/50\n",
      "100/100 [==============================] - 1s 7ms/step - loss: 0.1581 - accuracy: 0.9429 - val_loss: 5.8464 - val_accuracy: 0.4040\n",
      "Epoch 39/50\n",
      "100/100 [==============================] - 1s 7ms/step - loss: 0.1748 - accuracy: 0.9514 - val_loss: 2.8722 - val_accuracy: 0.5445\n",
      "Epoch 40/50\n",
      "100/100 [==============================] - 1s 6ms/step - loss: 0.0313 - accuracy: 0.9927 - val_loss: 2.9567 - val_accuracy: 0.5519\n",
      "Epoch 41/50\n",
      "100/100 [==============================] - 1s 6ms/step - loss: 0.0126 - accuracy: 0.9991 - val_loss: 3.0083 - val_accuracy: 0.5475\n",
      "Epoch 42/50\n",
      "100/100 [==============================] - 1s 7ms/step - loss: 0.0118 - accuracy: 0.9987 - val_loss: 3.2427 - val_accuracy: 0.5416\n",
      "Epoch 43/50\n",
      "100/100 [==============================] - 1s 7ms/step - loss: 0.3160 - accuracy: 0.9060 - val_loss: 3.7755 - val_accuracy: 0.4687\n",
      "Epoch 44/50\n",
      "100/100 [==============================] - 1s 7ms/step - loss: 0.1695 - accuracy: 0.9451 - val_loss: 2.9510 - val_accuracy: 0.5261\n",
      "Epoch 45/50\n",
      "100/100 [==============================] - 1s 7ms/step - loss: 0.0222 - accuracy: 0.9950 - val_loss: 3.1072 - val_accuracy: 0.5460\n",
      "Epoch 46/50\n",
      "100/100 [==============================] - 1s 7ms/step - loss: 0.0151 - accuracy: 0.9975 - val_loss: 2.9890 - val_accuracy: 0.5570\n",
      "Epoch 47/50\n",
      "100/100 [==============================] - 1s 7ms/step - loss: 0.0144 - accuracy: 0.9975 - val_loss: 3.0909 - val_accuracy: 0.5438\n",
      "Epoch 48/50\n",
      "100/100 [==============================] - 1s 7ms/step - loss: 0.0077 - accuracy: 0.9997 - val_loss: 3.1408 - val_accuracy: 0.5519\n",
      "Epoch 49/50\n",
      "100/100 [==============================] - 1s 7ms/step - loss: 0.0065 - accuracy: 1.0000 - val_loss: 3.1981 - val_accuracy: 0.5467\n",
      "Epoch 50/50\n",
      "100/100 [==============================] - 1s 6ms/step - loss: 0.0060 - accuracy: 1.0000 - val_loss: 3.1377 - val_accuracy: 0.5519\n"
     ]
    }
   ],
   "source": [
    "nn_training_history = nn_model.fit(X_train, y_train, batch_size=32, epochs=50, validation_data=(X_test, y_test))"
   ]
  },
  {
   "cell_type": "markdown",
   "metadata": {
    "id": "sdhc6Z-a6P7z"
   },
   "source": [
    "**Evaluate the Neural Network Model**"
   ]
  },
  {
   "cell_type": "code",
   "execution_count": null,
   "metadata": {
    "colab": {
     "base_uri": "https://localhost:8080/"
    },
    "executionInfo": {
     "elapsed": 1108,
     "status": "ok",
     "timestamp": 1621153493185,
     "user": {
      "displayName": "Bhavik Parikh",
      "photoUrl": "",
      "userId": "10417339530876264927"
     },
     "user_tz": -330
    },
    "id": "gux9G1xI6MjD",
    "outputId": "67d915f1-afde-49e2-f4a6-0191e4094e9f"
   },
   "outputs": [
    {
     "name": "stdout",
     "output_type": "stream",
     "text": [
      "43/43 [==============================] - 0s 2ms/step - loss: 3.1377 - accuracy: 0.5519\n",
      "Test loss: 3.137666940689087\n",
      "Test accuracy: 0.5518763661384583\n",
      "100/100 [==============================] - 0s 2ms/step - loss: 0.0045 - accuracy: 1.0000\n",
      "Trainig loss: 0.004519561305642128\n",
      "Trainig accuracy: 1.0\n"
     ]
    }
   ],
   "source": [
    "nn_test_score = nn_model.evaluate(X_test, y_test)\n",
    "print('Test loss:', nn_test_score[0])\n",
    "print('Test accuracy:', nn_test_score[1])\n",
    "\n",
    "nn_train_score = nn_model.evaluate(X_train, y_train)\n",
    "print('Trainig loss:', nn_train_score[0])\n",
    "print('Trainig accuracy:', nn_train_score[1])"
   ]
  },
  {
   "cell_type": "markdown",
   "metadata": {
    "id": "chgp_MhDNl3F"
   },
   "source": [
    "**The training accuracy touches almost 100%, but the validation accuracy does not improve beyond 56%. Batch sizes of 16 and 32 were used. This means that the image features learned by the neural network layers with the training dataset are not good enough in classifying the images correctly with the validation or test data set and the model is highly over fitting.**"
   ]
  },
  {
   "cell_type": "markdown",
   "metadata": {
    "id": "VCJhKF4U1DIt"
   },
   "source": [
    "**Build the CNN Model**"
   ]
  },
  {
   "cell_type": "code",
   "execution_count": null,
   "metadata": {
    "id": "94X7mju7rS-U"
   },
   "outputs": [],
   "source": [
    "cnn_input_shape = (32,32,3)\n",
    "\n",
    "num_classes = 11\n",
    "\n",
    "cnn_model = Sequential() \n",
    "\n",
    "cnn_model.add(Conv2D(filters = 32, kernel_size=(3, 3), activation='relu', input_shape=cnn_input_shape))\n",
    "\n",
    "cnn_model.add(MaxPooling2D())\n",
    "\n",
    "cnn_model.add(Conv2D(filters = 64, kernel_size=(5, 5), activation='relu'))\n",
    "\n",
    "cnn_model.add(MaxPooling2D(pool_size=(2,2))) \n",
    "\n",
    "cnn_model.add(Flatten())\n",
    "\n",
    "cnn_model.add(Dense(256)) \n",
    "\n",
    "cnn_model.add(tf.keras.layers.LeakyReLU(0.1)) #LeakyRelu\n",
    "\n",
    "cnn_model.add(Dense(64))\n",
    "\n",
    "cnn_model.add(tf.keras.layers.LeakyReLU(0.1)) #LeakyRelu\n",
    "\n",
    "cnn_model.add(Dense(32))\n",
    "\n",
    "cnn_model.add(tf.keras.layers.LeakyReLU(0.1)) #LeakyRelu\n",
    "\n",
    "cnn_model.add(Dense(num_classes, activation='softmax'))"
   ]
  },
  {
   "cell_type": "markdown",
   "metadata": {
    "id": "-H0xOldW1HIi"
   },
   "source": [
    "**Display CNN Model Summary**"
   ]
  },
  {
   "cell_type": "code",
   "execution_count": null,
   "metadata": {
    "colab": {
     "base_uri": "https://localhost:8080/"
    },
    "executionInfo": {
     "elapsed": 843,
     "status": "ok",
     "timestamp": 1621267815362,
     "user": {
      "displayName": "Bhavik Parikh",
      "photoUrl": "",
      "userId": "10417339530876264927"
     },
     "user_tz": -330
    },
    "id": "AMfDtfb6rjZ0",
    "outputId": "3de744f9-6845-480a-b949-1ed8a1f5aace"
   },
   "outputs": [
    {
     "name": "stdout",
     "output_type": "stream",
     "text": [
      "Model: \"sequential_1\"\n",
      "_________________________________________________________________\n",
      "Layer (type)                 Output Shape              Param #   \n",
      "=================================================================\n",
      "conv2d_2 (Conv2D)            (None, 30, 30, 32)        896       \n",
      "_________________________________________________________________\n",
      "max_pooling2d_2 (MaxPooling2 (None, 15, 15, 32)        0         \n",
      "_________________________________________________________________\n",
      "conv2d_3 (Conv2D)            (None, 11, 11, 64)        51264     \n",
      "_________________________________________________________________\n",
      "max_pooling2d_3 (MaxPooling2 (None, 5, 5, 64)          0         \n",
      "_________________________________________________________________\n",
      "flatten_1 (Flatten)          (None, 1600)              0         \n",
      "_________________________________________________________________\n",
      "dense_1 (Dense)              (None, 256)               409856    \n",
      "_________________________________________________________________\n",
      "leaky_re_lu (LeakyReLU)      (None, 256)               0         \n",
      "_________________________________________________________________\n",
      "dense_2 (Dense)              (None, 64)                16448     \n",
      "_________________________________________________________________\n",
      "leaky_re_lu_1 (LeakyReLU)    (None, 64)                0         \n",
      "_________________________________________________________________\n",
      "dense_3 (Dense)              (None, 32)                2080      \n",
      "_________________________________________________________________\n",
      "leaky_re_lu_2 (LeakyReLU)    (None, 32)                0         \n",
      "_________________________________________________________________\n",
      "dense_4 (Dense)              (None, 11)                363       \n",
      "=================================================================\n",
      "Total params: 480,907\n",
      "Trainable params: 480,907\n",
      "Non-trainable params: 0\n",
      "_________________________________________________________________\n"
     ]
    }
   ],
   "source": [
    "cnn_model.summary()"
   ]
  },
  {
   "cell_type": "markdown",
   "metadata": {
    "id": "9zc_-BK81LOz"
   },
   "source": [
    "**Compile the CNN Model**"
   ]
  },
  {
   "cell_type": "code",
   "execution_count": null,
   "metadata": {
    "id": "yshostIlrtac"
   },
   "outputs": [],
   "source": [
    "cnn_model.compile(loss='categorical_crossentropy', optimizer='adam', metrics=['accuracy'])"
   ]
  },
  {
   "cell_type": "markdown",
   "metadata": {
    "id": "MIJy03vc2DWt"
   },
   "source": [
    "**Fit the CNN Model and store the training history**"
   ]
  },
  {
   "cell_type": "code",
   "execution_count": null,
   "metadata": {
    "colab": {
     "base_uri": "https://localhost:8080/"
    },
    "executionInfo": {
     "elapsed": 195383,
     "status": "ok",
     "timestamp": 1621268017178,
     "user": {
      "displayName": "Bhavik Parikh",
      "photoUrl": "",
      "userId": "10417339530876264927"
     },
     "user_tz": -330
    },
    "id": "UpkJLxSLr5XU",
    "outputId": "af0f4ef5-fc9a-4198-9c3d-eb0e9d7ee596"
   },
   "outputs": [
    {
     "name": "stdout",
     "output_type": "stream",
     "text": [
      "Epoch 1/30\n",
      "100/100 [==============================] - 7s 66ms/step - loss: 2.3518 - accuracy: 0.1451 - val_loss: 2.1388 - val_accuracy: 0.1928\n",
      "Epoch 2/30\n",
      "100/100 [==============================] - 6s 64ms/step - loss: 2.0666 - accuracy: 0.2477 - val_loss: 1.6982 - val_accuracy: 0.3834\n",
      "Epoch 3/30\n",
      "100/100 [==============================] - 6s 64ms/step - loss: 1.7467 - accuracy: 0.3597 - val_loss: 1.5193 - val_accuracy: 0.4511\n",
      "Epoch 4/30\n",
      "100/100 [==============================] - 6s 65ms/step - loss: 1.4896 - accuracy: 0.4462 - val_loss: 1.3805 - val_accuracy: 0.4915\n",
      "Epoch 5/30\n",
      "100/100 [==============================] - 6s 64ms/step - loss: 1.3886 - accuracy: 0.4846 - val_loss: 1.2068 - val_accuracy: 0.5666\n",
      "Epoch 6/30\n",
      "100/100 [==============================] - 6s 64ms/step - loss: 1.0811 - accuracy: 0.6220 - val_loss: 1.0712 - val_accuracy: 0.6424\n",
      "Epoch 7/30\n",
      "100/100 [==============================] - 6s 64ms/step - loss: 0.9627 - accuracy: 0.6579 - val_loss: 1.0201 - val_accuracy: 0.6409\n",
      "Epoch 8/30\n",
      "100/100 [==============================] - 7s 65ms/step - loss: 0.8993 - accuracy: 0.6859 - val_loss: 1.0250 - val_accuracy: 0.6564\n",
      "Epoch 9/30\n",
      "100/100 [==============================] - 6s 65ms/step - loss: 0.8050 - accuracy: 0.7238 - val_loss: 1.1061 - val_accuracy: 0.6196\n",
      "Epoch 10/30\n",
      "100/100 [==============================] - 6s 64ms/step - loss: 0.8091 - accuracy: 0.7167 - val_loss: 0.7861 - val_accuracy: 0.7307\n",
      "Epoch 11/30\n",
      "100/100 [==============================] - 6s 65ms/step - loss: 0.5681 - accuracy: 0.8142 - val_loss: 0.7959 - val_accuracy: 0.7336\n",
      "Epoch 12/30\n",
      "100/100 [==============================] - 6s 65ms/step - loss: 0.5381 - accuracy: 0.8096 - val_loss: 0.7918 - val_accuracy: 0.7211\n",
      "Epoch 13/30\n",
      "100/100 [==============================] - 6s 64ms/step - loss: 0.5488 - accuracy: 0.7988 - val_loss: 0.7055 - val_accuracy: 0.7675\n",
      "Epoch 14/30\n",
      "100/100 [==============================] - 6s 65ms/step - loss: 0.4010 - accuracy: 0.8666 - val_loss: 0.9030 - val_accuracy: 0.7101\n",
      "Epoch 15/30\n",
      "100/100 [==============================] - 6s 64ms/step - loss: 0.4042 - accuracy: 0.8559 - val_loss: 0.7259 - val_accuracy: 0.7557\n",
      "Epoch 16/30\n",
      "100/100 [==============================] - 6s 64ms/step - loss: 0.3353 - accuracy: 0.8787 - val_loss: 0.9129 - val_accuracy: 0.7233\n",
      "Epoch 17/30\n",
      "100/100 [==============================] - 7s 65ms/step - loss: 0.3079 - accuracy: 0.9005 - val_loss: 0.7982 - val_accuracy: 0.7667\n",
      "Epoch 18/30\n",
      "100/100 [==============================] - 6s 64ms/step - loss: 0.2765 - accuracy: 0.9097 - val_loss: 0.7408 - val_accuracy: 0.7675\n",
      "Epoch 19/30\n",
      "100/100 [==============================] - 6s 64ms/step - loss: 0.2645 - accuracy: 0.9052 - val_loss: 0.7696 - val_accuracy: 0.7748\n",
      "Epoch 20/30\n",
      "100/100 [==============================] - 6s 65ms/step - loss: 0.2021 - accuracy: 0.9333 - val_loss: 0.9064 - val_accuracy: 0.7174\n",
      "Epoch 21/30\n",
      "100/100 [==============================] - 6s 65ms/step - loss: 0.2907 - accuracy: 0.8854 - val_loss: 0.7924 - val_accuracy: 0.7631\n",
      "Epoch 22/30\n",
      "100/100 [==============================] - 6s 65ms/step - loss: 0.2010 - accuracy: 0.9237 - val_loss: 0.8715 - val_accuracy: 0.7682\n",
      "Epoch 23/30\n",
      "100/100 [==============================] - 7s 66ms/step - loss: 0.1883 - accuracy: 0.9346 - val_loss: 0.8151 - val_accuracy: 0.7807\n",
      "Epoch 24/30\n",
      "100/100 [==============================] - 7s 65ms/step - loss: 0.1565 - accuracy: 0.9438 - val_loss: 0.9141 - val_accuracy: 0.7623\n",
      "Epoch 25/30\n",
      "100/100 [==============================] - 6s 65ms/step - loss: 0.1514 - accuracy: 0.9448 - val_loss: 0.9303 - val_accuracy: 0.7682\n",
      "Epoch 26/30\n",
      "100/100 [==============================] - 6s 65ms/step - loss: 0.1858 - accuracy: 0.9333 - val_loss: 0.9914 - val_accuracy: 0.7366\n",
      "Epoch 27/30\n",
      "100/100 [==============================] - 6s 64ms/step - loss: 0.1876 - accuracy: 0.9300 - val_loss: 0.8847 - val_accuracy: 0.7851\n",
      "Epoch 28/30\n",
      "100/100 [==============================] - 6s 65ms/step - loss: 0.1056 - accuracy: 0.9629 - val_loss: 1.0385 - val_accuracy: 0.7550\n",
      "Epoch 29/30\n",
      "100/100 [==============================] - 7s 65ms/step - loss: 0.1000 - accuracy: 0.9665 - val_loss: 0.9269 - val_accuracy: 0.7940\n",
      "Epoch 30/30\n",
      "100/100 [==============================] - 6s 65ms/step - loss: 0.0649 - accuracy: 0.9782 - val_loss: 1.0438 - val_accuracy: 0.7712\n"
     ]
    }
   ],
   "source": [
    "cnn_training_history = cnn_model.fit(X_train, y_train, batch_size=32, epochs=30, verbose=1, validation_data=(X_test, y_test))"
   ]
  },
  {
   "cell_type": "markdown",
   "metadata": {
    "id": "KYwW0EPN1a-L"
   },
   "source": [
    "**Evaluate the CNN model**"
   ]
  },
  {
   "cell_type": "code",
   "execution_count": null,
   "metadata": {
    "colab": {
     "base_uri": "https://localhost:8080/"
    },
    "executionInfo": {
     "elapsed": 2951,
     "status": "ok",
     "timestamp": 1621268046760,
     "user": {
      "displayName": "Bhavik Parikh",
      "photoUrl": "",
      "userId": "10417339530876264927"
     },
     "user_tz": -330
    },
    "id": "JQtzUhzCzhal",
    "outputId": "e56a0d2b-2fa9-40e3-836a-ce01a1b9867a"
   },
   "outputs": [
    {
     "name": "stdout",
     "output_type": "stream",
     "text": [
      "43/43 [==============================] - 1s 15ms/step - loss: 1.0438 - accuracy: 0.7712\n",
      "Test loss: 1.0437921285629272\n",
      "Test accuracy: 0.7711552381515503\n",
      "100/100 [==============================] - 2s 15ms/step - loss: 0.0526 - accuracy: 0.9842\n",
      "Training loss: 0.05262172594666481\n",
      "Training accuracy: 0.9842271208763123\n"
     ]
    }
   ],
   "source": [
    "cnn_test_score = cnn_model.evaluate(X_test, y_test)\n",
    "print('Test loss:', cnn_test_score[0])\n",
    "print('Test accuracy:', cnn_test_score[1])\n",
    "\n",
    "cnn_train_score = cnn_model.evaluate(X_train, y_train)\n",
    "print('Training loss:', cnn_train_score[0])\n",
    "print('Training accuracy:', cnn_train_score[1])"
   ]
  },
  {
   "cell_type": "markdown",
   "metadata": {
    "id": "BcIj8s1CVexG"
   },
   "source": [
    "**The best model in terms of training and test accuracy is the CNN model as shown above. The training accuracy is 98% and the test accuracy is 77%, which means that it is still an overfit model. Batch sizes of 16 and 32 were used to compare the results**"
   ]
  },
  {
   "cell_type": "markdown",
   "metadata": {
    "id": "sVeXj0mdWWlt"
   },
   "source": [
    "**Pickle the CNN Model**"
   ]
  },
  {
   "cell_type": "code",
   "execution_count": null,
   "metadata": {
    "id": "DmwFZXj_WZlU"
   },
   "outputs": [],
   "source": [
    "cnn_model.save('cnn_plant_seed.h5')\n",
    "cnn_model.save_weights('cnn_plant_seed_weights.h5')"
   ]
  },
  {
   "cell_type": "markdown",
   "metadata": {
    "id": "c2fp7-cOWl0U"
   },
   "source": [
    "**Upload all test images from the test folder**"
   ]
  },
  {
   "cell_type": "code",
   "execution_count": null,
   "metadata": {
    "id": "2lthj-o80PGQ"
   },
   "outputs": [],
   "source": [
    "test_path = \"/content/drive/MyDrive/Colab Notebooks/Data/test/\"\n",
    "test_images = []\n",
    "test_image_files = []\n",
    "for img in os.listdir(test_path):\n",
    "    test_image_files.append(img)\n",
    "    img = cv2.imread(test_path + img)\n",
    "    img = cv2.resize(img, (32,32))\n",
    "    test_images.append(img)"
   ]
  },
  {
   "cell_type": "markdown",
   "metadata": {
    "id": "WqH4HJ17Wz-j"
   },
   "source": [
    "**Convert test_images list to numpy array**"
   ]
  },
  {
   "cell_type": "code",
   "execution_count": null,
   "metadata": {
    "id": "ZsW6gNU0W198"
   },
   "outputs": [],
   "source": [
    "test_images = np.array(test_images)"
   ]
  },
  {
   "cell_type": "markdown",
   "metadata": {
    "id": "TjqVmb3pKIQ3"
   },
   "source": [
    "**Normalize the test images**"
   ]
  },
  {
   "cell_type": "code",
   "execution_count": null,
   "metadata": {
    "id": "Cd-JvErOXOn8"
   },
   "outputs": [],
   "source": [
    "test_images = test_images.astype('float32')\n",
    "test_images /= 255"
   ]
  },
  {
   "cell_type": "markdown",
   "metadata": {
    "id": "1oGt5nXmLUEO"
   },
   "source": [
    "**Predict the CNN model on test images**"
   ]
  },
  {
   "cell_type": "code",
   "execution_count": null,
   "metadata": {
    "id": "6Pt0UIZNXO2a"
   },
   "outputs": [],
   "source": [
    "test_images_labels = cnn_model.predict(test_images)"
   ]
  },
  {
   "cell_type": "markdown",
   "metadata": {
    "id": "IHiwi8QxLbgv"
   },
   "source": [
    "**Evaluate the CNN model on test images**"
   ]
  },
  {
   "cell_type": "code",
   "execution_count": null,
   "metadata": {
    "colab": {
     "base_uri": "https://localhost:8080/"
    },
    "executionInfo": {
     "elapsed": 1392,
     "status": "ok",
     "timestamp": 1621269400444,
     "user": {
      "displayName": "Bhavik Parikh",
      "photoUrl": "",
      "userId": "10417339530876264927"
     },
     "user_tz": -330
    },
    "id": "FCrS7ouxKAUf",
    "outputId": "b49a3611-dd8c-4d60-97d2-9c46b6e93f30"
   },
   "outputs": [
    {
     "name": "stdout",
     "output_type": "stream",
     "text": [
      "25/25 [==============================] - 0s 15ms/step - loss: 0.2300 - accuracy: 1.0000\n",
      "Test Images Loss: 0.22999365627765656\n",
      "Test Images accuracy: 1.0\n"
     ]
    }
   ],
   "source": [
    "cnn_test_images_score = cnn_model.evaluate(test_images, test_images_labels)\n",
    "print('Test Images Loss:', cnn_test_images_score[0])\n",
    "print('Test Images accuracy:', cnn_test_images_score[1])"
   ]
  },
  {
   "cell_type": "markdown",
   "metadata": {
    "id": "css2IdTVRdZW"
   },
   "source": [
    "**The accuracy of the CNN model on test images is 100%**"
   ]
  },
  {
   "cell_type": "markdown",
   "metadata": {
    "id": "NfFckbSzRlF-"
   },
   "source": [
    "**Extract the label identifier from the one-hot encodings**"
   ]
  },
  {
   "cell_type": "code",
   "execution_count": null,
   "metadata": {
    "id": "o8RAr6kILKnn"
   },
   "outputs": [],
   "source": [
    "test_images_label_idf = np.argmax(test_images_labels, axis = 1)"
   ]
  },
  {
   "cell_type": "markdown",
   "metadata": {
    "id": "-jNUbmzJRuaU"
   },
   "source": [
    "**Create the csv file and add the file names along with the labels**"
   ]
  },
  {
   "cell_type": "code",
   "execution_count": null,
   "metadata": {
    "id": "D9DsIXeANYcd"
   },
   "outputs": [],
   "source": [
    "import csv\n",
    "header = ['File', 'Species']\n",
    "with open('sample_submission.csv', 'w', encoding='UTF8') as f:\n",
    "    writer = csv.writer(f)\n",
    "\n",
    "    # write the header\n",
    "    writer.writerow(header)\n",
    "\n",
    "    for i in np.arange(0, len(test_image_files)):\n",
    "      if (test_images_label_idf[i] == 0):\n",
    "        test_image_label_name = 'Black-grass'\n",
    "      elif (test_images_label_idf[i] == 1):\n",
    "        test_image_label_name = 'Charlock'\n",
    "      elif (test_images_label_idf[i] == 2):\n",
    "        test_image_label_name = 'Cleavers'\n",
    "      elif (test_images_label_idf[i] == 3):\n",
    "        test_image_label_name = 'Common Chickweed'\n",
    "      elif (test_images_label_idf[i] == 4):\n",
    "        test_image_label_name = 'Fat Hen'\n",
    "      elif (test_images_label_idf[i] == 5):\n",
    "        test_image_label_name = 'Loose Silky-bent'\n",
    "      elif (test_images_label_idf[i] == 6):\n",
    "        test_image_label_name = 'Maize'\n",
    "      elif (test_images_label_idf[i] == 7):\n",
    "        test_image_label_name = 'Scentless Mayweed'\n",
    "      elif (test_images_label_idf[i] == 8):\n",
    "        test_image_label_name = 'Shepherds Purse'\n",
    "      elif (test_images_label_idf[i] == 9):\n",
    "        test_image_label_name = 'Small-flowered Cranesbill'\n",
    "      else:\n",
    "        test_image_label_name = 'Sugar beet'\n",
    "      data = [test_image_files[i], test_image_label_name]\n",
    "      writer.writerow(data)"
   ]
  }
 ],
 "metadata": {
  "colab": {
   "authorship_tag": "ABX9TyNaLCW65rDLXlazYY4fuWdf",
   "collapsed_sections": [],
   "mount_file_id": "1rS5_lJ9KWUEDLpmvE7rs-HD-ko2KtZww",
   "name": "PGPAIML_R8_Project1_CNN Part 1 and Part 2.ipynb",
   "provenance": []
  },
  "kernelspec": {
   "display_name": "Python 3",
   "language": "python",
   "name": "python3"
  },
  "language_info": {
   "codemirror_mode": {
    "name": "ipython",
    "version": 3
   },
   "file_extension": ".py",
   "mimetype": "text/x-python",
   "name": "python",
   "nbconvert_exporter": "python",
   "pygments_lexer": "ipython3",
   "version": "3.8.5"
  }
 },
 "nbformat": 4,
 "nbformat_minor": 1
}
