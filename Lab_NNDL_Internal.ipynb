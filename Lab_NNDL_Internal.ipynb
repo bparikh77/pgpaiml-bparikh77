{
  "nbformat": 4,
  "nbformat_minor": 0,
  "metadata": {
    "colab": {
      "name": "Lab_NNDL_Internal.ipynb",
      "provenance": [],
      "collapsed_sections": []
    },
    "kernelspec": {
      "display_name": "Python 3",
      "language": "python",
      "name": "python3"
    },
    "language_info": {
      "codemirror_mode": {
        "name": "ipython",
        "version": 3
      },
      "file_extension": ".py",
      "mimetype": "text/x-python",
      "name": "python",
      "nbconvert_exporter": "python",
      "pygments_lexer": "ipython3",
      "version": "3.7.2"
    },
    "accelerator": "GPU"
  },
  "cells": [
    {
      "cell_type": "markdown",
      "metadata": {
        "id": "3ukwOXvX_EV1"
      },
      "source": [
        "<img src=\"http://drive.google.com/uc?export=view&id=1tpOCamr9aWz817atPnyXus8w5gJ3mIts\" width=500px>"
      ]
    },
    {
      "cell_type": "markdown",
      "metadata": {
        "id": "j9QC42UQq5Lk"
      },
      "source": [
        "## Lab on NNDL Part 1: Tensorflow Basic"
      ]
    },
    {
      "cell_type": "markdown",
      "metadata": {
        "id": "g_vbQDYan7_7"
      },
      "source": [
        "### Tensors\n",
        "\n",
        "Tensors are multi-dimensional arrays with a uniform type"
      ]
    },
    {
      "cell_type": "markdown",
      "metadata": {
        "id": "tCkxkFqIoUIR"
      },
      "source": [
        "##Question 1\n"
      ]
    },
    {
      "cell_type": "markdown",
      "metadata": {
        "id": "7V8C8aa0rGgN"
      },
      "source": [
        "### Create a rank-0 tensor\n",
        "- A \"scalar\" is called \"rank-0\" tensor\n",
        "- the tensor should contain value 99.99"
      ]
    },
    {
      "cell_type": "code",
      "metadata": {
        "id": "CmKTQCizra4b"
      },
      "source": [
        "import tensorflow as tf"
      ],
      "execution_count": 1,
      "outputs": []
    },
    {
      "cell_type": "code",
      "metadata": {
        "id": "B6H2X7SinZbZ",
        "colab": {
          "base_uri": "https://localhost:8080/"
        },
        "outputId": "819c56f6-0ad2-4e52-b9fb-77ccffa2b4ab"
      },
      "source": [
        "rank_0_tensor = tf.constant(99.99)\n",
        "print(rank_0_tensor)"
      ],
      "execution_count": 2,
      "outputs": [
        {
          "output_type": "stream",
          "text": [
            "tf.Tensor(99.99, shape=(), dtype=float32)\n"
          ],
          "name": "stdout"
        }
      ]
    },
    {
      "cell_type": "markdown",
      "metadata": {
        "id": "xRm8MfpVrkyz"
      },
      "source": [
        "### Create a rank-1 tensor\n",
        "\n",
        "- A \"vector\" (list) is called \"rank-1\" tensor [9,8,7,6,5]\n",
        "- A vector has one axis"
      ]
    },
    {
      "cell_type": "code",
      "metadata": {
        "id": "_TvWoaBOnZXX",
        "colab": {
          "base_uri": "https://localhost:8080/"
        },
        "outputId": "389c95ce-617a-45f5-df69-294fc84542d7"
      },
      "source": [
        "rank_1_tensor = tf.constant([9,8,7,6,5])\n",
        "print(rank_1_tensor)"
      ],
      "execution_count": 3,
      "outputs": [
        {
          "output_type": "stream",
          "text": [
            "tf.Tensor([9 8 7 6 5], shape=(5,), dtype=int32)\n"
          ],
          "name": "stdout"
        }
      ]
    },
    {
      "cell_type": "markdown",
      "metadata": {
        "id": "KtiVmuAAsJjP"
      },
      "source": [
        "### Add 7 to all the elements of the above created tensor\n",
        "- Use Broadcasting"
      ]
    },
    {
      "cell_type": "code",
      "metadata": {
        "id": "lENBbpfIsskl",
        "colab": {
          "base_uri": "https://localhost:8080/"
        },
        "outputId": "8bfaccde-3a63-4b90-dfb2-7f351358c307"
      },
      "source": [
        "rank_1_tensor = tf.add(rank_1_tensor,7)\n",
        "print(rank_1_tensor)"
      ],
      "execution_count": 4,
      "outputs": [
        {
          "output_type": "stream",
          "text": [
            "tf.Tensor([16 15 14 13 12], shape=(5,), dtype=int32)\n"
          ],
          "name": "stdout"
        }
      ]
    },
    {
      "cell_type": "markdown",
      "metadata": {
        "id": "U9QVsYQwtR9u"
      },
      "source": [
        "### Create a rank-2 tensor\n",
        "[[1, 2, 3], [ 4,5,6]]\n",
        "- A \"matrix\"  \"is called rank-2\" tensor\n",
        "- It has 2 axes"
      ]
    },
    {
      "cell_type": "code",
      "metadata": {
        "id": "IZx8BooXnZUr",
        "colab": {
          "base_uri": "https://localhost:8080/"
        },
        "outputId": "7f0c06f6-c1a6-4a3f-efed-e40ebf00e46d"
      },
      "source": [
        "rank_2_tensor = tf.constant([[1, 2, 3], [ 4,5,6]])\n",
        "print(rank_2_tensor)"
      ],
      "execution_count": 5,
      "outputs": [
        {
          "output_type": "stream",
          "text": [
            "tf.Tensor(\n",
            "[[1 2 3]\n",
            " [4 5 6]], shape=(2, 3), dtype=int32)\n"
          ],
          "name": "stdout"
        }
      ]
    },
    {
      "cell_type": "markdown",
      "metadata": {
        "id": "mrnIxOUmvX_M"
      },
      "source": [
        "### Change the shape of the above created tensor to shape (3,2)"
      ]
    },
    {
      "cell_type": "code",
      "metadata": {
        "id": "YdSy6RQLvXbi",
        "colab": {
          "base_uri": "https://localhost:8080/"
        },
        "outputId": "a2485c22-be6b-4d6b-b34a-2fd0bfda8972"
      },
      "source": [
        "rank_2_tensor = tf.reshape(rank_2_tensor,(3,2))\n",
        "print(rank_2_tensor)"
      ],
      "execution_count": 6,
      "outputs": [
        {
          "output_type": "stream",
          "text": [
            "tf.Tensor(\n",
            "[[1 2]\n",
            " [3 4]\n",
            " [5 6]], shape=(3, 2), dtype=int32)\n"
          ],
          "name": "stdout"
        }
      ]
    },
    {
      "cell_type": "markdown",
      "metadata": {
        "id": "1ZXjABdNuWAT"
      },
      "source": [
        "### Check the dtype, number of axes and the shape of tensor"
      ]
    },
    {
      "cell_type": "code",
      "metadata": {
        "id": "vXj5xnbEuUwz",
        "colab": {
          "base_uri": "https://localhost:8080/"
        },
        "outputId": "6f4fd5b7-5aa6-4053-c4ac-ed86025f3191"
      },
      "source": [
        "print(rank_2_tensor.dtype)\n",
        "print(rank_2_tensor.ndim)\n",
        "print(rank_2_tensor.shape)"
      ],
      "execution_count": 7,
      "outputs": [
        {
          "output_type": "stream",
          "text": [
            "<dtype: 'int32'>\n",
            "2\n",
            "(3, 2)\n"
          ],
          "name": "stdout"
        }
      ]
    },
    {
      "cell_type": "markdown",
      "metadata": {
        "id": "yGsgzedZvB54"
      },
      "source": [
        "- Tensors can have more axes, like rank-3 or rank-4 tensor"
      ]
    },
    {
      "cell_type": "markdown",
      "metadata": {
        "id": "qYvGihNn_D2K"
      },
      "source": [
        "##Lab on NNDL Part 2: Cars selling price prediction"
      ]
    },
    {
      "cell_type": "markdown",
      "metadata": {
        "id": "S7nm5pOt_DkP"
      },
      "source": [
        "### Data Set -\n",
        "Domain: Finance, Business \n",
        "Data: https://www.kaggle.com/nehalbirla/vehicle-dataset-from-cardekho?select=Car+details+v3.csv\n",
        "\n",
        "The data contains various features of used cars.\n",
        "\n",
        "#### Features\n",
        "\n",
        "1. year\n",
        "\n",
        "2. selling_price: Price at which it was sold (**Target Feature**)\n",
        "\n",
        "3. km_driven\n",
        "\n",
        "4. fuel\n",
        "\n",
        "5. seller_type\n",
        "\n",
        "6. transmission\n",
        "\n",
        "7. Owner\n",
        "\n",
        "8. mileage\n",
        "\n",
        "9. engine\n",
        "\n",
        "10. max_power\n",
        "\n",
        "11. seats\n",
        "\n",
        " - - - - - - - - - - - - - - - - - - - - - - - - - - - - - - - - - - - - - - - - - - - - - - - "
      ]
    },
    {
      "cell_type": "markdown",
      "metadata": {
        "id": "YeoiMbH7djEv"
      },
      "source": [
        "##Objective\n",
        "\n",
        "Predict the selling price of used cars based on the given features"
      ]
    },
    {
      "cell_type": "markdown",
      "metadata": {
        "id": "sZXp-T3-xRNN"
      },
      "source": [
        "## Steps to perform:\n",
        "\n",
        "#### 1. Import important Libraries\n",
        "#### 2. Import Dataset and exploration\n",
        "#### 3. Data Pre-processing\n",
        "#### 4. Training a Neural Network Model\n",
        "#### 5. Evaluating the model\n",
        "#### 6. Conclusion\n",
        "\n",
        "\n",
        "- - - - - - - - - - - - - - - - - - - - - - - - - - - - - - - - - - - - - - - - - - - - - - - - - - -\n",
        "\n",
        "\n",
        "- - - - - - - - - - - - - - - - - - - - - - - - - - - - - - - - - - - - - - - - - - - - - - - - - - -\n"
      ]
    },
    {
      "cell_type": "markdown",
      "metadata": {
        "id": "pvJ1pMTuzUkv"
      },
      "source": [
        "### Import important libraries"
      ]
    },
    {
      "cell_type": "code",
      "metadata": {
        "id": "PGqq9f8VdLba",
        "colab": {
          "base_uri": "https://localhost:8080/"
        },
        "outputId": "900a115a-8e36-4eb6-e930-a25cdcaef2cd"
      },
      "source": [
        "from google.colab import drive\n",
        "drive.mount('/content/drive')"
      ],
      "execution_count": 8,
      "outputs": [
        {
          "output_type": "stream",
          "text": [
            "Drive already mounted at /content/drive; to attempt to forcibly remount, call drive.mount(\"/content/drive\", force_remount=True).\n"
          ],
          "name": "stdout"
        }
      ]
    },
    {
      "cell_type": "markdown",
      "metadata": {
        "id": "_88voqAH-O6J"
      },
      "source": [
        "## Question 1"
      ]
    },
    {
      "cell_type": "markdown",
      "metadata": {
        "id": "dRHCeJqP-evf"
      },
      "source": [
        "### Load the data\n",
        "- Load the data, check the shape of data"
      ]
    },
    {
      "cell_type": "code",
      "metadata": {
        "id": "Gr4YcffYd1FQ"
      },
      "source": [
        "import numpy as np\n",
        "import pandas as pd\n",
        "# Initialize the random number generator\n",
        "import random\n",
        "random.seed(0)\n",
        "\n",
        "# Ignore the warnings\n",
        "import warnings\n",
        "warnings.filterwarnings(\"ignore\")\n",
        "\n",
        "import matplotlib.pyplot as plt\n",
        "%matplotlib inline\n",
        "\n",
        "from sklearn.model_selection import train_test_split\n",
        "from sklearn.preprocessing import StandardScaler, OneHotEncoder\n",
        "from sklearn.metrics import confusion_matrix, r2_score\n",
        "\n",
        "# import libraries from tensorflow\n",
        "from keras import backend as K\n",
        "from tensorflow.keras.models import Sequential\n",
        "from tensorflow.keras.layers import Flatten, Dense, Dropout,Input, BatchNormalization, LeakyReLU, ReLU\n",
        "from keras.utils.vis_utils import plot_model\n",
        "from tensorflow.keras.optimizers import Adam, SGD\n",
        "from tensorflow.keras.callbacks import ModelCheckpoint\n",
        "from tensorflow.keras.initializers import HeUniform"
      ],
      "execution_count": 9,
      "outputs": []
    },
    {
      "cell_type": "code",
      "metadata": {
        "id": "-gDC6cSW_FSK"
      },
      "source": [
        "car_data_df = pd.read_csv(\"/content/drive/MyDrive/Colab Notebooks/Data/car_data.csv\")"
      ],
      "execution_count": 10,
      "outputs": []
    },
    {
      "cell_type": "code",
      "metadata": {
        "id": "cgAAxzef1m37",
        "colab": {
          "base_uri": "https://localhost:8080/",
          "height": 195
        },
        "outputId": "939ed04c-6731-4c04-8961-3fe64a427a32"
      },
      "source": [
        "car_data_df.head()"
      ],
      "execution_count": 11,
      "outputs": [
        {
          "output_type": "execute_result",
          "data": {
            "text/html": [
              "<div>\n",
              "<style scoped>\n",
              "    .dataframe tbody tr th:only-of-type {\n",
              "        vertical-align: middle;\n",
              "    }\n",
              "\n",
              "    .dataframe tbody tr th {\n",
              "        vertical-align: top;\n",
              "    }\n",
              "\n",
              "    .dataframe thead th {\n",
              "        text-align: right;\n",
              "    }\n",
              "</style>\n",
              "<table border=\"1\" class=\"dataframe\">\n",
              "  <thead>\n",
              "    <tr style=\"text-align: right;\">\n",
              "      <th></th>\n",
              "      <th>year</th>\n",
              "      <th>selling_price</th>\n",
              "      <th>km_driven</th>\n",
              "      <th>fuel</th>\n",
              "      <th>seller_type</th>\n",
              "      <th>transmission</th>\n",
              "      <th>owner</th>\n",
              "      <th>mileage</th>\n",
              "      <th>engine</th>\n",
              "      <th>max_power</th>\n",
              "      <th>seats</th>\n",
              "    </tr>\n",
              "  </thead>\n",
              "  <tbody>\n",
              "    <tr>\n",
              "      <th>0</th>\n",
              "      <td>2014</td>\n",
              "      <td>450000</td>\n",
              "      <td>145500</td>\n",
              "      <td>Diesel</td>\n",
              "      <td>Individual</td>\n",
              "      <td>Manual</td>\n",
              "      <td>First Owner</td>\n",
              "      <td>23.4 kmpl</td>\n",
              "      <td>1248 CC</td>\n",
              "      <td>74 bhp</td>\n",
              "      <td>5.0</td>\n",
              "    </tr>\n",
              "    <tr>\n",
              "      <th>1</th>\n",
              "      <td>2014</td>\n",
              "      <td>370000</td>\n",
              "      <td>120000</td>\n",
              "      <td>Diesel</td>\n",
              "      <td>Individual</td>\n",
              "      <td>Manual</td>\n",
              "      <td>Second Owner</td>\n",
              "      <td>21.14 kmpl</td>\n",
              "      <td>1498 CC</td>\n",
              "      <td>103.52 bhp</td>\n",
              "      <td>5.0</td>\n",
              "    </tr>\n",
              "    <tr>\n",
              "      <th>2</th>\n",
              "      <td>2006</td>\n",
              "      <td>158000</td>\n",
              "      <td>140000</td>\n",
              "      <td>Petrol</td>\n",
              "      <td>Individual</td>\n",
              "      <td>Manual</td>\n",
              "      <td>Third Owner</td>\n",
              "      <td>17.7 kmpl</td>\n",
              "      <td>1497 CC</td>\n",
              "      <td>78 bhp</td>\n",
              "      <td>5.0</td>\n",
              "    </tr>\n",
              "    <tr>\n",
              "      <th>3</th>\n",
              "      <td>2010</td>\n",
              "      <td>225000</td>\n",
              "      <td>127000</td>\n",
              "      <td>Diesel</td>\n",
              "      <td>Individual</td>\n",
              "      <td>Manual</td>\n",
              "      <td>First Owner</td>\n",
              "      <td>23.0 kmpl</td>\n",
              "      <td>1396 CC</td>\n",
              "      <td>90 bhp</td>\n",
              "      <td>5.0</td>\n",
              "    </tr>\n",
              "    <tr>\n",
              "      <th>4</th>\n",
              "      <td>2007</td>\n",
              "      <td>130000</td>\n",
              "      <td>120000</td>\n",
              "      <td>Petrol</td>\n",
              "      <td>Individual</td>\n",
              "      <td>Manual</td>\n",
              "      <td>First Owner</td>\n",
              "      <td>16.1 kmpl</td>\n",
              "      <td>1298 CC</td>\n",
              "      <td>88.2 bhp</td>\n",
              "      <td>5.0</td>\n",
              "    </tr>\n",
              "  </tbody>\n",
              "</table>\n",
              "</div>"
            ],
            "text/plain": [
              "   year  selling_price  km_driven  ...   engine   max_power seats\n",
              "0  2014         450000     145500  ...  1248 CC      74 bhp   5.0\n",
              "1  2014         370000     120000  ...  1498 CC  103.52 bhp   5.0\n",
              "2  2006         158000     140000  ...  1497 CC      78 bhp   5.0\n",
              "3  2010         225000     127000  ...  1396 CC      90 bhp   5.0\n",
              "4  2007         130000     120000  ...  1298 CC    88.2 bhp   5.0\n",
              "\n",
              "[5 rows x 11 columns]"
            ]
          },
          "metadata": {
            "tags": []
          },
          "execution_count": 11
        }
      ]
    },
    {
      "cell_type": "markdown",
      "metadata": {
        "id": "HlLKVPVH_BCT"
      },
      "source": [
        "## Question 2"
      ]
    },
    {
      "cell_type": "markdown",
      "metadata": {
        "id": "ZxoGynuBeO4t"
      },
      "source": [
        "### Preprocess the data\n",
        "- Convert mileage, engine and max_power to numerical by extract numerical values from the strings\n",
        "- Label Encode: 'owner' column\n",
        "- One Hot Encode: 'fuel','seller_type','transmission' columns\n",
        "- Drop all the instances with null values"
      ]
    },
    {
      "cell_type": "code",
      "metadata": {
        "id": "WMsPLgUw4XED"
      },
      "source": [
        "def numerical_values(x):\n",
        "  try:\n",
        "    if type(x)==str:\n",
        "      return float(x.split()[0])\n",
        "    else:\n",
        "      return x\n",
        "  except:\n",
        "    return np.nan"
      ],
      "execution_count": 12,
      "outputs": []
    },
    {
      "cell_type": "code",
      "metadata": {
        "id": "X_FaEocL4X4h"
      },
      "source": [
        "car_data_df['mileage'] = car_data_df['mileage'].map(numerical_values)\n",
        "car_data_df['engine'] = car_data_df['engine'].map(numerical_values)\n",
        "car_data_df['max_power'] = car_data_df['max_power'].map(numerical_values)"
      ],
      "execution_count": 13,
      "outputs": []
    },
    {
      "cell_type": "code",
      "metadata": {
        "id": "FPAQ-IBf4Z9k",
        "colab": {
          "base_uri": "https://localhost:8080/",
          "height": 195
        },
        "outputId": "ca4f03a0-3ad2-4169-c55a-35641c46d1b3"
      },
      "source": [
        "car_data_df.head()"
      ],
      "execution_count": 14,
      "outputs": [
        {
          "output_type": "execute_result",
          "data": {
            "text/html": [
              "<div>\n",
              "<style scoped>\n",
              "    .dataframe tbody tr th:only-of-type {\n",
              "        vertical-align: middle;\n",
              "    }\n",
              "\n",
              "    .dataframe tbody tr th {\n",
              "        vertical-align: top;\n",
              "    }\n",
              "\n",
              "    .dataframe thead th {\n",
              "        text-align: right;\n",
              "    }\n",
              "</style>\n",
              "<table border=\"1\" class=\"dataframe\">\n",
              "  <thead>\n",
              "    <tr style=\"text-align: right;\">\n",
              "      <th></th>\n",
              "      <th>year</th>\n",
              "      <th>selling_price</th>\n",
              "      <th>km_driven</th>\n",
              "      <th>fuel</th>\n",
              "      <th>seller_type</th>\n",
              "      <th>transmission</th>\n",
              "      <th>owner</th>\n",
              "      <th>mileage</th>\n",
              "      <th>engine</th>\n",
              "      <th>max_power</th>\n",
              "      <th>seats</th>\n",
              "    </tr>\n",
              "  </thead>\n",
              "  <tbody>\n",
              "    <tr>\n",
              "      <th>0</th>\n",
              "      <td>2014</td>\n",
              "      <td>450000</td>\n",
              "      <td>145500</td>\n",
              "      <td>Diesel</td>\n",
              "      <td>Individual</td>\n",
              "      <td>Manual</td>\n",
              "      <td>First Owner</td>\n",
              "      <td>23.40</td>\n",
              "      <td>1248.0</td>\n",
              "      <td>74.00</td>\n",
              "      <td>5.0</td>\n",
              "    </tr>\n",
              "    <tr>\n",
              "      <th>1</th>\n",
              "      <td>2014</td>\n",
              "      <td>370000</td>\n",
              "      <td>120000</td>\n",
              "      <td>Diesel</td>\n",
              "      <td>Individual</td>\n",
              "      <td>Manual</td>\n",
              "      <td>Second Owner</td>\n",
              "      <td>21.14</td>\n",
              "      <td>1498.0</td>\n",
              "      <td>103.52</td>\n",
              "      <td>5.0</td>\n",
              "    </tr>\n",
              "    <tr>\n",
              "      <th>2</th>\n",
              "      <td>2006</td>\n",
              "      <td>158000</td>\n",
              "      <td>140000</td>\n",
              "      <td>Petrol</td>\n",
              "      <td>Individual</td>\n",
              "      <td>Manual</td>\n",
              "      <td>Third Owner</td>\n",
              "      <td>17.70</td>\n",
              "      <td>1497.0</td>\n",
              "      <td>78.00</td>\n",
              "      <td>5.0</td>\n",
              "    </tr>\n",
              "    <tr>\n",
              "      <th>3</th>\n",
              "      <td>2010</td>\n",
              "      <td>225000</td>\n",
              "      <td>127000</td>\n",
              "      <td>Diesel</td>\n",
              "      <td>Individual</td>\n",
              "      <td>Manual</td>\n",
              "      <td>First Owner</td>\n",
              "      <td>23.00</td>\n",
              "      <td>1396.0</td>\n",
              "      <td>90.00</td>\n",
              "      <td>5.0</td>\n",
              "    </tr>\n",
              "    <tr>\n",
              "      <th>4</th>\n",
              "      <td>2007</td>\n",
              "      <td>130000</td>\n",
              "      <td>120000</td>\n",
              "      <td>Petrol</td>\n",
              "      <td>Individual</td>\n",
              "      <td>Manual</td>\n",
              "      <td>First Owner</td>\n",
              "      <td>16.10</td>\n",
              "      <td>1298.0</td>\n",
              "      <td>88.20</td>\n",
              "      <td>5.0</td>\n",
              "    </tr>\n",
              "  </tbody>\n",
              "</table>\n",
              "</div>"
            ],
            "text/plain": [
              "   year  selling_price  km_driven    fuel  ... mileage  engine max_power  seats\n",
              "0  2014         450000     145500  Diesel  ...   23.40  1248.0     74.00    5.0\n",
              "1  2014         370000     120000  Diesel  ...   21.14  1498.0    103.52    5.0\n",
              "2  2006         158000     140000  Petrol  ...   17.70  1497.0     78.00    5.0\n",
              "3  2010         225000     127000  Diesel  ...   23.00  1396.0     90.00    5.0\n",
              "4  2007         130000     120000  Petrol  ...   16.10  1298.0     88.20    5.0\n",
              "\n",
              "[5 rows x 11 columns]"
            ]
          },
          "metadata": {
            "tags": []
          },
          "execution_count": 14
        }
      ]
    },
    {
      "cell_type": "code",
      "metadata": {
        "id": "aXweg7mb4gMo"
      },
      "source": [
        "o = {'First Owner':1,'Second Owner':2,'Third Owner':3,'Fourth & Above Owner':4,'Test Drive Car':5}\n",
        "car_data_df['owner'] = car_data_df['owner'].map(o)\n"
      ],
      "execution_count": 15,
      "outputs": []
    },
    {
      "cell_type": "code",
      "metadata": {
        "id": "nVjmsyJc4kpO",
        "colab": {
          "base_uri": "https://localhost:8080/"
        },
        "outputId": "bcc6188c-9b63-48db-d88f-183ffc22618b"
      },
      "source": [
        "ohe = OneHotEncoder(drop='first',sparse=False,dtype = np.int64)\n",
        "cat_col = ['fuel','seller_type','transmission']\n",
        "z = ohe.fit_transform(car_data_df[cat_col])\n",
        "encoded_data = pd.DataFrame(z,columns=ohe.get_feature_names(cat_col))\n",
        "df1 = car_data_df.drop(columns=cat_col,axis=1)\n",
        "final_df = pd.concat([df1,encoded_data],axis=1)\n",
        "final_df.info()"
      ],
      "execution_count": 16,
      "outputs": [
        {
          "output_type": "stream",
          "text": [
            "<class 'pandas.core.frame.DataFrame'>\n",
            "RangeIndex: 8128 entries, 0 to 8127\n",
            "Data columns (total 14 columns):\n",
            " #   Column                        Non-Null Count  Dtype  \n",
            "---  ------                        --------------  -----  \n",
            " 0   year                          8128 non-null   int64  \n",
            " 1   selling_price                 8128 non-null   int64  \n",
            " 2   km_driven                     8128 non-null   int64  \n",
            " 3   owner                         8128 non-null   int64  \n",
            " 4   mileage                       7907 non-null   float64\n",
            " 5   engine                        7907 non-null   float64\n",
            " 6   max_power                     7912 non-null   float64\n",
            " 7   seats                         7907 non-null   float64\n",
            " 8   fuel_Diesel                   8128 non-null   int64  \n",
            " 9   fuel_LPG                      8128 non-null   int64  \n",
            " 10  fuel_Petrol                   8128 non-null   int64  \n",
            " 11  seller_type_Individual        8128 non-null   int64  \n",
            " 12  seller_type_Trustmark Dealer  8128 non-null   int64  \n",
            " 13  transmission_Manual           8128 non-null   int64  \n",
            "dtypes: float64(4), int64(10)\n",
            "memory usage: 889.1 KB\n"
          ],
          "name": "stdout"
        }
      ]
    },
    {
      "cell_type": "code",
      "metadata": {
        "id": "SI9R9zYYd89X"
      },
      "source": [
        "final_df.isnull().sum()\n",
        "final_df.dropna(inplace=True)"
      ],
      "execution_count": 17,
      "outputs": []
    },
    {
      "cell_type": "markdown",
      "metadata": {
        "id": "ez91ID6AEgPm"
      },
      "source": [
        "## Question 3"
      ]
    },
    {
      "cell_type": "markdown",
      "metadata": {
        "id": "9J4BlzVA_gZd"
      },
      "source": [
        "### Split the data and then scale the data\n",
        "- Split the data into ratio of 75:25 with random state=12\n",
        "- Perform standard scaling on X_train and X_test data\n"
      ]
    },
    {
      "cell_type": "code",
      "metadata": {
        "id": "IKEK8aEE_Csx"
      },
      "source": [
        "y = final_df.pop('selling_price')\n",
        "X = final_df"
      ],
      "execution_count": 18,
      "outputs": []
    },
    {
      "cell_type": "code",
      "metadata": {
        "id": "59F0lA4z8SH-"
      },
      "source": [
        "X_train, X_test, y_train, y_test = train_test_split(X, y, test_size=0.25, random_state=12)\n",
        "sc=StandardScaler()\n",
        "sc.fit(X_train)\n",
        "scaledX_train = sc.transform(X_train)\n",
        "scaledX_test = sc.transform(X_test)"
      ],
      "execution_count": 19,
      "outputs": []
    },
    {
      "cell_type": "markdown",
      "metadata": {
        "id": "cTPhO6v-AiZt"
      },
      "source": [
        "## Question 4"
      ]
    },
    {
      "cell_type": "markdown",
      "metadata": {
        "id": "SsZXmF3NAkna"
      },
      "source": [
        "### Create a Deep Neural Network Model for Regression\n",
        "- Initialize a Sequential model\n",
        "- Add 3 hidden layer with activation relu (Number of neurons = 64,128,32 respectively)\n",
        "- Add dropout layer after each hidden layer\n",
        "- Add a Dense layer with one neuron as output, use activation linear\n",
        "  \n"
      ]
    },
    {
      "cell_type": "markdown",
      "metadata": {
        "id": "aHstM0fX_-kI"
      },
      "source": [
        "### Check model summary and visualize the model"
      ]
    },
    {
      "cell_type": "code",
      "metadata": {
        "id": "xQjCMzUXBJbg"
      },
      "source": [
        "# Initializing the sequential model\n",
        "model = tf.keras.Sequential()\n",
        "\n",
        "#input layer\n",
        "model.add(tf.keras.Input(shape=(13)))\n",
        "\n",
        "# Adding the dense layers\n",
        "model.add(tf.keras.layers.Dense(64, activation='relu'))\n",
        "model.add(tf.keras.layers.Dropout(rate=0.15))\n",
        "\n",
        "# Adding the dense layers\n",
        "model.add(tf.keras.layers.Dense(128, activation='relu'))\n",
        "model.add(tf.keras.layers.Dropout(rate=0.15))\n",
        "\n",
        "# Adding the dense layers\n",
        "model.add(tf.keras.layers.Dense(32, activation='relu'))\n",
        "model.add(tf.keras.layers.Dropout(rate=0.15))\n",
        "\n",
        "#output layer\n",
        "model.add(tf.keras.layers.Dense(1, activation='linear'))"
      ],
      "execution_count": 20,
      "outputs": []
    },
    {
      "cell_type": "code",
      "metadata": {
        "id": "Ksap6Rx0BNIw",
        "colab": {
          "base_uri": "https://localhost:8080/"
        },
        "outputId": "0581996d-9d2d-4a77-95a6-8b87919e1a0f"
      },
      "source": [
        "model.summary()"
      ],
      "execution_count": 21,
      "outputs": [
        {
          "output_type": "stream",
          "text": [
            "Model: \"sequential\"\n",
            "_________________________________________________________________\n",
            "Layer (type)                 Output Shape              Param #   \n",
            "=================================================================\n",
            "dense (Dense)                (None, 64)                896       \n",
            "_________________________________________________________________\n",
            "dropout (Dropout)            (None, 64)                0         \n",
            "_________________________________________________________________\n",
            "dense_1 (Dense)              (None, 128)               8320      \n",
            "_________________________________________________________________\n",
            "dropout_1 (Dropout)          (None, 128)               0         \n",
            "_________________________________________________________________\n",
            "dense_2 (Dense)              (None, 32)                4128      \n",
            "_________________________________________________________________\n",
            "dropout_2 (Dropout)          (None, 32)                0         \n",
            "_________________________________________________________________\n",
            "dense_3 (Dense)              (None, 1)                 33        \n",
            "=================================================================\n",
            "Total params: 13,377\n",
            "Trainable params: 13,377\n",
            "Non-trainable params: 0\n",
            "_________________________________________________________________\n"
          ],
          "name": "stdout"
        }
      ]
    },
    {
      "cell_type": "code",
      "metadata": {
        "colab": {
          "base_uri": "https://localhost:8080/",
          "height": 865
        },
        "id": "d_LHt7TSRrXx",
        "outputId": "f76f4df6-31f2-4e8c-a6b8-47f321a561df"
      },
      "source": [
        "plot_model(model,show_layer_names=True,show_shapes=True)"
      ],
      "execution_count": 22,
      "outputs": [
        {
          "output_type": "execute_result",
          "data": {
            "image/png": "[encoded data removed]",
            "text/plain": [
              "<IPython.core.display.Image object>"
            ]
          },
          "metadata": {
            "tags": []
          },
          "execution_count": 22
        }
      ]
    },
    {
      "cell_type": "markdown",
      "metadata": {
        "id": "y7WTmUI-Ey95"
      },
      "source": [
        "## Question 5"
      ]
    },
    {
      "cell_type": "markdown",
      "metadata": {
        "id": "C8u_jlbABTip"
      },
      "source": [
        "### Compile the model\n",
        "\n",
        "- Compile the model\n",
        "- Use \"adam\" optimizer\n",
        "- for calculating loss, use mean absolute error\n",
        "- use R2 score (coefficient of determination) as the metric"
      ]
    },
    {
      "cell_type": "code",
      "metadata": {
        "id": "0aDDAcT7xHB0"
      },
      "source": [
        "# Function to calculate R_2 score to be used as metric\n",
        "def r_2_score(y_true, y_pred):\n",
        "  ss_res= K.sum(K.square(y_true - y_pred))\n",
        "  ss_total=K.sum(K.square(y_true- K.mean(y_true)))\n",
        "  return (1 - ss_res/(ss_total+0.0000000001))"
      ],
      "execution_count": 23,
      "outputs": []
    },
    {
      "cell_type": "code",
      "metadata": {
        "id": "_bxtG5P9-5BP"
      },
      "source": [
        "model.compile(optimizer = 'Adam', loss = 'mean_absolute_error', metrics = r_2_score)"
      ],
      "execution_count": 24,
      "outputs": []
    },
    {
      "cell_type": "markdown",
      "metadata": {
        "id": "s-ntyk6k_EmT"
      },
      "source": [
        "Other metrics can also be used to track the learning of the model:\n",
        "\n",
        "To learn different metrics for classification and regression visit the following link:\n",
        "\n",
        "Link: https://keras.io/api/metrics/#usage-with-compile-amp-fit"
      ]
    },
    {
      "cell_type": "markdown",
      "metadata": {
        "id": "n9o45OHdjDhA"
      },
      "source": [
        "### Train your model\n",
        "\n",
        "- epochs: 1000\n",
        "- batch size: 32\n",
        "- Use test data as validation data\n",
        "- Also add callback, such that if validation loss doesn't decreases consecutively 10 times, stop the training and return the weights for the previous best model"
      ]
    },
    {
      "cell_type": "code",
      "metadata": {
        "id": "-Y6tA30XjOH2",
        "colab": {
          "base_uri": "https://localhost:8080/"
        },
        "outputId": "24efdb7b-f925-4f74-98af-1f5fb6816a7d"
      },
      "source": [
        "callback = tf.keras.callbacks.EarlyStopping(monitor='val_loss', patience = 10, restore_best_weights=True,mode='min')\n",
        "history = model.fit(scaledX_train, y_train, batch_size=32, epochs=1000, verbose=1, validation_data=(scaledX_test, y_test), callbacks=callback)"
      ],
      "execution_count": 25,
      "outputs": [
        {
          "output_type": "stream",
          "text": [
            "Epoch 1/1000\n",
            "186/186 [==============================] - 2s 7ms/step - loss: 641584.0882 - r_2_score: -1.2852 - val_loss: 649101.8750 - val_r_2_score: -1.0174\n",
            "Epoch 2/1000\n",
            "186/186 [==============================] - 1s 4ms/step - loss: 628626.8697 - r_2_score: -1.0213 - val_loss: 546410.7500 - val_r_2_score: -0.6816\n",
            "Epoch 3/1000\n",
            "186/186 [==============================] - 1s 4ms/step - loss: 488720.0428 - r_2_score: -0.6078 - val_loss: 362316.2500 - val_r_2_score: 0.0126\n",
            "Epoch 4/1000\n",
            "186/186 [==============================] - 1s 4ms/step - loss: 333944.1811 - r_2_score: 0.1144 - val_loss: 277553.5000 - val_r_2_score: 0.3914\n",
            "Epoch 5/1000\n",
            "186/186 [==============================] - 1s 4ms/step - loss: 255260.9775 - r_2_score: 0.4327 - val_loss: 240181.7031 - val_r_2_score: 0.5604\n",
            "Epoch 6/1000\n",
            "186/186 [==============================] - 1s 4ms/step - loss: 240912.5506 - r_2_score: 0.5513 - val_loss: 218846.8906 - val_r_2_score: 0.6339\n",
            "Epoch 7/1000\n",
            "186/186 [==============================] - 1s 4ms/step - loss: 229173.9692 - r_2_score: 0.6086 - val_loss: 206046.5312 - val_r_2_score: 0.6755\n",
            "Epoch 8/1000\n",
            "186/186 [==============================] - 1s 4ms/step - loss: 210991.7965 - r_2_score: 0.6541 - val_loss: 197491.7500 - val_r_2_score: 0.7008\n",
            "Epoch 9/1000\n",
            "186/186 [==============================] - 1s 4ms/step - loss: 199396.3655 - r_2_score: 0.6796 - val_loss: 192875.1094 - val_r_2_score: 0.7118\n",
            "Epoch 10/1000\n",
            "186/186 [==============================] - 1s 4ms/step - loss: 194724.1806 - r_2_score: 0.7008 - val_loss: 190286.0625 - val_r_2_score: 0.7165\n",
            "Epoch 11/1000\n",
            "186/186 [==============================] - 1s 4ms/step - loss: 197401.4260 - r_2_score: 0.6769 - val_loss: 188002.9688 - val_r_2_score: 0.7230\n",
            "Epoch 12/1000\n",
            "186/186 [==============================] - 1s 4ms/step - loss: 194264.9214 - r_2_score: 0.6975 - val_loss: 186204.0312 - val_r_2_score: 0.7259\n",
            "Epoch 13/1000\n",
            "186/186 [==============================] - 1s 4ms/step - loss: 195964.5691 - r_2_score: 0.6924 - val_loss: 184853.3906 - val_r_2_score: 0.7280\n",
            "Epoch 14/1000\n",
            "186/186 [==============================] - 1s 4ms/step - loss: 177200.5172 - r_2_score: 0.7088 - val_loss: 183409.8125 - val_r_2_score: 0.7326\n",
            "Epoch 15/1000\n",
            "186/186 [==============================] - 1s 4ms/step - loss: 185410.8117 - r_2_score: 0.7207 - val_loss: 181923.5469 - val_r_2_score: 0.7356\n",
            "Epoch 16/1000\n",
            "186/186 [==============================] - 1s 4ms/step - loss: 179809.3005 - r_2_score: 0.7404 - val_loss: 181295.5625 - val_r_2_score: 0.7362\n",
            "Epoch 17/1000\n",
            "186/186 [==============================] - 1s 4ms/step - loss: 187203.4753 - r_2_score: 0.7178 - val_loss: 180190.1250 - val_r_2_score: 0.7390\n",
            "Epoch 18/1000\n",
            "186/186 [==============================] - 1s 4ms/step - loss: 187713.4623 - r_2_score: 0.7103 - val_loss: 179439.9844 - val_r_2_score: 0.7403\n",
            "Epoch 19/1000\n",
            "186/186 [==============================] - 1s 4ms/step - loss: 186261.9104 - r_2_score: 0.7328 - val_loss: 177498.6875 - val_r_2_score: 0.7448\n",
            "Epoch 20/1000\n",
            "186/186 [==============================] - 1s 4ms/step - loss: 189842.5623 - r_2_score: 0.7078 - val_loss: 176302.0156 - val_r_2_score: 0.7486\n",
            "Epoch 21/1000\n",
            "186/186 [==============================] - 1s 4ms/step - loss: 181775.3653 - r_2_score: 0.7136 - val_loss: 174881.7031 - val_r_2_score: 0.7512\n",
            "Epoch 22/1000\n",
            "186/186 [==============================] - 1s 4ms/step - loss: 176040.4425 - r_2_score: 0.7210 - val_loss: 174047.0938 - val_r_2_score: 0.7527\n",
            "Epoch 23/1000\n",
            "186/186 [==============================] - 1s 4ms/step - loss: 183380.3348 - r_2_score: 0.7355 - val_loss: 173574.1250 - val_r_2_score: 0.7540\n",
            "Epoch 24/1000\n",
            "186/186 [==============================] - 1s 4ms/step - loss: 174714.2206 - r_2_score: 0.7204 - val_loss: 172599.4844 - val_r_2_score: 0.7553\n",
            "Epoch 25/1000\n",
            "186/186 [==============================] - 1s 4ms/step - loss: 180881.9118 - r_2_score: 0.7273 - val_loss: 172378.4688 - val_r_2_score: 0.7554\n",
            "Epoch 26/1000\n",
            "186/186 [==============================] - 1s 4ms/step - loss: 172487.3651 - r_2_score: 0.7125 - val_loss: 170441.9375 - val_r_2_score: 0.7595\n",
            "Epoch 27/1000\n",
            "186/186 [==============================] - 1s 4ms/step - loss: 189847.9930 - r_2_score: 0.7318 - val_loss: 170596.4375 - val_r_2_score: 0.7595\n",
            "Epoch 28/1000\n",
            "186/186 [==============================] - 1s 4ms/step - loss: 182317.8605 - r_2_score: 0.7300 - val_loss: 169473.9844 - val_r_2_score: 0.7641\n",
            "Epoch 29/1000\n",
            "186/186 [==============================] - 1s 4ms/step - loss: 181063.8900 - r_2_score: 0.7353 - val_loss: 168548.3594 - val_r_2_score: 0.7641\n",
            "Epoch 30/1000\n",
            "186/186 [==============================] - 1s 4ms/step - loss: 179154.0882 - r_2_score: 0.7451 - val_loss: 167846.8438 - val_r_2_score: 0.7651\n",
            "Epoch 31/1000\n",
            "186/186 [==============================] - 1s 4ms/step - loss: 177074.0193 - r_2_score: 0.7557 - val_loss: 167080.2812 - val_r_2_score: 0.7669\n",
            "Epoch 32/1000\n",
            "186/186 [==============================] - 1s 4ms/step - loss: 174180.9588 - r_2_score: 0.7729 - val_loss: 166875.4688 - val_r_2_score: 0.7675\n",
            "Epoch 33/1000\n",
            "186/186 [==============================] - 1s 4ms/step - loss: 174212.4517 - r_2_score: 0.7363 - val_loss: 165513.1250 - val_r_2_score: 0.7706\n",
            "Epoch 34/1000\n",
            "186/186 [==============================] - 1s 4ms/step - loss: 168605.3006 - r_2_score: 0.7090 - val_loss: 165135.5000 - val_r_2_score: 0.7717\n",
            "Epoch 35/1000\n",
            "186/186 [==============================] - 1s 4ms/step - loss: 183906.2156 - r_2_score: 0.7618 - val_loss: 164321.7188 - val_r_2_score: 0.7728\n",
            "Epoch 36/1000\n",
            "186/186 [==============================] - 1s 4ms/step - loss: 170397.6664 - r_2_score: 0.7521 - val_loss: 163746.7031 - val_r_2_score: 0.7739\n",
            "Epoch 37/1000\n",
            "186/186 [==============================] - 1s 4ms/step - loss: 165921.6309 - r_2_score: 0.7645 - val_loss: 163517.1875 - val_r_2_score: 0.7745\n",
            "Epoch 38/1000\n",
            "186/186 [==============================] - 1s 4ms/step - loss: 164740.9797 - r_2_score: 0.7624 - val_loss: 163130.8438 - val_r_2_score: 0.7758\n",
            "Epoch 39/1000\n",
            "186/186 [==============================] - 1s 4ms/step - loss: 166293.5533 - r_2_score: 0.7581 - val_loss: 162075.4531 - val_r_2_score: 0.7768\n",
            "Epoch 40/1000\n",
            "186/186 [==============================] - 1s 4ms/step - loss: 164845.9420 - r_2_score: 0.7699 - val_loss: 161867.7656 - val_r_2_score: 0.7768\n",
            "Epoch 41/1000\n",
            "186/186 [==============================] - 1s 4ms/step - loss: 170087.8220 - r_2_score: 0.7578 - val_loss: 160022.9062 - val_r_2_score: 0.7799\n",
            "Epoch 42/1000\n",
            "186/186 [==============================] - 1s 4ms/step - loss: 170800.0341 - r_2_score: 0.7625 - val_loss: 160358.2188 - val_r_2_score: 0.7803\n",
            "Epoch 43/1000\n",
            "186/186 [==============================] - 1s 4ms/step - loss: 168410.8377 - r_2_score: 0.7076 - val_loss: 159320.3594 - val_r_2_score: 0.7824\n",
            "Epoch 44/1000\n",
            "186/186 [==============================] - 1s 4ms/step - loss: 165153.8296 - r_2_score: 0.7799 - val_loss: 159462.3906 - val_r_2_score: 0.7823\n",
            "Epoch 45/1000\n",
            "186/186 [==============================] - 1s 4ms/step - loss: 175216.2391 - r_2_score: 0.7761 - val_loss: 158551.9375 - val_r_2_score: 0.7827\n",
            "Epoch 46/1000\n",
            "186/186 [==============================] - 1s 4ms/step - loss: 169437.7548 - r_2_score: 0.7619 - val_loss: 158615.1406 - val_r_2_score: 0.7835\n",
            "Epoch 47/1000\n",
            "186/186 [==============================] - 1s 4ms/step - loss: 169780.5121 - r_2_score: 0.7640 - val_loss: 156442.6094 - val_r_2_score: 0.7844\n",
            "Epoch 48/1000\n",
            "186/186 [==============================] - 1s 4ms/step - loss: 169479.7329 - r_2_score: 0.7487 - val_loss: 157374.8906 - val_r_2_score: 0.7851\n",
            "Epoch 49/1000\n",
            "186/186 [==============================] - 1s 4ms/step - loss: 177423.3977 - r_2_score: 0.7660 - val_loss: 156300.9688 - val_r_2_score: 0.7859\n",
            "Epoch 50/1000\n",
            "186/186 [==============================] - 1s 4ms/step - loss: 161757.9512 - r_2_score: 0.7614 - val_loss: 154807.6406 - val_r_2_score: 0.7873\n",
            "Epoch 51/1000\n",
            "186/186 [==============================] - 1s 4ms/step - loss: 161851.7873 - r_2_score: 0.7399 - val_loss: 154168.7812 - val_r_2_score: 0.7882\n",
            "Epoch 52/1000\n",
            "186/186 [==============================] - 1s 4ms/step - loss: 166330.5008 - r_2_score: 0.7811 - val_loss: 154711.8281 - val_r_2_score: 0.7908\n",
            "Epoch 53/1000\n",
            "186/186 [==============================] - 1s 4ms/step - loss: 158572.8806 - r_2_score: 0.7916 - val_loss: 153372.4375 - val_r_2_score: 0.7922\n",
            "Epoch 54/1000\n",
            "186/186 [==============================] - 1s 4ms/step - loss: 159193.9735 - r_2_score: 0.7918 - val_loss: 153964.0312 - val_r_2_score: 0.7937\n",
            "Epoch 55/1000\n",
            "186/186 [==============================] - 1s 4ms/step - loss: 167443.4768 - r_2_score: 0.7814 - val_loss: 152513.0312 - val_r_2_score: 0.7940\n",
            "Epoch 56/1000\n",
            "186/186 [==============================] - 1s 4ms/step - loss: 161563.5231 - r_2_score: 0.7715 - val_loss: 152124.0938 - val_r_2_score: 0.7950\n",
            "Epoch 57/1000\n",
            "186/186 [==============================] - 1s 4ms/step - loss: 167570.8842 - r_2_score: 0.7853 - val_loss: 151399.6562 - val_r_2_score: 0.7948\n",
            "Epoch 58/1000\n",
            "186/186 [==============================] - 1s 4ms/step - loss: 158797.6924 - r_2_score: 0.7561 - val_loss: 151532.1562 - val_r_2_score: 0.7963\n",
            "Epoch 59/1000\n",
            "186/186 [==============================] - 1s 4ms/step - loss: 167854.1878 - r_2_score: 0.7809 - val_loss: 150942.6875 - val_r_2_score: 0.7967\n",
            "Epoch 60/1000\n",
            "186/186 [==============================] - 1s 4ms/step - loss: 169212.4378 - r_2_score: 0.7286 - val_loss: 150204.3281 - val_r_2_score: 0.7972\n",
            "Epoch 61/1000\n",
            "186/186 [==============================] - 1s 4ms/step - loss: 163137.9121 - r_2_score: 0.8062 - val_loss: 150417.5938 - val_r_2_score: 0.7987\n",
            "Epoch 62/1000\n",
            "186/186 [==============================] - 1s 4ms/step - loss: 153203.2109 - r_2_score: 0.8035 - val_loss: 150194.7500 - val_r_2_score: 0.8000\n",
            "Epoch 63/1000\n",
            "186/186 [==============================] - 1s 4ms/step - loss: 160886.8671 - r_2_score: 0.7986 - val_loss: 149289.5938 - val_r_2_score: 0.8005\n",
            "Epoch 64/1000\n",
            "186/186 [==============================] - 1s 4ms/step - loss: 161866.4773 - r_2_score: 0.7821 - val_loss: 149026.0469 - val_r_2_score: 0.8015\n",
            "Epoch 65/1000\n",
            "186/186 [==============================] - 1s 4ms/step - loss: 153256.7645 - r_2_score: 0.7958 - val_loss: 148332.2344 - val_r_2_score: 0.8012\n",
            "Epoch 66/1000\n",
            "186/186 [==============================] - 1s 4ms/step - loss: 154680.9727 - r_2_score: 0.7536 - val_loss: 148373.7656 - val_r_2_score: 0.8032\n",
            "Epoch 67/1000\n",
            "186/186 [==============================] - 1s 4ms/step - loss: 166771.1183 - r_2_score: 0.8048 - val_loss: 148589.7812 - val_r_2_score: 0.8036\n",
            "Epoch 68/1000\n",
            "186/186 [==============================] - 1s 4ms/step - loss: 153244.6475 - r_2_score: 0.7784 - val_loss: 147602.0938 - val_r_2_score: 0.8051\n",
            "Epoch 69/1000\n",
            "186/186 [==============================] - 1s 4ms/step - loss: 157836.3421 - r_2_score: 0.7899 - val_loss: 147673.5156 - val_r_2_score: 0.8064\n",
            "Epoch 70/1000\n",
            "186/186 [==============================] - 1s 4ms/step - loss: 162583.4929 - r_2_score: 0.7838 - val_loss: 146953.3438 - val_r_2_score: 0.8046\n",
            "Epoch 71/1000\n",
            "186/186 [==============================] - 1s 4ms/step - loss: 166074.4953 - r_2_score: 0.7963 - val_loss: 146401.3750 - val_r_2_score: 0.8063\n",
            "Epoch 72/1000\n",
            "186/186 [==============================] - 1s 4ms/step - loss: 151981.8848 - r_2_score: 0.7996 - val_loss: 145497.6562 - val_r_2_score: 0.8064\n",
            "Epoch 73/1000\n",
            "186/186 [==============================] - 1s 4ms/step - loss: 156749.8464 - r_2_score: 0.7833 - val_loss: 145230.9375 - val_r_2_score: 0.8073\n",
            "Epoch 74/1000\n",
            "186/186 [==============================] - 1s 4ms/step - loss: 159618.7308 - r_2_score: 0.7853 - val_loss: 145429.7656 - val_r_2_score: 0.8087\n",
            "Epoch 75/1000\n",
            "186/186 [==============================] - 1s 4ms/step - loss: 148920.2710 - r_2_score: 0.7863 - val_loss: 145371.0312 - val_r_2_score: 0.8109\n",
            "Epoch 76/1000\n",
            "186/186 [==============================] - 1s 4ms/step - loss: 151896.9804 - r_2_score: 0.8210 - val_loss: 144651.6250 - val_r_2_score: 0.8101\n",
            "Epoch 77/1000\n",
            "186/186 [==============================] - 1s 4ms/step - loss: 166115.1112 - r_2_score: 0.7982 - val_loss: 143854.7656 - val_r_2_score: 0.8092\n",
            "Epoch 78/1000\n",
            "186/186 [==============================] - 1s 4ms/step - loss: 154480.6557 - r_2_score: 0.7913 - val_loss: 144245.2656 - val_r_2_score: 0.8106\n",
            "Epoch 79/1000\n",
            "186/186 [==============================] - 1s 4ms/step - loss: 158316.6104 - r_2_score: 0.7991 - val_loss: 143066.2812 - val_r_2_score: 0.8095\n",
            "Epoch 80/1000\n",
            "186/186 [==============================] - 1s 4ms/step - loss: 156605.7687 - r_2_score: 0.7862 - val_loss: 143070.2031 - val_r_2_score: 0.8107\n",
            "Epoch 81/1000\n",
            "186/186 [==============================] - 1s 4ms/step - loss: 155458.4486 - r_2_score: 0.8045 - val_loss: 142667.7188 - val_r_2_score: 0.8116\n",
            "Epoch 82/1000\n",
            "186/186 [==============================] - 1s 4ms/step - loss: 153066.2538 - r_2_score: 0.8047 - val_loss: 142059.4844 - val_r_2_score: 0.8132\n",
            "Epoch 83/1000\n",
            "186/186 [==============================] - 1s 4ms/step - loss: 156016.2827 - r_2_score: 0.7634 - val_loss: 141722.6562 - val_r_2_score: 0.8144\n",
            "Epoch 84/1000\n",
            "186/186 [==============================] - 1s 4ms/step - loss: 149200.6580 - r_2_score: 0.8019 - val_loss: 141217.6406 - val_r_2_score: 0.8146\n",
            "Epoch 85/1000\n",
            "186/186 [==============================] - 1s 4ms/step - loss: 148057.8267 - r_2_score: 0.7792 - val_loss: 140878.6094 - val_r_2_score: 0.8148\n",
            "Epoch 86/1000\n",
            "186/186 [==============================] - 1s 4ms/step - loss: 152667.4519 - r_2_score: 0.7966 - val_loss: 140558.7188 - val_r_2_score: 0.8136\n",
            "Epoch 87/1000\n",
            "186/186 [==============================] - 1s 4ms/step - loss: 150975.4036 - r_2_score: 0.8071 - val_loss: 140220.9688 - val_r_2_score: 0.8138\n",
            "Epoch 88/1000\n",
            "186/186 [==============================] - 1s 4ms/step - loss: 154668.6776 - r_2_score: 0.8197 - val_loss: 140034.8125 - val_r_2_score: 0.8167\n",
            "Epoch 89/1000\n",
            "186/186 [==============================] - 1s 4ms/step - loss: 153110.1152 - r_2_score: 0.7851 - val_loss: 139853.5781 - val_r_2_score: 0.8174\n",
            "Epoch 90/1000\n",
            "186/186 [==============================] - 1s 4ms/step - loss: 157100.4815 - r_2_score: 0.8047 - val_loss: 139919.5312 - val_r_2_score: 0.8195\n",
            "Epoch 91/1000\n",
            "186/186 [==============================] - 1s 4ms/step - loss: 146889.2903 - r_2_score: 0.7844 - val_loss: 139119.6719 - val_r_2_score: 0.8185\n",
            "Epoch 92/1000\n",
            "186/186 [==============================] - 1s 4ms/step - loss: 150718.2787 - r_2_score: 0.7638 - val_loss: 138376.3750 - val_r_2_score: 0.8182\n",
            "Epoch 93/1000\n",
            "186/186 [==============================] - 1s 4ms/step - loss: 151098.1939 - r_2_score: 0.8262 - val_loss: 139279.5781 - val_r_2_score: 0.8193\n",
            "Epoch 94/1000\n",
            "186/186 [==============================] - 1s 4ms/step - loss: 150863.3659 - r_2_score: 0.7840 - val_loss: 137935.3281 - val_r_2_score: 0.8190\n",
            "Epoch 95/1000\n",
            "186/186 [==============================] - 1s 4ms/step - loss: 147243.3919 - r_2_score: 0.7818 - val_loss: 137625.1562 - val_r_2_score: 0.8199\n",
            "Epoch 96/1000\n",
            "186/186 [==============================] - 1s 5ms/step - loss: 149512.0365 - r_2_score: 0.8026 - val_loss: 137458.3281 - val_r_2_score: 0.8234\n",
            "Epoch 97/1000\n",
            "186/186 [==============================] - 1s 4ms/step - loss: 148441.8726 - r_2_score: 0.8053 - val_loss: 137137.8125 - val_r_2_score: 0.8240\n",
            "Epoch 98/1000\n",
            "186/186 [==============================] - 1s 4ms/step - loss: 149601.0279 - r_2_score: 0.7976 - val_loss: 137330.5625 - val_r_2_score: 0.8238\n",
            "Epoch 99/1000\n",
            "186/186 [==============================] - 1s 4ms/step - loss: 147253.2274 - r_2_score: 0.7912 - val_loss: 136314.7812 - val_r_2_score: 0.8246\n",
            "Epoch 100/1000\n",
            "186/186 [==============================] - 1s 4ms/step - loss: 146214.2053 - r_2_score: 0.8115 - val_loss: 136218.0625 - val_r_2_score: 0.8270\n",
            "Epoch 101/1000\n",
            "186/186 [==============================] - 1s 4ms/step - loss: 147255.1734 - r_2_score: 0.8111 - val_loss: 135777.0000 - val_r_2_score: 0.8260\n",
            "Epoch 102/1000\n",
            "186/186 [==============================] - 1s 4ms/step - loss: 150817.9839 - r_2_score: 0.8310 - val_loss: 135303.8594 - val_r_2_score: 0.8263\n",
            "Epoch 103/1000\n",
            "186/186 [==============================] - 1s 4ms/step - loss: 145518.5657 - r_2_score: 0.8349 - val_loss: 135971.7656 - val_r_2_score: 0.8296\n",
            "Epoch 104/1000\n",
            "186/186 [==============================] - 1s 4ms/step - loss: 149973.4754 - r_2_score: 0.8112 - val_loss: 134924.2812 - val_r_2_score: 0.8289\n",
            "Epoch 105/1000\n",
            "186/186 [==============================] - 1s 4ms/step - loss: 141915.9335 - r_2_score: 0.8197 - val_loss: 135239.5156 - val_r_2_score: 0.8316\n",
            "Epoch 106/1000\n",
            "186/186 [==============================] - 1s 4ms/step - loss: 149044.5201 - r_2_score: 0.8036 - val_loss: 134403.7344 - val_r_2_score: 0.8297\n",
            "Epoch 107/1000\n",
            "186/186 [==============================] - 1s 4ms/step - loss: 143229.7962 - r_2_score: 0.8055 - val_loss: 134589.0469 - val_r_2_score: 0.8323\n",
            "Epoch 108/1000\n",
            "186/186 [==============================] - 1s 4ms/step - loss: 150413.9136 - r_2_score: 0.8062 - val_loss: 134491.2031 - val_r_2_score: 0.8325\n",
            "Epoch 109/1000\n",
            "186/186 [==============================] - 1s 4ms/step - loss: 143736.6021 - r_2_score: 0.8147 - val_loss: 133495.0156 - val_r_2_score: 0.8308\n",
            "Epoch 110/1000\n",
            "186/186 [==============================] - 1s 4ms/step - loss: 148341.0458 - r_2_score: 0.7976 - val_loss: 133178.2812 - val_r_2_score: 0.8318\n",
            "Epoch 111/1000\n",
            "186/186 [==============================] - 1s 4ms/step - loss: 142108.3592 - r_2_score: 0.8148 - val_loss: 133046.6250 - val_r_2_score: 0.8326\n",
            "Epoch 112/1000\n",
            "186/186 [==============================] - 1s 5ms/step - loss: 145989.8017 - r_2_score: 0.8271 - val_loss: 132977.4062 - val_r_2_score: 0.8323\n",
            "Epoch 113/1000\n",
            "186/186 [==============================] - 1s 5ms/step - loss: 145311.2111 - r_2_score: 0.7926 - val_loss: 132310.9531 - val_r_2_score: 0.8329\n",
            "Epoch 114/1000\n",
            "186/186 [==============================] - 1s 4ms/step - loss: 142708.1288 - r_2_score: 0.8131 - val_loss: 132195.8125 - val_r_2_score: 0.8306\n",
            "Epoch 115/1000\n",
            "186/186 [==============================] - 1s 4ms/step - loss: 147388.9919 - r_2_score: 0.8189 - val_loss: 132238.0000 - val_r_2_score: 0.8363\n",
            "Epoch 116/1000\n",
            "186/186 [==============================] - 1s 4ms/step - loss: 144811.8094 - r_2_score: 0.8252 - val_loss: 131796.9844 - val_r_2_score: 0.8372\n",
            "Epoch 117/1000\n",
            "186/186 [==============================] - 1s 4ms/step - loss: 141543.0718 - r_2_score: 0.8232 - val_loss: 131698.0938 - val_r_2_score: 0.8381\n",
            "Epoch 118/1000\n",
            "186/186 [==============================] - 1s 4ms/step - loss: 151865.5847 - r_2_score: 0.8187 - val_loss: 132027.8125 - val_r_2_score: 0.8403\n",
            "Epoch 119/1000\n",
            "186/186 [==============================] - 1s 4ms/step - loss: 147918.3187 - r_2_score: 0.7719 - val_loss: 131387.1562 - val_r_2_score: 0.8408\n",
            "Epoch 120/1000\n",
            "186/186 [==============================] - 1s 4ms/step - loss: 147181.9317 - r_2_score: 0.8228 - val_loss: 130768.3516 - val_r_2_score: 0.8389\n",
            "Epoch 121/1000\n",
            "186/186 [==============================] - 1s 5ms/step - loss: 137571.2241 - r_2_score: 0.8318 - val_loss: 131474.0781 - val_r_2_score: 0.8422\n",
            "Epoch 122/1000\n",
            "186/186 [==============================] - 1s 5ms/step - loss: 144655.4117 - r_2_score: 0.8118 - val_loss: 130471.0469 - val_r_2_score: 0.8413\n",
            "Epoch 123/1000\n",
            "186/186 [==============================] - 1s 4ms/step - loss: 144178.5243 - r_2_score: 0.8163 - val_loss: 130268.0391 - val_r_2_score: 0.8433\n",
            "Epoch 124/1000\n",
            "186/186 [==============================] - 1s 4ms/step - loss: 144063.6932 - r_2_score: 0.8031 - val_loss: 129505.3984 - val_r_2_score: 0.8417\n",
            "Epoch 125/1000\n",
            "186/186 [==============================] - 1s 4ms/step - loss: 137068.4847 - r_2_score: 0.8198 - val_loss: 129286.6641 - val_r_2_score: 0.8423\n",
            "Epoch 126/1000\n",
            "186/186 [==============================] - 1s 4ms/step - loss: 138521.6606 - r_2_score: 0.8283 - val_loss: 130233.3359 - val_r_2_score: 0.8475\n",
            "Epoch 127/1000\n",
            "186/186 [==============================] - 1s 5ms/step - loss: 143895.1029 - r_2_score: 0.8021 - val_loss: 129183.5078 - val_r_2_score: 0.8475\n",
            "Epoch 128/1000\n",
            "186/186 [==============================] - 1s 4ms/step - loss: 140701.2009 - r_2_score: 0.8161 - val_loss: 128945.4766 - val_r_2_score: 0.8479\n",
            "Epoch 129/1000\n",
            "186/186 [==============================] - 1s 4ms/step - loss: 145531.5330 - r_2_score: 0.8336 - val_loss: 129607.9453 - val_r_2_score: 0.8511\n",
            "Epoch 130/1000\n",
            "186/186 [==============================] - 1s 4ms/step - loss: 142478.1552 - r_2_score: 0.8187 - val_loss: 128903.8438 - val_r_2_score: 0.8509\n",
            "Epoch 131/1000\n",
            "186/186 [==============================] - 1s 4ms/step - loss: 142727.8448 - r_2_score: 0.8185 - val_loss: 128879.0859 - val_r_2_score: 0.8515\n",
            "Epoch 132/1000\n",
            "186/186 [==============================] - 1s 4ms/step - loss: 149890.0952 - r_2_score: 0.8151 - val_loss: 128344.5938 - val_r_2_score: 0.8524\n",
            "Epoch 133/1000\n",
            "186/186 [==============================] - 1s 4ms/step - loss: 146241.1619 - r_2_score: 0.8511 - val_loss: 128119.2656 - val_r_2_score: 0.8504\n",
            "Epoch 134/1000\n",
            "186/186 [==============================] - 1s 4ms/step - loss: 143770.8911 - r_2_score: 0.8471 - val_loss: 128360.8281 - val_r_2_score: 0.8532\n",
            "Epoch 135/1000\n",
            "186/186 [==============================] - 1s 4ms/step - loss: 139999.4141 - r_2_score: 0.8332 - val_loss: 128918.9062 - val_r_2_score: 0.8544\n",
            "Epoch 136/1000\n",
            "186/186 [==============================] - 1s 4ms/step - loss: 138698.5228 - r_2_score: 0.8355 - val_loss: 128031.2344 - val_r_2_score: 0.8546\n",
            "Epoch 137/1000\n",
            "186/186 [==============================] - 1s 4ms/step - loss: 143770.7782 - r_2_score: 0.8118 - val_loss: 127655.7656 - val_r_2_score: 0.8547\n",
            "Epoch 138/1000\n",
            "186/186 [==============================] - 1s 4ms/step - loss: 146412.3427 - r_2_score: 0.8206 - val_loss: 127807.4531 - val_r_2_score: 0.8565\n",
            "Epoch 139/1000\n",
            "186/186 [==============================] - 1s 4ms/step - loss: 144492.3996 - r_2_score: 0.8482 - val_loss: 129249.1641 - val_r_2_score: 0.8582\n",
            "Epoch 140/1000\n",
            "186/186 [==============================] - 1s 4ms/step - loss: 152651.0167 - r_2_score: 0.8234 - val_loss: 127775.2969 - val_r_2_score: 0.8573\n",
            "Epoch 141/1000\n",
            "186/186 [==============================] - 1s 4ms/step - loss: 139275.3049 - r_2_score: 0.8393 - val_loss: 128394.6406 - val_r_2_score: 0.8585\n",
            "Epoch 142/1000\n",
            "186/186 [==============================] - 1s 4ms/step - loss: 140704.0856 - r_2_score: 0.8201 - val_loss: 127621.6562 - val_r_2_score: 0.8578\n",
            "Epoch 143/1000\n",
            "186/186 [==============================] - 1s 4ms/step - loss: 145252.3425 - r_2_score: 0.8348 - val_loss: 126857.0312 - val_r_2_score: 0.8565\n",
            "Epoch 144/1000\n",
            "186/186 [==============================] - 1s 4ms/step - loss: 141596.1224 - r_2_score: 0.8313 - val_loss: 126430.0938 - val_r_2_score: 0.8578\n",
            "Epoch 145/1000\n",
            "186/186 [==============================] - 1s 4ms/step - loss: 138494.8723 - r_2_score: 0.8344 - val_loss: 126187.0703 - val_r_2_score: 0.8590\n",
            "Epoch 146/1000\n",
            "186/186 [==============================] - 1s 4ms/step - loss: 138980.2667 - r_2_score: 0.8116 - val_loss: 126072.8906 - val_r_2_score: 0.8572\n",
            "Epoch 147/1000\n",
            "186/186 [==============================] - 1s 4ms/step - loss: 140165.0106 - r_2_score: 0.8160 - val_loss: 126321.3281 - val_r_2_score: 0.8606\n",
            "Epoch 148/1000\n",
            "186/186 [==============================] - 1s 4ms/step - loss: 140568.2005 - r_2_score: 0.8248 - val_loss: 125386.4844 - val_r_2_score: 0.8601\n",
            "Epoch 149/1000\n",
            "186/186 [==============================] - 1s 4ms/step - loss: 144408.7257 - r_2_score: 0.8265 - val_loss: 125427.2891 - val_r_2_score: 0.8609\n",
            "Epoch 150/1000\n",
            "186/186 [==============================] - 1s 4ms/step - loss: 145567.9042 - r_2_score: 0.8184 - val_loss: 125060.7031 - val_r_2_score: 0.8617\n",
            "Epoch 151/1000\n",
            "186/186 [==============================] - 1s 4ms/step - loss: 142342.1540 - r_2_score: 0.8419 - val_loss: 124892.7500 - val_r_2_score: 0.8621\n",
            "Epoch 152/1000\n",
            "186/186 [==============================] - 1s 4ms/step - loss: 136856.2772 - r_2_score: 0.8348 - val_loss: 124846.3203 - val_r_2_score: 0.8634\n",
            "Epoch 153/1000\n",
            "186/186 [==============================] - 1s 4ms/step - loss: 141306.1123 - r_2_score: 0.8198 - val_loss: 125433.0781 - val_r_2_score: 0.8639\n",
            "Epoch 154/1000\n",
            "186/186 [==============================] - 1s 4ms/step - loss: 136598.8055 - r_2_score: 0.8222 - val_loss: 125513.6797 - val_r_2_score: 0.8643\n",
            "Epoch 155/1000\n",
            "186/186 [==============================] - 1s 4ms/step - loss: 136601.4016 - r_2_score: 0.8329 - val_loss: 124336.7578 - val_r_2_score: 0.8639\n",
            "Epoch 156/1000\n",
            "186/186 [==============================] - 1s 4ms/step - loss: 135342.7445 - r_2_score: 0.8256 - val_loss: 124391.5391 - val_r_2_score: 0.8648\n",
            "Epoch 157/1000\n",
            "186/186 [==============================] - 1s 4ms/step - loss: 141029.8927 - r_2_score: 0.8504 - val_loss: 124533.6719 - val_r_2_score: 0.8657\n",
            "Epoch 158/1000\n",
            "186/186 [==============================] - 1s 4ms/step - loss: 132212.8019 - r_2_score: 0.8398 - val_loss: 124101.4688 - val_r_2_score: 0.8652\n",
            "Epoch 159/1000\n",
            "186/186 [==============================] - 1s 4ms/step - loss: 138566.1656 - r_2_score: 0.8179 - val_loss: 123793.4766 - val_r_2_score: 0.8664\n",
            "Epoch 160/1000\n",
            "186/186 [==============================] - 1s 4ms/step - loss: 145355.0014 - r_2_score: 0.8189 - val_loss: 123925.9141 - val_r_2_score: 0.8678\n",
            "Epoch 161/1000\n",
            "186/186 [==============================] - 1s 4ms/step - loss: 137510.5546 - r_2_score: 0.8268 - val_loss: 124258.2812 - val_r_2_score: 0.8693\n",
            "Epoch 162/1000\n",
            "186/186 [==============================] - 1s 4ms/step - loss: 143060.7220 - r_2_score: 0.8330 - val_loss: 123283.3047 - val_r_2_score: 0.8680\n",
            "Epoch 163/1000\n",
            "186/186 [==============================] - 1s 4ms/step - loss: 138223.3784 - r_2_score: 0.8329 - val_loss: 123353.2656 - val_r_2_score: 0.8699\n",
            "Epoch 164/1000\n",
            "186/186 [==============================] - 1s 5ms/step - loss: 144011.9614 - r_2_score: 0.8391 - val_loss: 124393.0703 - val_r_2_score: 0.8699\n",
            "Epoch 165/1000\n",
            "186/186 [==============================] - 1s 5ms/step - loss: 139469.0389 - r_2_score: 0.8124 - val_loss: 122697.0547 - val_r_2_score: 0.8686\n",
            "Epoch 166/1000\n",
            "186/186 [==============================] - 1s 4ms/step - loss: 142402.1875 - r_2_score: 0.8513 - val_loss: 122479.1797 - val_r_2_score: 0.8705\n",
            "Epoch 167/1000\n",
            "186/186 [==============================] - 1s 5ms/step - loss: 143107.5555 - r_2_score: 0.8431 - val_loss: 122940.1953 - val_r_2_score: 0.8712\n",
            "Epoch 168/1000\n",
            "186/186 [==============================] - 1s 5ms/step - loss: 140820.4661 - r_2_score: 0.8193 - val_loss: 122773.8672 - val_r_2_score: 0.8706\n",
            "Epoch 169/1000\n",
            "186/186 [==============================] - 1s 4ms/step - loss: 139811.6989 - r_2_score: 0.8154 - val_loss: 122119.7500 - val_r_2_score: 0.8700\n",
            "Epoch 170/1000\n",
            "186/186 [==============================] - 1s 4ms/step - loss: 143465.4549 - r_2_score: 0.8179 - val_loss: 123393.6406 - val_r_2_score: 0.8728\n",
            "Epoch 171/1000\n",
            "186/186 [==============================] - 1s 4ms/step - loss: 136022.8455 - r_2_score: 0.8472 - val_loss: 122904.7656 - val_r_2_score: 0.8745\n",
            "Epoch 172/1000\n",
            "186/186 [==============================] - 1s 4ms/step - loss: 136485.2221 - r_2_score: 0.8354 - val_loss: 122823.4922 - val_r_2_score: 0.8745\n",
            "Epoch 173/1000\n",
            "186/186 [==============================] - 1s 4ms/step - loss: 135845.6414 - r_2_score: 0.8099 - val_loss: 122449.3281 - val_r_2_score: 0.8744\n",
            "Epoch 174/1000\n",
            "186/186 [==============================] - 1s 4ms/step - loss: 134771.9588 - r_2_score: 0.8385 - val_loss: 121827.6094 - val_r_2_score: 0.8754\n",
            "Epoch 175/1000\n",
            "186/186 [==============================] - 1s 4ms/step - loss: 140698.7618 - r_2_score: 0.8287 - val_loss: 122853.8438 - val_r_2_score: 0.8758\n",
            "Epoch 176/1000\n",
            "186/186 [==============================] - 1s 4ms/step - loss: 144068.4364 - r_2_score: 0.8197 - val_loss: 122670.7734 - val_r_2_score: 0.8769\n",
            "Epoch 177/1000\n",
            "186/186 [==============================] - 1s 4ms/step - loss: 141690.5409 - r_2_score: 0.8437 - val_loss: 121585.0312 - val_r_2_score: 0.8757\n",
            "Epoch 178/1000\n",
            "186/186 [==============================] - 1s 4ms/step - loss: 139411.0017 - r_2_score: 0.8256 - val_loss: 123268.0625 - val_r_2_score: 0.8769\n",
            "Epoch 179/1000\n",
            "186/186 [==============================] - 1s 4ms/step - loss: 138915.9176 - r_2_score: 0.8489 - val_loss: 121587.8672 - val_r_2_score: 0.8766\n",
            "Epoch 180/1000\n",
            "186/186 [==============================] - 1s 4ms/step - loss: 135582.4591 - r_2_score: 0.8522 - val_loss: 121413.6641 - val_r_2_score: 0.8778\n",
            "Epoch 181/1000\n",
            "186/186 [==============================] - 1s 5ms/step - loss: 143687.5805 - r_2_score: 0.8276 - val_loss: 121328.4141 - val_r_2_score: 0.8790\n",
            "Epoch 182/1000\n",
            "186/186 [==============================] - 1s 5ms/step - loss: 140226.7771 - r_2_score: 0.8029 - val_loss: 121102.8750 - val_r_2_score: 0.8779\n",
            "Epoch 183/1000\n",
            "186/186 [==============================] - 1s 5ms/step - loss: 137198.1098 - r_2_score: 0.8448 - val_loss: 121039.7734 - val_r_2_score: 0.8781\n",
            "Epoch 184/1000\n",
            "186/186 [==============================] - 1s 4ms/step - loss: 144361.4891 - r_2_score: 0.8411 - val_loss: 121956.9453 - val_r_2_score: 0.8778\n",
            "Epoch 185/1000\n",
            "186/186 [==============================] - 1s 4ms/step - loss: 140415.2604 - r_2_score: 0.8553 - val_loss: 121318.8438 - val_r_2_score: 0.8791\n",
            "Epoch 186/1000\n",
            "186/186 [==============================] - 1s 4ms/step - loss: 138468.7599 - r_2_score: 0.8561 - val_loss: 121841.1094 - val_r_2_score: 0.8792\n",
            "Epoch 187/1000\n",
            "186/186 [==============================] - 1s 4ms/step - loss: 142809.2589 - r_2_score: 0.8373 - val_loss: 121262.8984 - val_r_2_score: 0.8808\n",
            "Epoch 188/1000\n",
            "186/186 [==============================] - 1s 4ms/step - loss: 134838.3954 - r_2_score: 0.8384 - val_loss: 120946.3594 - val_r_2_score: 0.8813\n",
            "Epoch 189/1000\n",
            "186/186 [==============================] - 1s 4ms/step - loss: 133259.1177 - r_2_score: 0.8483 - val_loss: 121433.3984 - val_r_2_score: 0.8816\n",
            "Epoch 190/1000\n",
            "186/186 [==============================] - 1s 4ms/step - loss: 137559.3233 - r_2_score: 0.8259 - val_loss: 120954.4375 - val_r_2_score: 0.8822\n",
            "Epoch 191/1000\n",
            "186/186 [==============================] - 1s 5ms/step - loss: 131494.8627 - r_2_score: 0.8514 - val_loss: 120447.1797 - val_r_2_score: 0.8819\n",
            "Epoch 192/1000\n",
            "186/186 [==============================] - 1s 4ms/step - loss: 140161.8456 - r_2_score: 0.8479 - val_loss: 120126.3438 - val_r_2_score: 0.8816\n",
            "Epoch 193/1000\n",
            "186/186 [==============================] - 1s 4ms/step - loss: 135980.6184 - r_2_score: 0.8174 - val_loss: 120023.8359 - val_r_2_score: 0.8803\n",
            "Epoch 194/1000\n",
            "186/186 [==============================] - 1s 4ms/step - loss: 133996.7205 - r_2_score: 0.8515 - val_loss: 119946.2031 - val_r_2_score: 0.8790\n",
            "Epoch 195/1000\n",
            "186/186 [==============================] - 1s 5ms/step - loss: 135238.8781 - r_2_score: 0.8214 - val_loss: 120985.5938 - val_r_2_score: 0.8829\n",
            "Epoch 196/1000\n",
            "186/186 [==============================] - 1s 4ms/step - loss: 137607.3223 - r_2_score: 0.8443 - val_loss: 120494.5469 - val_r_2_score: 0.8826\n",
            "Epoch 197/1000\n",
            "186/186 [==============================] - 1s 4ms/step - loss: 140564.0132 - r_2_score: 0.8350 - val_loss: 120100.2422 - val_r_2_score: 0.8817\n",
            "Epoch 198/1000\n",
            "186/186 [==============================] - 1s 4ms/step - loss: 136309.9157 - r_2_score: 0.8535 - val_loss: 120434.9688 - val_r_2_score: 0.8828\n",
            "Epoch 199/1000\n",
            "186/186 [==============================] - 1s 4ms/step - loss: 139652.8026 - r_2_score: 0.8079 - val_loss: 119724.4609 - val_r_2_score: 0.8822\n",
            "Epoch 200/1000\n",
            "186/186 [==============================] - 1s 4ms/step - loss: 139942.2252 - r_2_score: 0.8223 - val_loss: 119943.3359 - val_r_2_score: 0.8845\n",
            "Epoch 201/1000\n",
            "186/186 [==============================] - 1s 4ms/step - loss: 137833.7988 - r_2_score: 0.8385 - val_loss: 121392.2344 - val_r_2_score: 0.8840\n",
            "Epoch 202/1000\n",
            "186/186 [==============================] - 1s 4ms/step - loss: 135128.8117 - r_2_score: 0.8375 - val_loss: 120906.4688 - val_r_2_score: 0.8833\n",
            "Epoch 203/1000\n",
            "186/186 [==============================] - 1s 4ms/step - loss: 134884.9481 - r_2_score: 0.8449 - val_loss: 119782.9297 - val_r_2_score: 0.8840\n",
            "Epoch 204/1000\n",
            "186/186 [==============================] - 1s 5ms/step - loss: 136015.0463 - r_2_score: 0.8007 - val_loss: 120104.5547 - val_r_2_score: 0.8844\n",
            "Epoch 205/1000\n",
            "186/186 [==============================] - 1s 4ms/step - loss: 136341.7045 - r_2_score: 0.8371 - val_loss: 119299.2344 - val_r_2_score: 0.8849\n",
            "Epoch 206/1000\n",
            "186/186 [==============================] - 1s 4ms/step - loss: 134629.0506 - r_2_score: 0.8514 - val_loss: 119566.7266 - val_r_2_score: 0.8860\n",
            "Epoch 207/1000\n",
            "186/186 [==============================] - 1s 4ms/step - loss: 132572.9715 - r_2_score: 0.8448 - val_loss: 119235.8438 - val_r_2_score: 0.8855\n",
            "Epoch 208/1000\n",
            "186/186 [==============================] - 1s 4ms/step - loss: 139878.7966 - r_2_score: 0.8507 - val_loss: 118988.0938 - val_r_2_score: 0.8858\n",
            "Epoch 209/1000\n",
            "186/186 [==============================] - 1s 4ms/step - loss: 130784.5028 - r_2_score: 0.8577 - val_loss: 119322.1094 - val_r_2_score: 0.8859\n",
            "Epoch 210/1000\n",
            "186/186 [==============================] - 1s 4ms/step - loss: 144814.0965 - r_2_score: 0.8519 - val_loss: 118881.9766 - val_r_2_score: 0.8857\n",
            "Epoch 211/1000\n",
            "186/186 [==============================] - 1s 4ms/step - loss: 133829.5242 - r_2_score: 0.8315 - val_loss: 118439.9062 - val_r_2_score: 0.8846\n",
            "Epoch 212/1000\n",
            "186/186 [==============================] - 1s 4ms/step - loss: 139933.4866 - r_2_score: 0.8371 - val_loss: 118451.6562 - val_r_2_score: 0.8877\n",
            "Epoch 213/1000\n",
            "186/186 [==============================] - 1s 4ms/step - loss: 131360.3435 - r_2_score: 0.8144 - val_loss: 119322.3672 - val_r_2_score: 0.8879\n",
            "Epoch 214/1000\n",
            "186/186 [==============================] - 1s 4ms/step - loss: 135556.9501 - r_2_score: 0.8292 - val_loss: 119303.9766 - val_r_2_score: 0.8879\n",
            "Epoch 215/1000\n",
            "186/186 [==============================] - 1s 5ms/step - loss: 141017.3127 - r_2_score: 0.8499 - val_loss: 118371.1406 - val_r_2_score: 0.8875\n",
            "Epoch 216/1000\n",
            "186/186 [==============================] - 1s 4ms/step - loss: 136219.4463 - r_2_score: 0.8496 - val_loss: 118689.1094 - val_r_2_score: 0.8873\n",
            "Epoch 217/1000\n",
            "186/186 [==============================] - 1s 4ms/step - loss: 136391.3378 - r_2_score: 0.8435 - val_loss: 118162.2891 - val_r_2_score: 0.8875\n",
            "Epoch 218/1000\n",
            "186/186 [==============================] - 1s 4ms/step - loss: 136799.0836 - r_2_score: 0.8467 - val_loss: 118968.4141 - val_r_2_score: 0.8884\n",
            "Epoch 219/1000\n",
            "186/186 [==============================] - 1s 5ms/step - loss: 136246.2724 - r_2_score: 0.8493 - val_loss: 119024.8438 - val_r_2_score: 0.8889\n",
            "Epoch 220/1000\n",
            "186/186 [==============================] - 1s 5ms/step - loss: 139319.8714 - r_2_score: 0.8519 - val_loss: 118704.2891 - val_r_2_score: 0.8888\n",
            "Epoch 221/1000\n",
            "186/186 [==============================] - 1s 5ms/step - loss: 140021.2774 - r_2_score: 0.8240 - val_loss: 118064.2422 - val_r_2_score: 0.8884\n",
            "Epoch 222/1000\n",
            "186/186 [==============================] - 1s 5ms/step - loss: 134871.1175 - r_2_score: 0.8378 - val_loss: 118493.7656 - val_r_2_score: 0.8891\n",
            "Epoch 223/1000\n",
            "186/186 [==============================] - 1s 5ms/step - loss: 136908.7607 - r_2_score: 0.8552 - val_loss: 117783.8359 - val_r_2_score: 0.8895\n",
            "Epoch 224/1000\n",
            "186/186 [==============================] - 1s 5ms/step - loss: 135281.9443 - r_2_score: 0.8450 - val_loss: 118475.3125 - val_r_2_score: 0.8905\n",
            "Epoch 225/1000\n",
            "186/186 [==============================] - 1s 4ms/step - loss: 129586.4558 - r_2_score: 0.8484 - val_loss: 117393.9688 - val_r_2_score: 0.8893\n",
            "Epoch 226/1000\n",
            "186/186 [==============================] - 1s 4ms/step - loss: 132535.3681 - r_2_score: 0.8479 - val_loss: 118568.3984 - val_r_2_score: 0.8901\n",
            "Epoch 227/1000\n",
            "186/186 [==============================] - 1s 4ms/step - loss: 139667.8927 - r_2_score: 0.8065 - val_loss: 117884.7188 - val_r_2_score: 0.8903\n",
            "Epoch 228/1000\n",
            "186/186 [==============================] - 1s 5ms/step - loss: 139284.5451 - r_2_score: 0.8315 - val_loss: 118263.5859 - val_r_2_score: 0.8903\n",
            "Epoch 229/1000\n",
            "186/186 [==============================] - 1s 4ms/step - loss: 135625.0801 - r_2_score: 0.8576 - val_loss: 119569.1250 - val_r_2_score: 0.8904\n",
            "Epoch 230/1000\n",
            "186/186 [==============================] - 1s 4ms/step - loss: 137807.4006 - r_2_score: 0.8383 - val_loss: 119241.7812 - val_r_2_score: 0.8903\n",
            "Epoch 231/1000\n",
            "186/186 [==============================] - 1s 4ms/step - loss: 140906.5406 - r_2_score: 0.8641 - val_loss: 117714.2344 - val_r_2_score: 0.8907\n",
            "Epoch 232/1000\n",
            "186/186 [==============================] - 1s 4ms/step - loss: 129601.9132 - r_2_score: 0.8292 - val_loss: 117933.1484 - val_r_2_score: 0.8897\n",
            "Epoch 233/1000\n",
            "186/186 [==============================] - 1s 4ms/step - loss: 141076.6457 - r_2_score: 0.8254 - val_loss: 117542.2422 - val_r_2_score: 0.8892\n",
            "Epoch 234/1000\n",
            "186/186 [==============================] - 1s 4ms/step - loss: 135671.4504 - r_2_score: 0.8484 - val_loss: 117305.2578 - val_r_2_score: 0.8900\n",
            "Epoch 235/1000\n",
            "186/186 [==============================] - 1s 4ms/step - loss: 134382.5642 - r_2_score: 0.8440 - val_loss: 117319.0547 - val_r_2_score: 0.8904\n",
            "Epoch 236/1000\n",
            "186/186 [==============================] - 1s 4ms/step - loss: 132550.2461 - r_2_score: 0.8419 - val_loss: 117459.7734 - val_r_2_score: 0.8903\n",
            "Epoch 237/1000\n",
            "186/186 [==============================] - 1s 4ms/step - loss: 133136.1021 - r_2_score: 0.8280 - val_loss: 116689.3125 - val_r_2_score: 0.8906\n",
            "Epoch 238/1000\n",
            "186/186 [==============================] - 1s 4ms/step - loss: 135645.2955 - r_2_score: 0.8441 - val_loss: 116925.0469 - val_r_2_score: 0.8913\n",
            "Epoch 239/1000\n",
            "186/186 [==============================] - 1s 4ms/step - loss: 135240.4252 - r_2_score: 0.8460 - val_loss: 116773.2109 - val_r_2_score: 0.8912\n",
            "Epoch 240/1000\n",
            "186/186 [==============================] - 1s 5ms/step - loss: 139564.1152 - r_2_score: 0.8077 - val_loss: 116312.5547 - val_r_2_score: 0.8901\n",
            "Epoch 241/1000\n",
            "186/186 [==============================] - 1s 5ms/step - loss: 134684.3270 - r_2_score: 0.8428 - val_loss: 117581.3203 - val_r_2_score: 0.8929\n",
            "Epoch 242/1000\n",
            "186/186 [==============================] - 1s 5ms/step - loss: 129381.3200 - r_2_score: 0.8547 - val_loss: 117264.0781 - val_r_2_score: 0.8922\n",
            "Epoch 243/1000\n",
            "186/186 [==============================] - 1s 4ms/step - loss: 135020.3479 - r_2_score: 0.8568 - val_loss: 116382.1250 - val_r_2_score: 0.8920\n",
            "Epoch 244/1000\n",
            "186/186 [==============================] - 1s 5ms/step - loss: 138759.7215 - r_2_score: 0.8384 - val_loss: 116716.4219 - val_r_2_score: 0.8932\n",
            "Epoch 245/1000\n",
            "186/186 [==============================] - 1s 5ms/step - loss: 134366.8412 - r_2_score: 0.8271 - val_loss: 116586.3984 - val_r_2_score: 0.8934\n",
            "Epoch 246/1000\n",
            "186/186 [==============================] - 1s 4ms/step - loss: 132357.5849 - r_2_score: 0.8294 - val_loss: 116943.1094 - val_r_2_score: 0.8931\n",
            "Epoch 247/1000\n",
            "186/186 [==============================] - 1s 5ms/step - loss: 128531.9314 - r_2_score: 0.8598 - val_loss: 116910.1875 - val_r_2_score: 0.8937\n",
            "Epoch 248/1000\n",
            "186/186 [==============================] - 1s 4ms/step - loss: 129910.8673 - r_2_score: 0.8642 - val_loss: 117095.3906 - val_r_2_score: 0.8941\n",
            "Epoch 249/1000\n",
            "186/186 [==============================] - 1s 4ms/step - loss: 138134.7934 - r_2_score: 0.8395 - val_loss: 116347.5312 - val_r_2_score: 0.8925\n",
            "Epoch 250/1000\n",
            "186/186 [==============================] - 1s 4ms/step - loss: 133143.9331 - r_2_score: 0.8348 - val_loss: 115783.8594 - val_r_2_score: 0.8930\n",
            "Epoch 251/1000\n",
            "186/186 [==============================] - 1s 4ms/step - loss: 134194.4004 - r_2_score: 0.8488 - val_loss: 116128.5156 - val_r_2_score: 0.8934\n",
            "Epoch 252/1000\n",
            "186/186 [==============================] - 1s 4ms/step - loss: 132914.0968 - r_2_score: 0.8567 - val_loss: 116043.0391 - val_r_2_score: 0.8940\n",
            "Epoch 253/1000\n",
            "186/186 [==============================] - 1s 4ms/step - loss: 132072.5882 - r_2_score: 0.8482 - val_loss: 115997.9609 - val_r_2_score: 0.8939\n",
            "Epoch 254/1000\n",
            "186/186 [==============================] - 1s 4ms/step - loss: 134489.7504 - r_2_score: 0.8502 - val_loss: 115532.2344 - val_r_2_score: 0.8924\n",
            "Epoch 255/1000\n",
            "186/186 [==============================] - 1s 4ms/step - loss: 131640.1743 - r_2_score: 0.8504 - val_loss: 115589.4453 - val_r_2_score: 0.8930\n",
            "Epoch 256/1000\n",
            "186/186 [==============================] - 1s 4ms/step - loss: 130513.7003 - r_2_score: 0.8335 - val_loss: 115513.6484 - val_r_2_score: 0.8900\n",
            "Epoch 257/1000\n",
            "186/186 [==============================] - 1s 4ms/step - loss: 136979.7874 - r_2_score: 0.8349 - val_loss: 115734.5703 - val_r_2_score: 0.8916\n",
            "Epoch 258/1000\n",
            "186/186 [==============================] - 1s 4ms/step - loss: 137959.0977 - r_2_score: 0.8613 - val_loss: 115454.9219 - val_r_2_score: 0.8916\n",
            "Epoch 259/1000\n",
            "186/186 [==============================] - 1s 4ms/step - loss: 134493.5268 - r_2_score: 0.8558 - val_loss: 117379.4062 - val_r_2_score: 0.8942\n",
            "Epoch 260/1000\n",
            "186/186 [==============================] - 1s 4ms/step - loss: 134263.3050 - r_2_score: 0.8488 - val_loss: 116036.0703 - val_r_2_score: 0.8932\n",
            "Epoch 261/1000\n",
            "186/186 [==============================] - 1s 4ms/step - loss: 135683.4250 - r_2_score: 0.8342 - val_loss: 116141.3203 - val_r_2_score: 0.8953\n",
            "Epoch 262/1000\n",
            "186/186 [==============================] - 1s 4ms/step - loss: 134654.7087 - r_2_score: 0.8428 - val_loss: 116812.8516 - val_r_2_score: 0.8950\n",
            "Epoch 263/1000\n",
            "186/186 [==============================] - 1s 4ms/step - loss: 130547.0962 - r_2_score: 0.8326 - val_loss: 115339.2969 - val_r_2_score: 0.8949\n",
            "Epoch 264/1000\n",
            "186/186 [==============================] - 1s 4ms/step - loss: 135668.6766 - r_2_score: 0.8383 - val_loss: 115642.0156 - val_r_2_score: 0.8959\n",
            "Epoch 265/1000\n",
            "186/186 [==============================] - 1s 5ms/step - loss: 133328.7628 - r_2_score: 0.8437 - val_loss: 115894.3984 - val_r_2_score: 0.8958\n",
            "Epoch 266/1000\n",
            "186/186 [==============================] - 1s 4ms/step - loss: 128751.5024 - r_2_score: 0.8572 - val_loss: 115417.3203 - val_r_2_score: 0.8959\n",
            "Epoch 267/1000\n",
            "186/186 [==============================] - 1s 4ms/step - loss: 136316.6478 - r_2_score: 0.8536 - val_loss: 116005.4062 - val_r_2_score: 0.8958\n",
            "Epoch 268/1000\n",
            "186/186 [==============================] - 1s 4ms/step - loss: 135473.5271 - r_2_score: 0.8606 - val_loss: 115920.4453 - val_r_2_score: 0.8972\n",
            "Epoch 269/1000\n",
            "186/186 [==============================] - 1s 4ms/step - loss: 127762.1472 - r_2_score: 0.8601 - val_loss: 116111.7266 - val_r_2_score: 0.8974\n",
            "Epoch 270/1000\n",
            "186/186 [==============================] - 1s 5ms/step - loss: 130427.4195 - r_2_score: 0.8469 - val_loss: 115419.6641 - val_r_2_score: 0.8966\n",
            "Epoch 271/1000\n",
            "186/186 [==============================] - 1s 4ms/step - loss: 132167.6638 - r_2_score: 0.8296 - val_loss: 114904.0391 - val_r_2_score: 0.8957\n",
            "Epoch 272/1000\n",
            "186/186 [==============================] - 1s 5ms/step - loss: 131197.4157 - r_2_score: 0.8351 - val_loss: 114954.8203 - val_r_2_score: 0.8957\n",
            "Epoch 273/1000\n",
            "186/186 [==============================] - 1s 4ms/step - loss: 129523.4223 - r_2_score: 0.8664 - val_loss: 115506.9922 - val_r_2_score: 0.8970\n",
            "Epoch 274/1000\n",
            "186/186 [==============================] - 1s 5ms/step - loss: 135481.9588 - r_2_score: 0.8343 - val_loss: 115695.8828 - val_r_2_score: 0.8967\n",
            "Epoch 275/1000\n",
            "186/186 [==============================] - 1s 5ms/step - loss: 134000.4962 - r_2_score: 0.8629 - val_loss: 115281.7266 - val_r_2_score: 0.8964\n",
            "Epoch 276/1000\n",
            "186/186 [==============================] - 1s 4ms/step - loss: 135491.6449 - r_2_score: 0.8383 - val_loss: 115158.2500 - val_r_2_score: 0.8967\n",
            "Epoch 277/1000\n",
            "186/186 [==============================] - 1s 4ms/step - loss: 134306.5945 - r_2_score: 0.8520 - val_loss: 114958.7266 - val_r_2_score: 0.8979\n",
            "Epoch 278/1000\n",
            "186/186 [==============================] - 1s 4ms/step - loss: 132771.3449 - r_2_score: 0.8612 - val_loss: 114707.5703 - val_r_2_score: 0.8979\n",
            "Epoch 279/1000\n",
            "186/186 [==============================] - 1s 4ms/step - loss: 131646.4698 - r_2_score: 0.8095 - val_loss: 115061.5781 - val_r_2_score: 0.8972\n",
            "Epoch 280/1000\n",
            "186/186 [==============================] - 1s 4ms/step - loss: 133746.2945 - r_2_score: 0.8450 - val_loss: 114838.7109 - val_r_2_score: 0.8964\n",
            "Epoch 281/1000\n",
            "186/186 [==============================] - 1s 4ms/step - loss: 131523.8304 - r_2_score: 0.8593 - val_loss: 115028.5547 - val_r_2_score: 0.8973\n",
            "Epoch 282/1000\n",
            "186/186 [==============================] - 1s 5ms/step - loss: 135546.8040 - r_2_score: 0.8275 - val_loss: 115610.7422 - val_r_2_score: 0.8980\n",
            "Epoch 283/1000\n",
            "186/186 [==============================] - 1s 4ms/step - loss: 139292.9453 - r_2_score: 0.8099 - val_loss: 115452.4219 - val_r_2_score: 0.8978\n",
            "Epoch 284/1000\n",
            "186/186 [==============================] - 1s 5ms/step - loss: 134916.9174 - r_2_score: 0.8437 - val_loss: 116489.5312 - val_r_2_score: 0.8973\n",
            "Epoch 285/1000\n",
            "186/186 [==============================] - 1s 4ms/step - loss: 135378.9992 - r_2_score: 0.8240 - val_loss: 114858.3594 - val_r_2_score: 0.8975\n",
            "Epoch 286/1000\n",
            "186/186 [==============================] - 1s 4ms/step - loss: 138789.3422 - r_2_score: 0.8411 - val_loss: 114764.4688 - val_r_2_score: 0.8977\n",
            "Epoch 287/1000\n",
            "186/186 [==============================] - 1s 4ms/step - loss: 128393.6622 - r_2_score: 0.8571 - val_loss: 114825.1016 - val_r_2_score: 0.8973\n",
            "Epoch 288/1000\n",
            "186/186 [==============================] - 1s 4ms/step - loss: 131937.3298 - r_2_score: 0.8516 - val_loss: 115093.9453 - val_r_2_score: 0.8976\n"
          ],
          "name": "stdout"
        }
      ]
    },
    {
      "cell_type": "markdown",
      "metadata": {
        "id": "AW4SEP8kT2ls"
      },
      "source": [
        "## Question 6"
      ]
    },
    {
      "cell_type": "markdown",
      "metadata": {
        "id": "EJDoix_7JU61"
      },
      "source": [
        "### Evaluate the model\n",
        "- Evaluate the model on test data\n",
        "- Visualize the model's learning"
      ]
    },
    {
      "cell_type": "code",
      "metadata": {
        "id": "HdH8pYBIjHGL",
        "colab": {
          "base_uri": "https://localhost:8080/"
        },
        "outputId": "60e8a440-f6fc-4bc4-a9ee-ac92f757a32e"
      },
      "source": [
        "model.evaluate(scaledX_test, y_test, batch_size=64)"
      ],
      "execution_count": 27,
      "outputs": [
        {
          "output_type": "stream",
          "text": [
            "31/31 [==============================] - 0s 2ms/step - loss: 114707.5781 - r_2_score: 0.9245\n"
          ],
          "name": "stdout"
        },
        {
          "output_type": "execute_result",
          "data": {
            "text/plain": [
              "[114707.578125, 0.9245452880859375]"
            ]
          },
          "metadata": {
            "tags": []
          },
          "execution_count": 27
        }
      ]
    },
    {
      "cell_type": "markdown",
      "metadata": {
        "id": "E4-3G8h0KPS_"
      },
      "source": [
        "- Hint: The R2 score will get affected by batch size. \n",
        "\n",
        "**Batch Size**: Number of samples considered in one iteration"
      ]
    },
    {
      "cell_type": "markdown",
      "metadata": {
        "id": "MHmWkGM9E61i"
      },
      "source": [
        "### Check the R2 score on complete test data"
      ]
    },
    {
      "cell_type": "code",
      "metadata": {
        "id": "5Ts_powwDqdK",
        "colab": {
          "base_uri": "https://localhost:8080/"
        },
        "outputId": "2c4f3774-d7bd-41ec-8e01-f48c53237af0"
      },
      "source": [
        "y_pred = model.predict(scaledX_test)\n",
        "print(r2_score(y_test,y_pred))"
      ],
      "execution_count": 30,
      "outputs": [
        {
          "output_type": "stream",
          "text": [
            "0.9348399712214532\n"
          ],
          "name": "stdout"
        }
      ]
    },
    {
      "cell_type": "markdown",
      "metadata": {
        "id": "hUpDD74Xjh01"
      },
      "source": [
        "### Visualize model learning\n",
        "- Visualize model learning using train and test r2 score\n",
        "- Visualize model learning using train and test loss"
      ]
    },
    {
      "cell_type": "code",
      "metadata": {
        "id": "WSiMhJPpk3GO",
        "colab": {
          "base_uri": "https://localhost:8080/",
          "height": 573
        },
        "outputId": "30d67388-eb1d-4f7c-9c81-941118e27c48"
      },
      "source": [
        "import matplotlib.pyplot as plt\n",
        "\n",
        "plt.plot(history.history['r_2_score'])\n",
        "plt.plot(history.history['val_r_2_score'])\n",
        "plt.title('model r2_score')\n",
        "plt.ylabel('r2_score')\n",
        "plt.xlabel('epoch')\n",
        "plt.legend(['train', 'test'], loc='upper left')\n",
        "plt.show()\n",
        "# summarize history for loss\n",
        "plt.plot(history.history['loss'])\n",
        "plt.plot(history.history['val_loss'])\n",
        "plt.title('model loss')\n",
        "plt.ylabel('loss')\n",
        "plt.xlabel('epoch')\n",
        "plt.legend(['train', 'test'], loc='upper left')\n",
        "plt.show()"
      ],
      "execution_count": 28,
      "outputs": [
        {
          "output_type": "display_data",
          "data": {
            "image/png": "[encoded data removed]",
            "text/plain": [
              "<Figure size 432x288 with 1 Axes>"
            ]
          },
          "metadata": {
            "tags": [],
            "needs_background": "light"
          }
        },
        {
          "output_type": "display_data",
          "data": {
            "image/png": "[encoded data removed]",
            "text/plain": [
              "<Figure size 432x288 with 1 Axes>"
            ]
          },
          "metadata": {
            "tags": [],
            "needs_background": "light"
          }
        }
      ]
    },
    {
      "cell_type": "markdown",
      "metadata": {
        "id": "mLyDSOeh6KKc"
      },
      "source": [
        "##  Model tuning and Hyperparameter Tuning\n",
        "## Question 7 (Optional)"
      ]
    },
    {
      "cell_type": "markdown",
      "metadata": {
        "id": "U9_FYXve6TPD"
      },
      "source": [
        "### Create another Deep Neural Network Model for Regression to experiment with other hyper-parameters\n",
        "- Initialize a Sequential model\n",
        "- Add a batch normalization layer\n",
        "- Add 3 hidden layer with activation leaky-relu (Number of neurons = 64,128,32 respectively)\n",
        "- Add dropout layer after each hidden layer\n",
        "- Add a Dense layer with one neuron as output, use activation linear\n",
        "  \n"
      ]
    },
    {
      "cell_type": "code",
      "metadata": {
        "id": "smKhJZSx2EZk"
      },
      "source": [
        ""
      ],
      "execution_count": 25,
      "outputs": []
    },
    {
      "cell_type": "code",
      "metadata": {
        "id": "k3YL1YQB2Fau"
      },
      "source": [
        ""
      ],
      "execution_count": 25,
      "outputs": []
    },
    {
      "cell_type": "markdown",
      "metadata": {
        "id": "d-5tN-Wx8_8X"
      },
      "source": [
        "### Compile the model\n",
        "\n",
        "- Compile the model\n",
        "- Use \"adam\" optimizer \n",
        "- for calculating loss, use mean absolute error\n",
        "- use R2 score (coefficient of determination) as the metric"
      ]
    },
    {
      "cell_type": "code",
      "metadata": {
        "id": "v3RAGJxN8vq6"
      },
      "source": [
        ""
      ],
      "execution_count": 25,
      "outputs": []
    },
    {
      "cell_type": "markdown",
      "metadata": {
        "id": "QjDCS5gy91KU"
      },
      "source": [
        "### Train your model\n",
        "\n",
        "- epochs: 1000\n",
        "- batch size: 16\n",
        "- Use test data as validation data\n",
        "- Also add callback, such that if validation loss doesn't decreases consecutively 10 times, stop the training and return the weights for the previous best model\n",
        "- Add checkpoints to save the model after every epoch\n"
      ]
    },
    {
      "cell_type": "code",
      "metadata": {
        "id": "amNM6S2w90So"
      },
      "source": [
        ""
      ],
      "execution_count": 25,
      "outputs": []
    },
    {
      "cell_type": "markdown",
      "metadata": {
        "id": "GHbYwXdgDQhs"
      },
      "source": [
        "### Check the R2 score on complete test data"
      ]
    },
    {
      "cell_type": "code",
      "metadata": {
        "id": "p7Ly-csS90PM"
      },
      "source": [
        ""
      ],
      "execution_count": 25,
      "outputs": []
    },
    {
      "cell_type": "markdown",
      "metadata": {
        "id": "mcZazFM7DiVr"
      },
      "source": [
        "### Visualize model learning\n",
        "- Visualize model learning using train and test r2 score\n",
        "- Visualize model learning using train and test loss"
      ]
    },
    {
      "cell_type": "code",
      "metadata": {
        "id": "cH-8qHgp90Jv"
      },
      "source": [
        ""
      ],
      "execution_count": 25,
      "outputs": []
    },
    {
      "cell_type": "markdown",
      "metadata": {
        "id": "POU_v9owFLWp"
      },
      "source": [
        "### Create another Deep Neural Network Model for Regression to experiment with other hyper-parameters\n",
        "- Initialize a Sequential model\n",
        "- Add a batch normalization layer\n",
        "- Intialize weights using HeUniform with seed = 7\n",
        "- Add 4 hidden layer with activation relu (Number of neurons = 256,128,64,32 in each layer respectively)\n",
        "- Add dropout layer after each hidden layer\n",
        "- Add a Dense layer with one neuron as output, use activation linear\n",
        "  \n"
      ]
    },
    {
      "cell_type": "code",
      "metadata": {
        "id": "EJiZ1JZZECpm"
      },
      "source": [
        ""
      ],
      "execution_count": 25,
      "outputs": []
    },
    {
      "cell_type": "markdown",
      "metadata": {
        "id": "yNoD20dGHKNk"
      },
      "source": [
        "### Compile the model\n",
        "\n",
        "- Compile the model\n",
        "- Use \"adam\" optimizer with learning rate = 0.002\n",
        "- for calculating loss, use mean squared error\n",
        "- use R2 score (coefficient of determination) as the metric"
      ]
    },
    {
      "cell_type": "code",
      "metadata": {
        "id": "EL--zAmbECm3"
      },
      "source": [
        ""
      ],
      "execution_count": 25,
      "outputs": []
    },
    {
      "cell_type": "markdown",
      "metadata": {
        "id": "TNhawruvHgLR"
      },
      "source": [
        "### Train your model\n",
        "\n",
        "- epochs: 1000\n",
        "- batch size: 64\n",
        "- Use test data as validation data\n",
        "- Also add callback, such that if validation loss doesn't decreases consecutively 10 times, stop the training and return the weights for the previous best model\n",
        "\n"
      ]
    },
    {
      "cell_type": "code",
      "metadata": {
        "id": "rf_Y0p7yECiz"
      },
      "source": [
        ""
      ],
      "execution_count": 25,
      "outputs": []
    },
    {
      "cell_type": "markdown",
      "metadata": {
        "id": "MR6_a6QxICXv"
      },
      "source": [
        "### Check the R2 score on complete test data"
      ]
    },
    {
      "cell_type": "code",
      "metadata": {
        "id": "eSNJsVwnECf-"
      },
      "source": [
        ""
      ],
      "execution_count": 25,
      "outputs": []
    },
    {
      "cell_type": "markdown",
      "metadata": {
        "id": "xWZIMT2rIYDc"
      },
      "source": [
        "### Visualize model learning\n",
        "- Visualize model learning using train and test r2 score\n",
        "- Visualize model learning using train and test loss"
      ]
    },
    {
      "cell_type": "code",
      "metadata": {
        "id": "uDMefTaLECdK"
      },
      "source": [
        ""
      ],
      "execution_count": 25,
      "outputs": []
    }
  ]
}