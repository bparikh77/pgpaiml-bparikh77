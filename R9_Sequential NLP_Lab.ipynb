{
  "nbformat": 4,
  "nbformat_minor": 0,
  "metadata": {
    "colab": {
      "name": "R9 Internal Lab.ipynb",
      "provenance": [],
      "collapsed_sections": []
    },
    "kernelspec": {
      "name": "python3",
      "display_name": "Python 3"
    }
  },
  "cells": [
    {
      "cell_type": "markdown",
      "metadata": {
        "id": "PHYs6Z84xV8E"
      },
      "source": [
        "<img src=\"http://drive.google.com/uc?export=view&id=1tpOCamr9aWz817atPnyXus8w5gJ3mIts\" width=500px>\n",
        "\n",
        "Proprietary content. © Great Learning. All Rights Reserved. Unauthorized use or distribution prohibited."
      ]
    },
    {
      "cell_type": "markdown",
      "metadata": {
        "id": "FbwHYUXhxaqD"
      },
      "source": [
        "## Problem Statement\n",
        "\n"
      ]
    },
    {
      "cell_type": "markdown",
      "metadata": {
        "id": "5QQxgAmWzSye"
      },
      "source": [
        "# Samsung Internal SSD Reviews prediction\n",
        "\n",
        "Rating predictions using reviews written by users can be a useful problem statement in E-commerce domain and can be used for recommending similar products that may interest users. The dataset in this problem statement comprises reviews pertaining to Samsung Internal SSD product specifically SAMSUNG 850 EVO 2.5\" 250GB SATA III 3D NAND Internal Solid State Drive (SSD) MZ-75E250B/AM from the NewEgg Store website.  We will build a Natural Language processing model using Glove embeddings which is trained on reviews given by customers that have used the product and try to predict ratings given a new rating.\n",
        "\n",
        "\n",
        "\n",
        "\n",
        "### Objective:\n",
        "Given the reviews provided by customers, can you train a model that accurately predicts the corresponding rating of a review?"
      ]
    },
    {
      "cell_type": "markdown",
      "metadata": {
        "id": "CI7usguRzeox"
      },
      "source": [
        "### Package version\n",
        "\n",
        "- tensorflow==2.3.0\n",
        "- scikit-learn==0.22.2.post1\n",
        "- pandas==1.0.5\n",
        "- numpy==1.18.5\n",
        "- matplotlib==3.2.2\n",
        "- google==2.0.3"
      ]
    },
    {
      "cell_type": "markdown",
      "metadata": {
        "id": "aiMdVjHRH7NR"
      },
      "source": [
        "### Data Dictionary \n",
        "\n",
        "- review_title : The Title for the customer review\n",
        "\n",
        "- overall_review: The whole customer review details\n",
        "\n",
        "- pros: The customer opinion about the good things in this product\n",
        "\n",
        "- cons: The customer opinion about the bad things in this product\n",
        "\n",
        "- ownership_pariod: How long the customer owned this product\n",
        "\n",
        "- date: When the review was written\n",
        "\n",
        "- rating_stars: The product rating from 1 to 5\n",
        "\n",
        "- year: In which year the review was written\n",
        "\n",
        "- month: In which month the review was written\n",
        "\n",
        "- day: In which day the review was written"
      ]
    },
    {
      "cell_type": "markdown",
      "metadata": {
        "id": "cEn52o8jznJK"
      },
      "source": [
        "## Table of Content\n",
        "\n",
        "1. Import Libraries\n",
        "\n",
        "2. Setting options\n",
        "\n",
        "3. Read Data\n",
        "\n",
        "4. Data Analysis and Preparation\n",
        "\n",
        "5. Model Building\n",
        "\n",
        "6. Conclusion and Interpretation\n",
        "\n",
        "7. Food for thought"
      ]
    },
    {
      "cell_type": "markdown",
      "metadata": {
        "id": "x_Lom6cXzqn7"
      },
      "source": [
        "## 1. Import Libraries"
      ]
    },
    {
      "cell_type": "markdown",
      "metadata": {
        "id": "FZtVstH8zre2"
      },
      "source": [
        "Let us start by mounting the drive"
      ]
    },
    {
      "cell_type": "code",
      "metadata": {
        "id": "jSsg8JHkIh2k",
        "colab": {
          "base_uri": "https://localhost:8080/"
        },
        "outputId": "8705a2e4-9d6e-4e40-e227-be5040b57fa8"
      },
      "source": [
        "from google.colab import drive\n",
        "drive.mount('/content/drive')"
      ],
      "execution_count": 12,
      "outputs": [
        {
          "output_type": "stream",
          "text": [
            "Mounted at /content/drive\n"
          ],
          "name": "stdout"
        }
      ]
    },
    {
      "cell_type": "markdown",
      "metadata": {
        "id": "Gv-tZoFjz2WD"
      },
      "source": [
        "Let us check for the version of installed tensorflow."
      ]
    },
    {
      "cell_type": "code",
      "metadata": {
        "id": "eiuUVBuDzzn9",
        "colab": {
          "base_uri": "https://localhost:8080/"
        },
        "outputId": "8e86ec5b-48f6-4fa7-fb3e-e7af65658989"
      },
      "source": [
        "# used to supress display of warnings\n",
        "import warnings\n",
        "\n",
        "# os is used to provide a way of using operating system dependent functionality\n",
        "# We use it for setting working folder\n",
        "import os\n",
        "\n",
        "# Pandas is used for data manipulation and analysis\n",
        "import pandas as pd \n",
        "\n",
        "# Numpy is used for large, multi-dimensional arrays and matrices, along with mathematical operators on these arrays\n",
        "import numpy as np\n",
        "\n",
        "# Matplotlib is a data visualization library for 2D plots of arrays, built on NumPy arrays \n",
        "# and designed to work with the broader SciPy stack\n",
        "import matplotlib.pyplot as plt\n",
        "%matplotlib inline\n",
        "from matplotlib import pyplot\n",
        "\n",
        "# Seaborn is based on matplotlib, which aids in drawing attractive and informative statistical graphics.\n",
        "import seaborn as sns\n",
        "import tensorflow as tf\n",
        "print(tensorflow.__version__)"
      ],
      "execution_count": 70,
      "outputs": [
        {
          "output_type": "stream",
          "text": [
            "2.5.0\n"
          ],
          "name": "stdout"
        }
      ]
    },
    {
      "cell_type": "markdown",
      "metadata": {
        "id": "fze-aokU0ukH"
      },
      "source": [
        "## 2. Setting Options"
      ]
    },
    {
      "cell_type": "code",
      "metadata": {
        "id": "T3FALggG0xXa"
      },
      "source": [
        "# suppress display of warnings\n",
        "warnings.filterwarnings('ignore')\n",
        "\n",
        "# display all dataframe columns\n",
        "pd.options.display.max_columns = None\n",
        "\n",
        "# to set the limit to 3 decimals\n",
        "pd.options.display.float_format = '{:.7f}'.format\n",
        "\n",
        "# display all dataframe rows\n",
        "pd.options.display.max_rows = None\n",
        "\n",
        "pd.set_option(\"display.max_colwidth\",-1)"
      ],
      "execution_count": 19,
      "outputs": []
    },
    {
      "cell_type": "markdown",
      "metadata": {
        "id": "ZT1P1WdK1vfZ"
      },
      "source": [
        "## 3. Read Data"
      ]
    },
    {
      "cell_type": "markdown",
      "metadata": {
        "id": "NnnvF56gfwav"
      },
      "source": [
        "### Read the dataset and check top 5 rows"
      ]
    },
    {
      "cell_type": "code",
      "metadata": {
        "id": "imj2VbNpf383"
      },
      "source": [
        "path = \"/content/drive/MyDrive/Colab Notebooks/Data/\"\n",
        "ssd_review_df = pd.read_csv(path + \"ssd_reviews.csv\")"
      ],
      "execution_count": 43,
      "outputs": []
    },
    {
      "cell_type": "code",
      "metadata": {
        "colab": {
          "base_uri": "https://localhost:8080/",
          "height": 522
        },
        "id": "qILHqnCplLGc",
        "outputId": "bbc5d157-c8c7-4a17-f9c6-be5172c7a7fe"
      },
      "source": [
        "ssd_review_df.head()"
      ],
      "execution_count": 45,
      "outputs": [
        {
          "output_type": "execute_result",
          "data": {
            "text/html": [
              "<div>\n",
              "<style scoped>\n",
              "    .dataframe tbody tr th:only-of-type {\n",
              "        vertical-align: middle;\n",
              "    }\n",
              "\n",
              "    .dataframe tbody tr th {\n",
              "        vertical-align: top;\n",
              "    }\n",
              "\n",
              "    .dataframe thead th {\n",
              "        text-align: right;\n",
              "    }\n",
              "</style>\n",
              "<table border=\"1\" class=\"dataframe\">\n",
              "  <thead>\n",
              "    <tr style=\"text-align: right;\">\n",
              "      <th></th>\n",
              "      <th>Unnamed: 0</th>\n",
              "      <th>review_title</th>\n",
              "      <th>overall_review</th>\n",
              "      <th>pros</th>\n",
              "      <th>cons</th>\n",
              "      <th>ownership_pariod</th>\n",
              "      <th>date</th>\n",
              "      <th>rating_stars</th>\n",
              "      <th>year</th>\n",
              "      <th>month</th>\n",
              "      <th>day</th>\n",
              "    </tr>\n",
              "  </thead>\n",
              "  <tbody>\n",
              "    <tr>\n",
              "      <th>0</th>\n",
              "      <td>0</td>\n",
              "      <td>solid</td>\n",
              "      <td>buy it you will not regret this purchase</td>\n",
              "      <td>reliable fast silent cool running drive highly recommend</td>\n",
              "      <td>NaN</td>\n",
              "      <td>years</td>\n",
              "      <td>2019-12-05 12:58:58</td>\n",
              "      <td>5</td>\n",
              "      <td>2019</td>\n",
              "      <td>12</td>\n",
              "      <td>5</td>\n",
              "    </tr>\n",
              "    <tr>\n",
              "      <th>1</th>\n",
              "      <td>1</td>\n",
              "      <td>nice drive for price even cheaper by todays costs</td>\n",
              "      <td>good drive price</td>\n",
              "      <td>been running almost constantly since when i purchased it 24x7x365 with random power outages no issues to date with it will buy samsung evo s in future builds</td>\n",
              "      <td>NaN</td>\n",
              "      <td>years</td>\n",
              "      <td>2019-11-01 08:25:45</td>\n",
              "      <td>5</td>\n",
              "      <td>2019</td>\n",
              "      <td>11</td>\n",
              "      <td>1</td>\n",
              "    </tr>\n",
              "    <tr>\n",
              "      <th>2</th>\n",
              "      <td>2</td>\n",
              "      <td>perfect</td>\n",
              "      <td>used this drive as my boot drive and only data storage on my previous build and now 4 years later i m using it as my new rig s game library crystaldisk still shows it at 100 and it s still plenty fast vs the new 860 evo can t go wrong with this one</td>\n",
              "      <td>good value decently fast good longevity</td>\n",
              "      <td>none so far</td>\n",
              "      <td>years</td>\n",
              "      <td>2019-10-27 17:05:49</td>\n",
              "      <td>5</td>\n",
              "      <td>2019</td>\n",
              "      <td>10</td>\n",
              "      <td>27</td>\n",
              "    </tr>\n",
              "    <tr>\n",
              "      <th>3</th>\n",
              "      <td>3</td>\n",
              "      <td>very snappy</td>\n",
              "      <td>os boots quicker os menus pop up quicker gaming load screens go quicker</td>\n",
              "      <td>noticeable improvement in os performance over a spinning drive</td>\n",
              "      <td>samsung magician software causes some games to fail to launch if you leave it running in the background</td>\n",
              "      <td>years</td>\n",
              "      <td>2019-10-24 18:29:43</td>\n",
              "      <td>5</td>\n",
              "      <td>2019</td>\n",
              "      <td>10</td>\n",
              "      <td>24</td>\n",
              "    </tr>\n",
              "    <tr>\n",
              "      <th>4</th>\n",
              "      <td>4</td>\n",
              "      <td>worth the hype</td>\n",
              "      <td>this was the sdd that everyone said to get and it has yet to disappoint it is super speedy and has given me no troubles</td>\n",
              "      <td>NaN</td>\n",
              "      <td>NaN</td>\n",
              "      <td>years</td>\n",
              "      <td>2019-09-11 19:21:03</td>\n",
              "      <td>5</td>\n",
              "      <td>2019</td>\n",
              "      <td>9</td>\n",
              "      <td>11</td>\n",
              "    </tr>\n",
              "  </tbody>\n",
              "</table>\n",
              "</div>"
            ],
            "text/plain": [
              "   Unnamed: 0                                       review_title  \\\n",
              "0  0           solid                                               \n",
              "1  1           nice drive for price even cheaper by todays costs   \n",
              "2  2           perfect                                             \n",
              "3  3           very snappy                                         \n",
              "4  4           worth the hype                                      \n",
              "\n",
              "                                                                                                                                                                                                                                             overall_review  \\\n",
              "0  buy it you will not regret this purchase                                                                                                                                                                                                                   \n",
              "1  good drive price                                                                                                                                                                                                                                           \n",
              "2  used this drive as my boot drive and only data storage on my previous build and now 4 years later i m using it as my new rig s game library crystaldisk still shows it at 100 and it s still plenty fast vs the new 860 evo can t go wrong with this one   \n",
              "3  os boots quicker os menus pop up quicker gaming load screens go quicker                                                                                                                                                                                    \n",
              "4  this was the sdd that everyone said to get and it has yet to disappoint it is super speedy and has given me no troubles                                                                                                                                    \n",
              "\n",
              "                                                                                                                                                            pros  \\\n",
              "0  reliable fast silent cool running drive highly recommend                                                                                                        \n",
              "1  been running almost constantly since when i purchased it 24x7x365 with random power outages no issues to date with it will buy samsung evo s in future builds   \n",
              "2  good value decently fast good longevity                                                                                                                         \n",
              "3  noticeable improvement in os performance over a spinning drive                                                                                                  \n",
              "4  NaN                                                                                                                                                             \n",
              "\n",
              "                                                                                                      cons  \\\n",
              "0  NaN                                                                                                       \n",
              "1  NaN                                                                                                       \n",
              "2  none so far                                                                                               \n",
              "3  samsung magician software causes some games to fail to launch if you leave it running in the background   \n",
              "4  NaN                                                                                                       \n",
              "\n",
              "  ownership_pariod                 date  rating_stars  year  month  day  \n",
              "0  years            2019-12-05 12:58:58  5             2019  12     5    \n",
              "1  years            2019-11-01 08:25:45  5             2019  11     1    \n",
              "2  years            2019-10-27 17:05:49  5             2019  10     27   \n",
              "3  years            2019-10-24 18:29:43  5             2019  10     24   \n",
              "4  years            2019-09-11 19:21:03  5             2019  9      11   "
            ]
          },
          "metadata": {
            "tags": []
          },
          "execution_count": 45
        }
      ]
    },
    {
      "cell_type": "markdown",
      "metadata": {
        "id": "RGluIi5Sf5Rp"
      },
      "source": [
        "### Check info of the dataset and write your findings"
      ]
    },
    {
      "cell_type": "code",
      "metadata": {
        "id": "Pldlew5Mf9gA",
        "colab": {
          "base_uri": "https://localhost:8080/"
        },
        "outputId": "cc081b54-dfe7-4498-bc0a-c5b926bd151c"
      },
      "source": [
        "ssd_review_df.info()"
      ],
      "execution_count": 15,
      "outputs": [
        {
          "output_type": "stream",
          "text": [
            "<class 'pandas.core.frame.DataFrame'>\n",
            "RangeIndex: 2227 entries, 0 to 2226\n",
            "Data columns (total 11 columns):\n",
            " #   Column            Non-Null Count  Dtype \n",
            "---  ------            --------------  ----- \n",
            " 0   Unnamed: 0        2227 non-null   int64 \n",
            " 1   review_title      2131 non-null   object\n",
            " 2   overall_review    1448 non-null   object\n",
            " 3   pros              2205 non-null   object\n",
            " 4   cons              2216 non-null   object\n",
            " 5   ownership_pariod  2159 non-null   object\n",
            " 6   date              2227 non-null   object\n",
            " 7   rating_stars      2227 non-null   int64 \n",
            " 8   year              2227 non-null   int64 \n",
            " 9   month             2227 non-null   int64 \n",
            " 10  day               2227 non-null   int64 \n",
            "dtypes: int64(5), object(6)\n",
            "memory usage: 191.5+ KB\n"
          ],
          "name": "stdout"
        }
      ]
    },
    {
      "cell_type": "markdown",
      "metadata": {
        "id": "Dik6xaJtoFYE"
      },
      "source": [
        "The dataset has 11 columns, first column is an additional index which is not relevant, there are 5 columns having integer values"
      ]
    },
    {
      "cell_type": "code",
      "metadata": {
        "colab": {
          "base_uri": "https://localhost:8080/"
        },
        "id": "GCrQfUpMvy8L",
        "outputId": "c2faaecf-fa08-4dae-f6e7-54553bbf0087"
      },
      "source": [
        "ssd_review_df.shape"
      ],
      "execution_count": 22,
      "outputs": [
        {
          "output_type": "execute_result",
          "data": {
            "text/plain": [
              "(2227, 11)"
            ]
          },
          "metadata": {
            "tags": []
          },
          "execution_count": 22
        }
      ]
    },
    {
      "cell_type": "markdown",
      "metadata": {
        "id": "rED6DbDBKTjM"
      },
      "source": [
        "## 4.  Data Analysis and Preparation"
      ]
    },
    {
      "cell_type": "markdown",
      "metadata": {
        "id": "7VSqr0Seiy7g"
      },
      "source": [
        "### 4.1 Checking missing values\n",
        "#### Check for missing values (along with the percentage of null values)"
      ]
    },
    {
      "cell_type": "code",
      "metadata": {
        "id": "Il4yi7kdmnYQ",
        "colab": {
          "base_uri": "https://localhost:8080/"
        },
        "outputId": "56df5345-67fc-4d99-9f64-843d1721c84c"
      },
      "source": [
        "ssd_review_df.isnull().sum()"
      ],
      "execution_count": 23,
      "outputs": [
        {
          "output_type": "execute_result",
          "data": {
            "text/plain": [
              "Unnamed: 0          0  \n",
              "review_title        96 \n",
              "overall_review      779\n",
              "pros                22 \n",
              "cons                11 \n",
              "ownership_pariod    68 \n",
              "date                0  \n",
              "rating_stars        0  \n",
              "year                0  \n",
              "month               0  \n",
              "day                 0  \n",
              "dtype: int64"
            ]
          },
          "metadata": {
            "tags": []
          },
          "execution_count": 23
        }
      ]
    },
    {
      "cell_type": "code",
      "metadata": {
        "colab": {
          "base_uri": "https://localhost:8080/"
        },
        "id": "w0KbbcfywhsS",
        "outputId": "563e981f-c1a9-4ac3-8124-3697fa7cca5f"
      },
      "source": [
        "len(ssd_review_df)"
      ],
      "execution_count": 26,
      "outputs": [
        {
          "output_type": "execute_result",
          "data": {
            "text/plain": [
              "2227"
            ]
          },
          "metadata": {
            "tags": []
          },
          "execution_count": 26
        }
      ]
    },
    {
      "cell_type": "code",
      "metadata": {
        "colab": {
          "base_uri": "https://localhost:8080/"
        },
        "id": "G2D4erXGwXVy",
        "outputId": "db975068-358f-4bbd-e412-5426ebf210e6"
      },
      "source": [
        "ssd_review_df.isna().sum() * 100 / len(ssd_review_df)"
      ],
      "execution_count": 25,
      "outputs": [
        {
          "output_type": "execute_result",
          "data": {
            "text/plain": [
              "Unnamed: 0         0.0000000 \n",
              "review_title       4.3107319 \n",
              "overall_review     34.9797934\n",
              "pros               0.9878761 \n",
              "cons               0.4939380 \n",
              "ownership_pariod   3.0534351 \n",
              "date               0.0000000 \n",
              "rating_stars       0.0000000 \n",
              "year               0.0000000 \n",
              "month              0.0000000 \n",
              "day                0.0000000 \n",
              "dtype: float64"
            ]
          },
          "metadata": {
            "tags": []
          },
          "execution_count": 25
        }
      ]
    },
    {
      "cell_type": "markdown",
      "metadata": {
        "id": "SB40EGirmVjo"
      },
      "source": [
        "### 4.2 Analyzing the target column (Rating_stars)"
      ]
    },
    {
      "cell_type": "markdown",
      "metadata": {
        "id": "MoRvWVk-is6Y"
      },
      "source": [
        "#### Check the value counts of 'rating_stars' and write your comments"
      ]
    },
    {
      "cell_type": "code",
      "metadata": {
        "id": "LOVFp6Diiy0n",
        "colab": {
          "base_uri": "https://localhost:8080/"
        },
        "outputId": "fe9ef0f7-a6a4-4715-c025-5495b68cf4bd"
      },
      "source": [
        "ssd_review_df['rating_stars'].value_counts()"
      ],
      "execution_count": 27,
      "outputs": [
        {
          "output_type": "execute_result",
          "data": {
            "text/plain": [
              "5    1756\n",
              "4    181 \n",
              "1    153 \n",
              "3    77  \n",
              "2    60  \n",
              "Name: rating_stars, dtype: int64"
            ]
          },
          "metadata": {
            "tags": []
          },
          "execution_count": 27
        }
      ]
    },
    {
      "cell_type": "markdown",
      "metadata": {
        "id": "dtkqCL9JoUOD"
      },
      "source": [
        "There are 1756 rows with rating value as 5. So the data is highly imbalanced towards the 5 rating."
      ]
    },
    {
      "cell_type": "code",
      "metadata": {
        "colab": {
          "base_uri": "https://localhost:8080/",
          "height": 297
        },
        "id": "W50ClYDxxjdU",
        "outputId": "d78125b8-c1f5-4e35-d4fd-21b46c8489cd"
      },
      "source": [
        "import seaborn as sns\n",
        "sns.countplot(ssd_review_df.rating_stars)"
      ],
      "execution_count": 28,
      "outputs": [
        {
          "output_type": "execute_result",
          "data": {
            "text/plain": [
              "<matplotlib.axes._subplots.AxesSubplot at 0x7fde13f73a10>"
            ]
          },
          "metadata": {
            "tags": []
          },
          "execution_count": 28
        },
        {
          "output_type": "display_data",
          "data": {
            "image/png": "[encoded data removed]",
            "text/plain": [
              "<Figure size 432x288 with 1 Axes>"
            ]
          },
          "metadata": {
            "tags": [],
            "needs_background": "light"
          }
        }
      ]
    },
    {
      "cell_type": "markdown",
      "metadata": {
        "id": "ZL_BQlb5mE4O"
      },
      "source": [
        "### 4.3 Let's analyze other features like year, month, and day etc.\n",
        "#### Check value counts of 'year' and write your observations., Comment on the range of years, frequency of ratings in each year."
      ]
    },
    {
      "cell_type": "code",
      "metadata": {
        "id": "YAtEigKEmM-Z",
        "colab": {
          "base_uri": "https://localhost:8080/"
        },
        "outputId": "fc27301a-be97-4779-d687-696b80f3055b"
      },
      "source": [
        "ssd_review_df[\"year\"].value_counts()"
      ],
      "execution_count": 31,
      "outputs": [
        {
          "output_type": "execute_result",
          "data": {
            "text/plain": [
              "2015    1006\n",
              "2016    605 \n",
              "2017    370 \n",
              "2018    187 \n",
              "2019    46  \n",
              "2014    13  \n",
              "Name: year, dtype: int64"
            ]
          },
          "metadata": {
            "tags": []
          },
          "execution_count": 31
        }
      ]
    },
    {
      "cell_type": "markdown",
      "metadata": {
        "id": "LSAAd9wMoi9b"
      },
      "source": [
        "The popularity of the SSD model has been decreasing since 2015, when it was at its peak, as the number of reviews are decreasing"
      ]
    },
    {
      "cell_type": "markdown",
      "metadata": {
        "id": "M-pWwPhRmsAz"
      },
      "source": [
        "#### Check mean rating for each year and write your findings"
      ]
    },
    {
      "cell_type": "code",
      "metadata": {
        "id": "sqWWhlLemwG8",
        "colab": {
          "base_uri": "https://localhost:8080/"
        },
        "outputId": "018f430c-7ea1-453a-92de-024093d56705"
      },
      "source": [
        "ssd_review_df.groupby(['year']).rating_stars.mean()"
      ],
      "execution_count": 30,
      "outputs": [
        {
          "output_type": "execute_result",
          "data": {
            "text/plain": [
              "year\n",
              "2014   4.9230769\n",
              "2015   4.4582505\n",
              "2016   4.5900826\n",
              "2017   4.5108108\n",
              "2018   4.3475936\n",
              "2019   4.3478261\n",
              "Name: rating_stars, dtype: float64"
            ]
          },
          "metadata": {
            "tags": []
          },
          "execution_count": 30
        }
      ]
    },
    {
      "cell_type": "markdown",
      "metadata": {
        "id": "tHrSJEkmowsr"
      },
      "source": [
        "The mean rating was best in 2016 and there is no major variation in the mean rating between 2014 and 2019"
      ]
    },
    {
      "cell_type": "code",
      "metadata": {
        "colab": {
          "base_uri": "https://localhost:8080/",
          "height": 265
        },
        "id": "dDsGY-LT00v-",
        "outputId": "33f57ec0-e380-4094-f22a-2931a4c61dac"
      },
      "source": [
        "pd.crosstab(ssd_review_df.year,ssd_review_df.rating_stars)"
      ],
      "execution_count": 32,
      "outputs": [
        {
          "output_type": "execute_result",
          "data": {
            "text/html": [
              "<div>\n",
              "<style scoped>\n",
              "    .dataframe tbody tr th:only-of-type {\n",
              "        vertical-align: middle;\n",
              "    }\n",
              "\n",
              "    .dataframe tbody tr th {\n",
              "        vertical-align: top;\n",
              "    }\n",
              "\n",
              "    .dataframe thead th {\n",
              "        text-align: right;\n",
              "    }\n",
              "</style>\n",
              "<table border=\"1\" class=\"dataframe\">\n",
              "  <thead>\n",
              "    <tr style=\"text-align: right;\">\n",
              "      <th>rating_stars</th>\n",
              "      <th>1</th>\n",
              "      <th>2</th>\n",
              "      <th>3</th>\n",
              "      <th>4</th>\n",
              "      <th>5</th>\n",
              "    </tr>\n",
              "    <tr>\n",
              "      <th>year</th>\n",
              "      <th></th>\n",
              "      <th></th>\n",
              "      <th></th>\n",
              "      <th></th>\n",
              "      <th></th>\n",
              "    </tr>\n",
              "  </thead>\n",
              "  <tbody>\n",
              "    <tr>\n",
              "      <th>2014</th>\n",
              "      <td>0</td>\n",
              "      <td>0</td>\n",
              "      <td>0</td>\n",
              "      <td>1</td>\n",
              "      <td>12</td>\n",
              "    </tr>\n",
              "    <tr>\n",
              "      <th>2015</th>\n",
              "      <td>65</td>\n",
              "      <td>31</td>\n",
              "      <td>45</td>\n",
              "      <td>102</td>\n",
              "      <td>763</td>\n",
              "    </tr>\n",
              "    <tr>\n",
              "      <th>2016</th>\n",
              "      <td>37</td>\n",
              "      <td>10</td>\n",
              "      <td>17</td>\n",
              "      <td>36</td>\n",
              "      <td>505</td>\n",
              "    </tr>\n",
              "    <tr>\n",
              "      <th>2017</th>\n",
              "      <td>25</td>\n",
              "      <td>13</td>\n",
              "      <td>8</td>\n",
              "      <td>26</td>\n",
              "      <td>298</td>\n",
              "    </tr>\n",
              "    <tr>\n",
              "      <th>2018</th>\n",
              "      <td>22</td>\n",
              "      <td>4</td>\n",
              "      <td>5</td>\n",
              "      <td>12</td>\n",
              "      <td>144</td>\n",
              "    </tr>\n",
              "    <tr>\n",
              "      <th>2019</th>\n",
              "      <td>4</td>\n",
              "      <td>2</td>\n",
              "      <td>2</td>\n",
              "      <td>4</td>\n",
              "      <td>34</td>\n",
              "    </tr>\n",
              "  </tbody>\n",
              "</table>\n",
              "</div>"
            ],
            "text/plain": [
              "rating_stars   1   2   3    4    5\n",
              "year                              \n",
              "2014          0   0   0   1    12 \n",
              "2015          65  31  45  102  763\n",
              "2016          37  10  17  36   505\n",
              "2017          25  13  8   26   298\n",
              "2018          22  4   5   12   144\n",
              "2019          4   2   2   4    34 "
            ]
          },
          "metadata": {
            "tags": []
          },
          "execution_count": 32
        }
      ]
    },
    {
      "cell_type": "markdown",
      "metadata": {
        "id": "enoYYTDunPsT"
      },
      "source": [
        "#### Check value counts of 'month' and write your observations. Comment on the frequency of ratings and discuss if the rating count and mean rating is higher/low on certain months."
      ]
    },
    {
      "cell_type": "code",
      "metadata": {
        "id": "T0yhG8s1pTZD",
        "colab": {
          "base_uri": "https://localhost:8080/"
        },
        "outputId": "2b8c7d2a-f00f-4417-9c57-08fd91f6b4f9"
      },
      "source": [
        "ssd_review_df[\"month\"].value_counts()"
      ],
      "execution_count": 34,
      "outputs": [
        {
          "output_type": "execute_result",
          "data": {
            "text/plain": [
              "12    278\n",
              "2     239\n",
              "3     234\n",
              "1     221\n",
              "4     205\n",
              "11    191\n",
              "5     158\n",
              "9     157\n",
              "7     144\n",
              "10    141\n",
              "6     140\n",
              "8     119\n",
              "Name: month, dtype: int64"
            ]
          },
          "metadata": {
            "tags": []
          },
          "execution_count": 34
        }
      ]
    },
    {
      "cell_type": "markdown",
      "metadata": {
        "id": "ips2lUDLo_HM"
      },
      "source": [
        "The number of reviews are least in Aug and the most in Dec, which depicts the probable seasonality in buying pattern, during Christmas holidays."
      ]
    },
    {
      "cell_type": "code",
      "metadata": {
        "colab": {
          "base_uri": "https://localhost:8080/"
        },
        "id": "6QFUS4921yt2",
        "outputId": "a27dcfae-022c-4785-8425-07db8cf0e622"
      },
      "source": [
        "ssd_review_df.groupby(['month']).rating_stars.mean()"
      ],
      "execution_count": 35,
      "outputs": [
        {
          "output_type": "execute_result",
          "data": {
            "text/plain": [
              "month\n",
              "1    4.6425339\n",
              "2    4.4058577\n",
              "3    4.6111111\n",
              "4    4.4195122\n",
              "5    4.4493671\n",
              "6    4.5571429\n",
              "7    4.7638889\n",
              "8    4.4789916\n",
              "9    4.5414013\n",
              "10   4.3049645\n",
              "11   4.4607330\n",
              "12   4.3597122\n",
              "Name: rating_stars, dtype: float64"
            ]
          },
          "metadata": {
            "tags": []
          },
          "execution_count": 35
        }
      ]
    },
    {
      "cell_type": "markdown",
      "metadata": {
        "id": "mYMIySiJpUsc"
      },
      "source": [
        "The mean values of the number of reviews do not show any major variation, when compared month on month"
      ]
    },
    {
      "cell_type": "markdown",
      "metadata": {
        "id": "lWofLqeJpTtI"
      },
      "source": [
        "### 4.4 Combine text features\n",
        "#### Drop all the numerical features ['Unnamed: 0','date', 'year', 'month', 'day', 'ownership_pariod'] and ['rating_stars']"
      ]
    },
    {
      "cell_type": "code",
      "metadata": {
        "id": "8VAMgNJkqn0h"
      },
      "source": [
        "ssd_review_df.drop(columns=['Unnamed: 0','date','year','month','day','ownership_pariod'],axis=1, inplace=True)"
      ],
      "execution_count": 47,
      "outputs": []
    },
    {
      "cell_type": "code",
      "metadata": {
        "colab": {
          "base_uri": "https://localhost:8080/"
        },
        "id": "e6EUrF4L3961",
        "outputId": "0ad763d5-6c5d-48fb-8109-d7d2a7225991"
      },
      "source": [
        "ssd_review_df.info()"
      ],
      "execution_count": 48,
      "outputs": [
        {
          "output_type": "stream",
          "text": [
            "<class 'pandas.core.frame.DataFrame'>\n",
            "RangeIndex: 2227 entries, 0 to 2226\n",
            "Data columns (total 5 columns):\n",
            " #   Column          Non-Null Count  Dtype \n",
            "---  ------          --------------  ----- \n",
            " 0   review_title    2131 non-null   object\n",
            " 1   overall_review  1448 non-null   object\n",
            " 2   pros            2205 non-null   object\n",
            " 3   cons            2216 non-null   object\n",
            " 4   rating_stars    2227 non-null   int64 \n",
            "dtypes: int64(1), object(4)\n",
            "memory usage: 87.1+ KB\n"
          ],
          "name": "stdout"
        }
      ]
    },
    {
      "cell_type": "markdown",
      "metadata": {
        "id": "HjRp0SgEqn9Z"
      },
      "source": [
        "#### Replace null values (NaN) with blanks"
      ]
    },
    {
      "cell_type": "code",
      "metadata": {
        "id": "CZr_sR_Tqs1x"
      },
      "source": [
        "ssd_review_df.fillna(\"\", inplace=True)"
      ],
      "execution_count": 49,
      "outputs": []
    },
    {
      "cell_type": "code",
      "metadata": {
        "colab": {
          "base_uri": "https://localhost:8080/"
        },
        "id": "eHF3MHtN5TYD",
        "outputId": "6db2b81e-28cb-42c6-df9a-e2c7f899a85b"
      },
      "source": [
        "ssd_review_df.isnull().sum()"
      ],
      "execution_count": 50,
      "outputs": [
        {
          "output_type": "execute_result",
          "data": {
            "text/plain": [
              "review_title      0\n",
              "overall_review    0\n",
              "pros              0\n",
              "cons              0\n",
              "rating_stars      0\n",
              "dtype: int64"
            ]
          },
          "metadata": {
            "tags": []
          },
          "execution_count": 50
        }
      ]
    },
    {
      "cell_type": "markdown",
      "metadata": {
        "id": "ykjSdW1tqs-z"
      },
      "source": [
        "#### Join all text items in a row that have a space in between and Add a new column (with the newly created combined reviews) to the dataframe."
      ]
    },
    {
      "cell_type": "code",
      "metadata": {
        "id": "9fJpSb-ZuSTr"
      },
      "source": [
        "ratings_df = pd.DataFrame(ssd_review_df['rating_stars'])\n",
        "ssd_review_df.drop(columns='rating_stars', axis=1, inplace=True)"
      ],
      "execution_count": 52,
      "outputs": []
    },
    {
      "cell_type": "code",
      "metadata": {
        "id": "0VHzRd1gq1lY"
      },
      "source": [
        "ssd_review_df['combined_reviews'] = ssd_review_df[ssd_review_df.columns].apply(lambda x: ' '.join(x),axis=1)"
      ],
      "execution_count": 55,
      "outputs": []
    },
    {
      "cell_type": "code",
      "metadata": {
        "id": "94pC1inG9XB8"
      },
      "source": [
        "ssd_review_df.drop(columns=['review_title','overall_review','pros','cons'], axis=1,inplace=True)"
      ],
      "execution_count": 58,
      "outputs": []
    },
    {
      "cell_type": "code",
      "metadata": {
        "id": "hWkxJ33j99Wa"
      },
      "source": [
        "ssd_review_df['rating_stars'] = ratings_df['rating_stars']"
      ],
      "execution_count": 60,
      "outputs": []
    },
    {
      "cell_type": "code",
      "metadata": {
        "colab": {
          "base_uri": "https://localhost:8080/",
          "height": 254
        },
        "id": "tX9VVTKo-MbD",
        "outputId": "b5fda5c1-a74d-4be4-bf3d-8574ff95d287"
      },
      "source": [
        "ssd_review_df.head()"
      ],
      "execution_count": 61,
      "outputs": [
        {
          "output_type": "execute_result",
          "data": {
            "text/html": [
              "<div>\n",
              "<style scoped>\n",
              "    .dataframe tbody tr th:only-of-type {\n",
              "        vertical-align: middle;\n",
              "    }\n",
              "\n",
              "    .dataframe tbody tr th {\n",
              "        vertical-align: top;\n",
              "    }\n",
              "\n",
              "    .dataframe thead th {\n",
              "        text-align: right;\n",
              "    }\n",
              "</style>\n",
              "<table border=\"1\" class=\"dataframe\">\n",
              "  <thead>\n",
              "    <tr style=\"text-align: right;\">\n",
              "      <th></th>\n",
              "      <th>combined_reviews</th>\n",
              "      <th>rating_stars</th>\n",
              "    </tr>\n",
              "  </thead>\n",
              "  <tbody>\n",
              "    <tr>\n",
              "      <th>0</th>\n",
              "      <td>solid buy it you will not regret this purchase reliable fast silent cool running drive highly recommend</td>\n",
              "      <td>5</td>\n",
              "    </tr>\n",
              "    <tr>\n",
              "      <th>1</th>\n",
              "      <td>nice drive for price even cheaper by todays costs good drive price been running almost constantly since when i purchased it 24x7x365 with random power outages no issues to date with it will buy samsung evo s in future builds</td>\n",
              "      <td>5</td>\n",
              "    </tr>\n",
              "    <tr>\n",
              "      <th>2</th>\n",
              "      <td>perfect used this drive as my boot drive and only data storage on my previous build and now 4 years later i m using it as my new rig s game library crystaldisk still shows it at 100 and it s still plenty fast vs the new 860 evo can t go wrong with this one good value decently fast good longevity none so far</td>\n",
              "      <td>5</td>\n",
              "    </tr>\n",
              "    <tr>\n",
              "      <th>3</th>\n",
              "      <td>very snappy os boots quicker os menus pop up quicker gaming load screens go quicker noticeable improvement in os performance over a spinning drive samsung magician software causes some games to fail to launch if you leave it running in the background</td>\n",
              "      <td>5</td>\n",
              "    </tr>\n",
              "    <tr>\n",
              "      <th>4</th>\n",
              "      <td>worth the hype this was the sdd that everyone said to get and it has yet to disappoint it is super speedy and has given me no troubles</td>\n",
              "      <td>5</td>\n",
              "    </tr>\n",
              "  </tbody>\n",
              "</table>\n",
              "</div>"
            ],
            "text/plain": [
              "                                                                                                                                                                                                                                                                                                       combined_reviews  \\\n",
              "0  solid buy it you will not regret this purchase reliable fast silent cool running drive highly recommend                                                                                                                                                                                                                \n",
              "1  nice drive for price even cheaper by todays costs good drive price been running almost constantly since when i purchased it 24x7x365 with random power outages no issues to date with it will buy samsung evo s in future builds                                                                                       \n",
              "2  perfect used this drive as my boot drive and only data storage on my previous build and now 4 years later i m using it as my new rig s game library crystaldisk still shows it at 100 and it s still plenty fast vs the new 860 evo can t go wrong with this one good value decently fast good longevity none so far   \n",
              "3  very snappy os boots quicker os menus pop up quicker gaming load screens go quicker noticeable improvement in os performance over a spinning drive samsung magician software causes some games to fail to launch if you leave it running in the background                                                             \n",
              "4  worth the hype this was the sdd that everyone said to get and it has yet to disappoint it is super speedy and has given me no troubles                                                                                                                                                                                 \n",
              "\n",
              "   rating_stars  \n",
              "0  5             \n",
              "1  5             \n",
              "2  5             \n",
              "3  5             \n",
              "4  5             "
            ]
          },
          "metadata": {
            "tags": []
          },
          "execution_count": 61
        }
      ]
    },
    {
      "cell_type": "markdown",
      "metadata": {
        "id": "QLnNIq2iJQBn"
      },
      "source": [
        "#### Check if there are any null values and drop NaN values if any"
      ]
    },
    {
      "cell_type": "code",
      "metadata": {
        "id": "QOf3hTpcszKC",
        "colab": {
          "base_uri": "https://localhost:8080/"
        },
        "outputId": "721fac13-8537-4be8-92f8-fba10a27e03b"
      },
      "source": [
        "ssd_review_df.isnull().sum()"
      ],
      "execution_count": 62,
      "outputs": [
        {
          "output_type": "execute_result",
          "data": {
            "text/plain": [
              "combined_reviews    0\n",
              "rating_stars        0\n",
              "dtype: int64"
            ]
          },
          "metadata": {
            "tags": []
          },
          "execution_count": 62
        }
      ]
    },
    {
      "cell_type": "markdown",
      "metadata": {
        "id": "qS5NmyvzHMws"
      },
      "source": [
        "#### Calculate the length of each review and add it to the dataframe"
      ]
    },
    {
      "cell_type": "code",
      "metadata": {
        "id": "TdMWM0jBHNzO"
      },
      "source": [
        "ssd_review_df['length']=ssd_review_df['combined_reviews'].apply(lambda x: len(x.split(\" \")))"
      ],
      "execution_count": 66,
      "outputs": []
    },
    {
      "cell_type": "code",
      "metadata": {
        "colab": {
          "base_uri": "https://localhost:8080/",
          "height": 254
        },
        "id": "W7j0r4cM-1AC",
        "outputId": "3c5bbf95-7f79-4f8c-904a-305b7107990d"
      },
      "source": [
        "ssd_review_df.head()"
      ],
      "execution_count": 67,
      "outputs": [
        {
          "output_type": "execute_result",
          "data": {
            "text/html": [
              "<div>\n",
              "<style scoped>\n",
              "    .dataframe tbody tr th:only-of-type {\n",
              "        vertical-align: middle;\n",
              "    }\n",
              "\n",
              "    .dataframe tbody tr th {\n",
              "        vertical-align: top;\n",
              "    }\n",
              "\n",
              "    .dataframe thead th {\n",
              "        text-align: right;\n",
              "    }\n",
              "</style>\n",
              "<table border=\"1\" class=\"dataframe\">\n",
              "  <thead>\n",
              "    <tr style=\"text-align: right;\">\n",
              "      <th></th>\n",
              "      <th>combined_reviews</th>\n",
              "      <th>rating_stars</th>\n",
              "      <th>length</th>\n",
              "    </tr>\n",
              "  </thead>\n",
              "  <tbody>\n",
              "    <tr>\n",
              "      <th>0</th>\n",
              "      <td>solid buy it you will not regret this purchase reliable fast silent cool running drive highly recommend</td>\n",
              "      <td>5</td>\n",
              "      <td>18</td>\n",
              "    </tr>\n",
              "    <tr>\n",
              "      <th>1</th>\n",
              "      <td>nice drive for price even cheaper by todays costs good drive price been running almost constantly since when i purchased it 24x7x365 with random power outages no issues to date with it will buy samsung evo s in future builds</td>\n",
              "      <td>5</td>\n",
              "      <td>41</td>\n",
              "    </tr>\n",
              "    <tr>\n",
              "      <th>2</th>\n",
              "      <td>perfect used this drive as my boot drive and only data storage on my previous build and now 4 years later i m using it as my new rig s game library crystaldisk still shows it at 100 and it s still plenty fast vs the new 860 evo can t go wrong with this one good value decently fast good longevity none so far</td>\n",
              "      <td>5</td>\n",
              "      <td>65</td>\n",
              "    </tr>\n",
              "    <tr>\n",
              "      <th>3</th>\n",
              "      <td>very snappy os boots quicker os menus pop up quicker gaming load screens go quicker noticeable improvement in os performance over a spinning drive samsung magician software causes some games to fail to launch if you leave it running in the background</td>\n",
              "      <td>5</td>\n",
              "      <td>42</td>\n",
              "    </tr>\n",
              "    <tr>\n",
              "      <th>4</th>\n",
              "      <td>worth the hype this was the sdd that everyone said to get and it has yet to disappoint it is super speedy and has given me no troubles</td>\n",
              "      <td>5</td>\n",
              "      <td>30</td>\n",
              "    </tr>\n",
              "  </tbody>\n",
              "</table>\n",
              "</div>"
            ],
            "text/plain": [
              "                                                                                                                                                                                                                                                                                                       combined_reviews  \\\n",
              "0  solid buy it you will not regret this purchase reliable fast silent cool running drive highly recommend                                                                                                                                                                                                                \n",
              "1  nice drive for price even cheaper by todays costs good drive price been running almost constantly since when i purchased it 24x7x365 with random power outages no issues to date with it will buy samsung evo s in future builds                                                                                       \n",
              "2  perfect used this drive as my boot drive and only data storage on my previous build and now 4 years later i m using it as my new rig s game library crystaldisk still shows it at 100 and it s still plenty fast vs the new 860 evo can t go wrong with this one good value decently fast good longevity none so far   \n",
              "3  very snappy os boots quicker os menus pop up quicker gaming load screens go quicker noticeable improvement in os performance over a spinning drive samsung magician software causes some games to fail to launch if you leave it running in the background                                                             \n",
              "4  worth the hype this was the sdd that everyone said to get and it has yet to disappoint it is super speedy and has given me no troubles                                                                                                                                                                                 \n",
              "\n",
              "   rating_stars  length  \n",
              "0  5             18      \n",
              "1  5             41      \n",
              "2  5             65      \n",
              "3  5             42      \n",
              "4  5             30      "
            ]
          },
          "metadata": {
            "tags": []
          },
          "execution_count": 67
        }
      ]
    },
    {
      "cell_type": "markdown",
      "metadata": {
        "id": "8FyfpsW4uNN-"
      },
      "source": [
        "#### Check summary stats of the length column"
      ]
    },
    {
      "cell_type": "code",
      "metadata": {
        "id": "cMEp309bHPSm",
        "colab": {
          "base_uri": "https://localhost:8080/"
        },
        "outputId": "033dc36f-8d2f-4fd4-a0e3-7e6549ab8858"
      },
      "source": [
        "ssd_review_df['length'].describe()"
      ],
      "execution_count": 68,
      "outputs": [
        {
          "output_type": "execute_result",
          "data": {
            "text/plain": [
              "count   2227.0000000\n",
              "mean    84.8675348  \n",
              "std     87.4983350  \n",
              "min     4.0000000   \n",
              "25%     30.0000000  \n",
              "50%     59.0000000  \n",
              "75%     109.0000000 \n",
              "max     1615.0000000\n",
              "Name: length, dtype: float64"
            ]
          },
          "metadata": {
            "tags": []
          },
          "execution_count": 68
        }
      ]
    },
    {
      "cell_type": "markdown",
      "metadata": {
        "id": "JtFWZfZjJSJY"
      },
      "source": [
        "### 4.5 Analyzing and preparing the text data\n"
      ]
    },
    {
      "cell_type": "markdown",
      "metadata": {
        "id": "FL0mW8oPJVyq"
      },
      "source": [
        "#### Set the max length of each review to 25 since it results in faster training (however, you are free to change this)\n",
        "#### Set max_features to 10000 and embedding size to 50"
      ]
    },
    {
      "cell_type": "code",
      "metadata": {
        "id": "T7Ma4u3kSOD3"
      },
      "source": [
        "max_features = 10000\n",
        "maxlen = 25\n",
        "embedding_size = 50"
      ],
      "execution_count": 72,
      "outputs": []
    },
    {
      "cell_type": "markdown",
      "metadata": {
        "id": "qph71mXtJyWM"
      },
      "source": [
        "#### Tokenize the cobined text data. You can use the Tokenizer from tensorflow.keras.preprocessing.text. Check the number of samples post tokenization."
      ]
    },
    {
      "cell_type": "code",
      "metadata": {
        "id": "hvn5Bssu6MoQ"
      },
      "source": [
        "tokenizer = tf.keras.preprocessing.text.Tokenizer(num_words=max_features)\n",
        "tokenizer.fit_on_texts(list(ssd_review_df['combined_reviews']))\n",
        "X = tokenizer.texts_to_sequences(ssd_review_df['combined_reviews'])"
      ],
      "execution_count": 75,
      "outputs": []
    },
    {
      "cell_type": "code",
      "metadata": {
        "colab": {
          "base_uri": "https://localhost:8080/"
        },
        "id": "kPDc-6I-Dzod",
        "outputId": "0b6c5ad5-f15a-4d65-a874-a33f3dc4a0f4"
      },
      "source": [
        "X[0]"
      ],
      "execution_count": 76,
      "outputs": [
        {
          "output_type": "execute_result",
          "data": {
            "text/plain": [
              "[232, 93, 6, 19, 54, 22, 829, 10, 248, 162, 16, 830, 550, 145, 7, 264, 126]"
            ]
          },
          "metadata": {
            "tags": []
          },
          "execution_count": 76
        }
      ]
    },
    {
      "cell_type": "markdown",
      "metadata": {
        "id": "HXy2gZrkJ0f_"
      },
      "source": [
        "#### Pad the above tokenized reviews data save it as independent features. Use max_len for the same."
      ]
    },
    {
      "cell_type": "code",
      "metadata": {
        "id": "mV-KtcR06OAr"
      },
      "source": [
        "X = tf.keras.preprocessing.sequence.pad_sequences(X, maxlen=maxlen)"
      ],
      "execution_count": 77,
      "outputs": []
    },
    {
      "cell_type": "code",
      "metadata": {
        "id": "wDSy3uCREReb"
      },
      "source": [
        "y = np.asarray(ssd_review_df['rating_stars'])"
      ],
      "execution_count": 78,
      "outputs": []
    },
    {
      "cell_type": "markdown",
      "metadata": {
        "id": "XVT7dRRUHsgR"
      },
      "source": [
        "#### Check the shape of X (padded tokenized review data) and y (rating_stars) data."
      ]
    },
    {
      "cell_type": "code",
      "metadata": {
        "id": "SXc3DOi9Hz6O",
        "colab": {
          "base_uri": "https://localhost:8080/"
        },
        "outputId": "5a86ec9a-1f78-4b5e-cd0a-7e0f6fedc82e"
      },
      "source": [
        "X.shape"
      ],
      "execution_count": 81,
      "outputs": [
        {
          "output_type": "execute_result",
          "data": {
            "text/plain": [
              "(2227, 25)"
            ]
          },
          "metadata": {
            "tags": []
          },
          "execution_count": 81
        }
      ]
    },
    {
      "cell_type": "code",
      "metadata": {
        "colab": {
          "base_uri": "https://localhost:8080/"
        },
        "id": "ySbJ9hY3FWP_",
        "outputId": "8511f562-0dcd-450e-9484-24faa71158dc"
      },
      "source": [
        "y.shape"
      ],
      "execution_count": 82,
      "outputs": [
        {
          "output_type": "execute_result",
          "data": {
            "text/plain": [
              "(2227,)"
            ]
          },
          "metadata": {
            "tags": []
          },
          "execution_count": 82
        }
      ]
    },
    {
      "cell_type": "markdown",
      "metadata": {
        "id": "A5GlWwKnJ7ie"
      },
      "source": [
        "#### Check the total number of words in the dictionary (of tokenizer)"
      ]
    },
    {
      "cell_type": "code",
      "metadata": {
        "id": "oR0W8MdX6V3A"
      },
      "source": [
        "num_words = len(tokenizer.word_counts) + 1"
      ],
      "execution_count": 97,
      "outputs": []
    },
    {
      "cell_type": "code",
      "metadata": {
        "colab": {
          "base_uri": "https://localhost:8080/"
        },
        "id": "oFXmkzf7OWwo",
        "outputId": "971e951e-2601-49f1-a73d-f6d7d86b5548"
      },
      "source": [
        "print(num_words)"
      ],
      "execution_count": 98,
      "outputs": [
        {
          "output_type": "stream",
          "text": [
            "8839\n"
          ],
          "name": "stdout"
        }
      ]
    },
    {
      "cell_type": "markdown",
      "metadata": {
        "id": "RKa3eYLDJ_yO"
      },
      "source": [
        "### 4.6 Compute the glove embeddings. Use the provided txt file for the same."
      ]
    },
    {
      "cell_type": "markdown",
      "metadata": {
        "id": "WNwPD9EmIbMt"
      },
      "source": [
        "#### Read the glove embeddings from the file provided titled ‘glove.6B.50d.txt’. And save it to a dictotionary having word and corresponding embedding vector."
      ]
    },
    {
      "cell_type": "code",
      "metadata": {
        "id": "bNd9ZFjuIp3g",
        "colab": {
          "base_uri": "https://localhost:8080/"
        },
        "outputId": "6b0b9a5c-61f4-477f-c196-8e23c58fe1b2"
      },
      "source": [
        "embeddings_index = {}\n",
        "f = open(os.path.join(path, 'glove.6B.50d.txt'))\n",
        "for line in f:\n",
        "    values = line.split(\" \")\n",
        "    word = values[0]\n",
        "    coefs = np.asarray(values[1:], dtype='float32')\n",
        "    embeddings_index[word] = coefs\n",
        "f.close()\n",
        "\n",
        "print('Found %s word vectors.' % len(embeddings_index))"
      ],
      "execution_count": 87,
      "outputs": [
        {
          "output_type": "stream",
          "text": [
            "Found 400000 word vectors.\n"
          ],
          "name": "stdout"
        }
      ]
    },
    {
      "cell_type": "markdown",
      "metadata": {
        "id": "EuolWkfmIqCJ"
      },
      "source": [
        "#### Create a weight matrix for words in the training docs"
      ]
    },
    {
      "cell_type": "code",
      "metadata": {
        "id": "BGHZ0nIaI0Ar"
      },
      "source": [
        "word_index = tokenizer.word_index\n",
        "embedding_matrix = np.zeros((num_words,embedding_size))\n",
        "for word, i in word_index.items():\n",
        "    embedding_vector = embeddings_index.get(word)\n",
        "    if embedding_vector is not None:\n",
        "        # words not found in embedding index will be all-zeros.\n",
        "        embedding_matrix[i] = embedding_vector"
      ],
      "execution_count": 99,
      "outputs": []
    },
    {
      "cell_type": "markdown",
      "metadata": {
        "id": "-DdpiQZ9_Fiq"
      },
      "source": [
        "#### Check length of the embedding"
      ]
    },
    {
      "cell_type": "code",
      "metadata": {
        "id": "8bcs-LtYILlO",
        "colab": {
          "base_uri": "https://localhost:8080/"
        },
        "outputId": "8355e9ec-eca6-469f-ef39-1a2ebeae76c1"
      },
      "source": [
        "len(embedding_matrix)"
      ],
      "execution_count": 102,
      "outputs": [
        {
          "output_type": "execute_result",
          "data": {
            "text/plain": [
              "8839"
            ]
          },
          "metadata": {
            "tags": []
          },
          "execution_count": 102
        }
      ]
    },
    {
      "cell_type": "markdown",
      "metadata": {
        "id": "xVPf3X5MKGpm"
      },
      "source": [
        "### 4.7 Target Feature:- One hot encode the target variable (rating_stars)"
      ]
    },
    {
      "cell_type": "code",
      "metadata": {
        "id": "7PVDBmkjJC4n"
      },
      "source": [
        "from sklearn.preprocessing import OneHotEncoder\n",
        "ohe = OneHotEncoder()\n",
        "y_encoded = ohe.fit_transform(y.reshape(-1,1))"
      ],
      "execution_count": 104,
      "outputs": []
    },
    {
      "cell_type": "code",
      "metadata": {
        "id": "4t7Vvm3xTGCc"
      },
      "source": [
        "y_encoded = y_encoded.todense()"
      ],
      "execution_count": 105,
      "outputs": []
    },
    {
      "cell_type": "markdown",
      "metadata": {
        "id": "5dqPXETLKN0h"
      },
      "source": [
        "### 4.8 Split the data into Train & Test sets"
      ]
    },
    {
      "cell_type": "code",
      "metadata": {
        "id": "FFJ1oEUmJEEW"
      },
      "source": [
        "from sklearn.model_selection import train_test_split\n",
        "X_train, X_test, y_train, y_test = train_test_split(X,y_encoded,test_size=0.3, random_state=42, stratify=y_encoded)"
      ],
      "execution_count": 110,
      "outputs": []
    },
    {
      "cell_type": "markdown",
      "metadata": {
        "id": "rhD1a-beKvE7"
      },
      "source": [
        "## 5. Model building"
      ]
    },
    {
      "cell_type": "markdown",
      "metadata": {
        "id": "bRmxklYnKvxk"
      },
      "source": [
        "### 5.1 Construct a neural network architecture using embedding and LSTM layers for building the rating prediction model.\n",
        "- Use the num_words, embedding_size from the above tokenizer and embeddings respectively\n",
        "- Use weights from the above embedding matrix\n",
        "- Use input length as the maxlen\n",
        "- Add LSTM layers"
      ]
    },
    {
      "cell_type": "code",
      "metadata": {
        "id": "1xQQY9AuV5Qs"
      },
      "source": [
        "from tensorflow.keras.models import Sequential\n",
        "from tensorflow.keras.layers import Embedding, LSTM, Dense, Dropout, Flatten\n",
        "from functools import partial\n",
        "tf.keras.backend.clear_session()\n",
        "model = Sequential()\n",
        "model.add(Embedding(num_words, embedding_size, weights = [embedding_matrix], input_length=maxlen))\n",
        "model.add(LSTM(128, return_sequences = True))\n",
        "model.add(Flatten())\n",
        "model.add(Dense(512, activation='relu'))\n",
        "model.add(Dropout(0.5))\n",
        "model.add(Dense(256, activation = 'relu'))\n",
        "model.add(Dropout(0.5))\n",
        "model.add(Dense(128, activation = 'relu'))\n",
        "model.add(Dropout(0.5))\n",
        "model.add(Dense(64, activation= 'relu'))\n",
        "model.add(Dropout(0.5))\n",
        "model.add(Dense(5, activation=\"softmax\"))"
      ],
      "execution_count": 136,
      "outputs": []
    },
    {
      "cell_type": "markdown",
      "metadata": {
        "id": "iN0P-a6X_jAb"
      },
      "source": [
        "### 5.2 Compile the model using appropriate loss, optimizer, and accuracy metric"
      ]
    },
    {
      "cell_type": "code",
      "metadata": {
        "id": "8Kyk9kPxNCMb"
      },
      "source": [
        "model.compile(loss='categorical_crossentropy', optimizer='adam', metrics=['accuracy'])"
      ],
      "execution_count": 137,
      "outputs": []
    },
    {
      "cell_type": "code",
      "metadata": {
        "colab": {
          "base_uri": "https://localhost:8080/"
        },
        "id": "R1R-Ewt6XvUk",
        "outputId": "c7b106b8-23a9-482c-a1c6-be2d97b26ced"
      },
      "source": [
        "model.summary()"
      ],
      "execution_count": 138,
      "outputs": [
        {
          "output_type": "stream",
          "text": [
            "Model: \"sequential\"\n",
            "_________________________________________________________________\n",
            "Layer (type)                 Output Shape              Param #   \n",
            "=================================================================\n",
            "embedding (Embedding)        (None, 25, 50)            441950    \n",
            "_________________________________________________________________\n",
            "lstm (LSTM)                  (None, 25, 128)           91648     \n",
            "_________________________________________________________________\n",
            "flatten (Flatten)            (None, 3200)              0         \n",
            "_________________________________________________________________\n",
            "dense (Dense)                (None, 512)               1638912   \n",
            "_________________________________________________________________\n",
            "dropout (Dropout)            (None, 512)               0         \n",
            "_________________________________________________________________\n",
            "dense_1 (Dense)              (None, 256)               131328    \n",
            "_________________________________________________________________\n",
            "dropout_1 (Dropout)          (None, 256)               0         \n",
            "_________________________________________________________________\n",
            "dense_2 (Dense)              (None, 128)               32896     \n",
            "_________________________________________________________________\n",
            "dropout_2 (Dropout)          (None, 128)               0         \n",
            "_________________________________________________________________\n",
            "dense_3 (Dense)              (None, 64)                8256      \n",
            "_________________________________________________________________\n",
            "dropout_3 (Dropout)          (None, 64)                0         \n",
            "_________________________________________________________________\n",
            "dense_4 (Dense)              (None, 5)                 325       \n",
            "=================================================================\n",
            "Total params: 2,345,315\n",
            "Trainable params: 2,345,315\n",
            "Non-trainable params: 0\n",
            "_________________________________________________________________\n"
          ],
          "name": "stdout"
        }
      ]
    },
    {
      "cell_type": "markdown",
      "metadata": {
        "id": "tIODqXJK_qrQ"
      },
      "source": [
        "### 5.3 Fit the model"
      ]
    },
    {
      "cell_type": "code",
      "metadata": {
        "id": "fEX-_bd2NDPW",
        "colab": {
          "base_uri": "https://localhost:8080/"
        },
        "outputId": "71ce43cc-88be-49ff-83d6-9bbb606eb202"
      },
      "source": [
        "batch_size = 100\n",
        "epochs = 20\n",
        "\n",
        "training_history = model.fit(X_train, y_train, batch_size=batch_size, epochs=epochs, validation_data=(X_test, y_test))"
      ],
      "execution_count": 139,
      "outputs": [
        {
          "output_type": "stream",
          "text": [
            "Epoch 1/20\n",
            "16/16 [==============================] - 4s 161ms/step - loss: 1.1468 - accuracy: 0.6836 - val_loss: 0.9101 - val_accuracy: 0.7892\n",
            "Epoch 2/20\n",
            "16/16 [==============================] - 2s 117ms/step - loss: 0.9155 - accuracy: 0.7792 - val_loss: 0.7508 - val_accuracy: 0.7892\n",
            "Epoch 3/20\n",
            "16/16 [==============================] - 2s 110ms/step - loss: 0.8078 - accuracy: 0.7837 - val_loss: 0.8120 - val_accuracy: 0.7892\n",
            "Epoch 4/20\n",
            "16/16 [==============================] - 2s 113ms/step - loss: 0.7704 - accuracy: 0.7869 - val_loss: 0.7343 - val_accuracy: 0.7892\n",
            "Epoch 5/20\n",
            "16/16 [==============================] - 2s 113ms/step - loss: 0.7041 - accuracy: 0.7875 - val_loss: 0.7019 - val_accuracy: 0.7892\n",
            "Epoch 6/20\n",
            "16/16 [==============================] - 2s 111ms/step - loss: 0.6555 - accuracy: 0.7882 - val_loss: 0.7185 - val_accuracy: 0.7892\n",
            "Epoch 7/20\n",
            "16/16 [==============================] - 2s 114ms/step - loss: 0.6228 - accuracy: 0.7882 - val_loss: 0.7319 - val_accuracy: 0.7892\n",
            "Epoch 8/20\n",
            "16/16 [==============================] - 2s 113ms/step - loss: 0.5884 - accuracy: 0.7888 - val_loss: 0.7492 - val_accuracy: 0.7892\n",
            "Epoch 9/20\n",
            "16/16 [==============================] - 2s 111ms/step - loss: 0.5379 - accuracy: 0.7875 - val_loss: 0.7689 - val_accuracy: 0.7892\n",
            "Epoch 10/20\n",
            "16/16 [==============================] - 2s 111ms/step - loss: 0.4946 - accuracy: 0.7882 - val_loss: 0.8786 - val_accuracy: 0.7892\n",
            "Epoch 11/20\n",
            "16/16 [==============================] - 2s 114ms/step - loss: 0.4451 - accuracy: 0.7901 - val_loss: 0.8686 - val_accuracy: 0.7907\n",
            "Epoch 12/20\n",
            "16/16 [==============================] - 2s 113ms/step - loss: 0.4036 - accuracy: 0.8081 - val_loss: 0.9916 - val_accuracy: 0.7833\n",
            "Epoch 13/20\n",
            "16/16 [==============================] - 2s 111ms/step - loss: 0.3778 - accuracy: 0.8312 - val_loss: 1.1211 - val_accuracy: 0.7728\n",
            "Epoch 14/20\n",
            "16/16 [==============================] - 2s 112ms/step - loss: 0.3480 - accuracy: 0.8479 - val_loss: 1.1015 - val_accuracy: 0.7145\n",
            "Epoch 15/20\n",
            "16/16 [==============================] - 2s 113ms/step - loss: 0.3431 - accuracy: 0.8524 - val_loss: 1.3718 - val_accuracy: 0.7608\n",
            "Epoch 16/20\n",
            "16/16 [==============================] - 2s 111ms/step - loss: 0.3289 - accuracy: 0.8511 - val_loss: 1.2524 - val_accuracy: 0.7369\n",
            "Epoch 17/20\n",
            "16/16 [==============================] - 2s 114ms/step - loss: 0.3103 - accuracy: 0.8703 - val_loss: 1.3343 - val_accuracy: 0.7220\n",
            "Epoch 18/20\n",
            "16/16 [==============================] - 2s 112ms/step - loss: 0.3062 - accuracy: 0.8800 - val_loss: 1.4172 - val_accuracy: 0.7593\n",
            "Epoch 19/20\n",
            "16/16 [==============================] - 2s 115ms/step - loss: 0.2795 - accuracy: 0.8909 - val_loss: 1.9127 - val_accuracy: 0.7728\n",
            "Epoch 20/20\n",
            "16/16 [==============================] - 2s 116ms/step - loss: 0.2766 - accuracy: 0.8909 - val_loss: 1.4766 - val_accuracy: 0.7369\n"
          ],
          "name": "stdout"
        }
      ]
    },
    {
      "cell_type": "markdown",
      "metadata": {
        "id": "1iakHzMFNDsz"
      },
      "source": [
        "### 5.4 Predict ratings for test data and check accuracy and confusion matrix"
      ]
    },
    {
      "cell_type": "code",
      "metadata": {
        "id": "erNFghTpNK-j"
      },
      "source": [
        "predictions = model.predict(X_test.reshape(len(X_test),25))\n",
        "y_test_inv = ohe.inverse_transform(y_test)"
      ],
      "execution_count": 140,
      "outputs": []
    },
    {
      "cell_type": "code",
      "metadata": {
        "id": "glNaXRZqNLBN",
        "colab": {
          "base_uri": "https://localhost:8080/"
        },
        "outputId": "44ecac9e-4d3d-44dd-8dd4-a2a1874fa254"
      },
      "source": [
        "y_pred_inv = ohe.inverse_transform(np.around(predictions))\n",
        "from sklearn.metrics import confusion_matrix\n",
        "confusion_matrix(y_test_inv, y_pred_inv)"
      ],
      "execution_count": 141,
      "outputs": [
        {
          "output_type": "execute_result",
          "data": {
            "text/plain": [
              "array([[ 35,   0,   0,   0,  11],\n",
              "       [ 11,   0,   0,   0,   7],\n",
              "       [  9,   0,   0,   2,  12],\n",
              "       [ 21,   0,   0,   0,  33],\n",
              "       [ 72,   0,   0,   8, 448]])"
            ]
          },
          "metadata": {
            "tags": []
          },
          "execution_count": 141
        }
      ]
    },
    {
      "cell_type": "code",
      "metadata": {
        "colab": {
          "base_uri": "https://localhost:8080/"
        },
        "id": "aWEymq2Tc9M1",
        "outputId": "84ab8470-4ad2-4de5-d4fa-da7450c5738f"
      },
      "source": [
        "from sklearn.metrics import classification_report\n",
        "print(classification_report(y_test_inv, y_pred_inv))"
      ],
      "execution_count": 142,
      "outputs": [
        {
          "output_type": "stream",
          "text": [
            "              precision    recall  f1-score   support\n",
            "\n",
            "           1       0.24      0.76      0.36        46\n",
            "           2       0.00      0.00      0.00        18\n",
            "           3       0.00      0.00      0.00        23\n",
            "           4       0.00      0.00      0.00        54\n",
            "           5       0.88      0.85      0.86       528\n",
            "\n",
            "    accuracy                           0.72       669\n",
            "   macro avg       0.22      0.32      0.24       669\n",
            "weighted avg       0.71      0.72      0.71       669\n",
            "\n"
          ],
          "name": "stdout"
        }
      ]
    },
    {
      "cell_type": "code",
      "metadata": {
        "colab": {
          "base_uri": "https://localhost:8080/"
        },
        "id": "3My0agCFc_bx",
        "outputId": "700a3d47-d981-4cc9-d3a5-ef8ea408863f"
      },
      "source": [
        "from sklearn.metrics import accuracy_score\n",
        "accuracy_score(y_test_inv, y_pred_inv)"
      ],
      "execution_count": 143,
      "outputs": [
        {
          "output_type": "execute_result",
          "data": {
            "text/plain": [
              "0.7219730941704036"
            ]
          },
          "metadata": {
            "tags": []
          },
          "execution_count": 143
        }
      ]
    },
    {
      "cell_type": "markdown",
      "metadata": {
        "id": "lHyQA-RsNOXT"
      },
      "source": [
        "### 5.5 Display plot of training and validation loss/accuracy wrt to epochs"
      ]
    },
    {
      "cell_type": "code",
      "metadata": {
        "id": "gC7Lb0eSNawO",
        "colab": {
          "base_uri": "https://localhost:8080/",
          "height": 562
        },
        "outputId": "8d1f646f-35bf-4267-bb4c-935703cef044"
      },
      "source": [
        "import matplotlib.pyplot as plt\n",
        "accuracy      = training_history.history['accuracy']\n",
        "val_accuracy  = training_history.history['val_accuracy']\n",
        "loss     = training_history.history['loss']\n",
        "val_loss = training_history.history['val_loss']\n",
        "\n",
        "epochs   = range(len(accuracy)) # Get number of epochs\n",
        "\n",
        "plt.plot  ( epochs, accuracy, label = 'training accuracy' )\n",
        "plt.plot  ( epochs, val_accuracy, label = 'validation accuracy' )\n",
        "plt.title ('Training and validation accuracy')\n",
        "plt.legend(loc = 'lower right')\n",
        "plt.figure()\n",
        "\n",
        "plt.plot  ( epochs, loss, label = 'training loss' )\n",
        "plt.plot  ( epochs, val_loss, label = 'validation loss' )\n",
        "plt.legend(loc = 'upper right')\n",
        "plt.title ('Training and validation loss'   )"
      ],
      "execution_count": 144,
      "outputs": [
        {
          "output_type": "execute_result",
          "data": {
            "text/plain": [
              "Text(0.5, 1.0, 'Training and validation loss')"
            ]
          },
          "metadata": {
            "tags": []
          },
          "execution_count": 144
        },
        {
          "output_type": "display_data",
          "data": {
            "image/png": "[encoded data removed]",
            "text/plain": [
              "<Figure size 432x288 with 1 Axes>"
            ]
          },
          "metadata": {
            "tags": [],
            "needs_background": "light"
          }
        },
        {
          "output_type": "display_data",
          "data": {
            "image/png": "[encoded data removed]",
            "text/plain": [
              "<Figure size 432x288 with 1 Axes>"
            ]
          },
          "metadata": {
            "tags": [],
            "needs_background": "light"
          }
        }
      ]
    },
    {
      "cell_type": "markdown",
      "metadata": {
        "id": "Ey7an7ukLxWB"
      },
      "source": [
        "## 6. Conclusion and Interpretation"
      ]
    },
    {
      "cell_type": "markdown",
      "metadata": {
        "id": "qVie08uypstd"
      },
      "source": [
        "The confusion matrix shows that the false positives and negatives are more for the ratings 1 to 4 and the least for rating 5, i.e. the prediction for rating 5 is the best. This was expected as the initial data was highly imbalanced with most of the ratings having value 5. \n",
        "Also the precision and recall values are the highest for rating 5 and lower for other ratings, which is a reconfirmation on the class imbalance problem highlighed earlier.\n",
        "The accuracy scores for training and validation data show that the model is highly overfit, the same can be seen in the plots of training acc vs validation acc and training loss vs validation loss. To reduce the overfitting the model has to be fine tuned with various hyper parameters, or more data with enough ratings for all the values has to be fed, thereby reducing class imbalance and improve overall accuracy."
      ]
    },
    {
      "cell_type": "markdown",
      "metadata": {
        "id": "9nwOCcvqxVCH"
      },
      "source": [
        "## 7. Food for thought:\n",
        "\n",
        "1.) Change activation function (try leaky_relu or tanh) and see if it helps in improving model performance with the dataset that is highly imbalanced\n",
        "\n",
        "2.) Try with only the overall review feature and see if it leads to improvement in model performace\n",
        "\n",
        "3.) Change the hyperparameters of the model and compare the results "
      ]
    }
  ]
}