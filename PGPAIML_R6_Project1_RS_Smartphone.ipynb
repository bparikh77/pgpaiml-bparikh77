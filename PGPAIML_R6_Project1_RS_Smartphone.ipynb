{
 "cells": [
  {
   "cell_type": "markdown",
   "metadata": {},
   "source": [
    "# Import necessary libraries"
   ]
  },
  {
   "cell_type": "code",
   "execution_count": 236,
   "metadata": {},
   "outputs": [],
   "source": [
    "import pandas as pd\n",
    "import numpy as np\n",
    "from surprise import SVD\n",
    "from surprise import Dataset, Reader\n",
    "from surprise.model_selection import train_test_split\n",
    "from surprise import KNNWithMeans, accuracy, Prediction\n",
    "from collections import defaultdict"
   ]
  },
  {
   "cell_type": "markdown",
   "metadata": {},
   "source": [
    "# Upload the csv files into individual dataframes"
   ]
  },
  {
   "cell_type": "code",
   "execution_count": 184,
   "metadata": {},
   "outputs": [],
   "source": [
    "user_data_1_df = pd.read_csv(\"phone_user_review_file_1.csv\", encoding=\"latin-1\")"
   ]
  },
  {
   "cell_type": "code",
   "execution_count": 185,
   "metadata": {},
   "outputs": [],
   "source": [
    "user_data_2_df = pd.read_csv(\"phone_user_review_file_2.csv\", encoding=\"latin-1\")"
   ]
  },
  {
   "cell_type": "code",
   "execution_count": 186,
   "metadata": {},
   "outputs": [],
   "source": [
    "user_data_3_df = pd.read_csv(\"phone_user_review_file_3.csv\", encoding=\"latin-1\")"
   ]
  },
  {
   "cell_type": "code",
   "execution_count": 187,
   "metadata": {},
   "outputs": [],
   "source": [
    "user_data_4_df = pd.read_csv(\"phone_user_review_file_4.csv\", encoding=\"latin-1\")"
   ]
  },
  {
   "cell_type": "code",
   "execution_count": 188,
   "metadata": {},
   "outputs": [],
   "source": [
    "user_data_5_df = pd.read_csv(\"phone_user_review_file_5.csv\", encoding=\"latin-1\")"
   ]
  },
  {
   "cell_type": "code",
   "execution_count": 189,
   "metadata": {},
   "outputs": [],
   "source": [
    "user_data_6_df = pd.read_csv(\"phone_user_review_file_6.csv\", encoding=\"latin-1\")"
   ]
  },
  {
   "cell_type": "markdown",
   "metadata": {},
   "source": [
    "# Merge all dataframes into one dataframe"
   ]
  },
  {
   "cell_type": "code",
   "execution_count": 190,
   "metadata": {},
   "outputs": [],
   "source": [
    "user_data_cons_df = pd.concat([user_data_1_df, user_data_2_df, user_data_3_df, user_data_4_df, user_data_5_df, user_data_6_df], \n",
    "axis=0)"
   ]
  },
  {
   "cell_type": "markdown",
   "metadata": {},
   "source": [
    "# Check for any null / missing values"
   ]
  },
  {
   "cell_type": "code",
   "execution_count": 191,
   "metadata": {},
   "outputs": [
    {
     "data": {
      "text/plain": [
       "phone_url    False\n",
       "date         False\n",
       "lang         False\n",
       "country      False\n",
       "source       False\n",
       "domain       False\n",
       "score         True\n",
       "score_max     True\n",
       "extract       True\n",
       "author        True\n",
       "product       True\n",
       "dtype: bool"
      ]
     },
     "execution_count": 191,
     "metadata": {},
     "output_type": "execute_result"
    }
   ],
   "source": [
    "user_data_cons_df.isnull().any()"
   ]
  },
  {
   "cell_type": "markdown",
   "metadata": {},
   "source": [
    "# Conclusion: Null values are in score, score_max, extract, author and product columns"
   ]
  },
  {
   "cell_type": "markdown",
   "metadata": {},
   "source": [
    "# Replace null value in score column with mean value"
   ]
  },
  {
   "cell_type": "code",
   "execution_count": 192,
   "metadata": {},
   "outputs": [],
   "source": [
    "user_data_cons_df[\"score\"] = np.where(user_data_cons_df[\"score\"].isnull(), user_data_cons_df[\"score\"].mean(), \n",
    "                                      user_data_cons_df[\"score\"])"
   ]
  },
  {
   "cell_type": "markdown",
   "metadata": {},
   "source": [
    "# Round of scores to nearest integers"
   ]
  },
  {
   "cell_type": "code",
   "execution_count": 193,
   "metadata": {},
   "outputs": [],
   "source": [
    "user_data_cons_df[\"score\"] = user_data_cons_df[\"score\"].apply(np.int64)"
   ]
  },
  {
   "cell_type": "markdown",
   "metadata": {},
   "source": [
    "# Check for duplicate values and remove them if there are any"
   ]
  },
  {
   "cell_type": "code",
   "execution_count": 194,
   "metadata": {},
   "outputs": [
    {
     "data": {
      "text/plain": [
       "(1415133, 11)"
      ]
     },
     "execution_count": 194,
     "metadata": {},
     "output_type": "execute_result"
    }
   ],
   "source": [
    "user_data_cons_df.shape"
   ]
  },
  {
   "cell_type": "code",
   "execution_count": 195,
   "metadata": {},
   "outputs": [],
   "source": [
    "user_data_cons_df = pd.DataFrame.drop_duplicates(user_data_cons_df)"
   ]
  },
  {
   "cell_type": "code",
   "execution_count": 196,
   "metadata": {},
   "outputs": [
    {
     "data": {
      "text/plain": [
       "(1408713, 11)"
      ]
     },
     "execution_count": 196,
     "metadata": {},
     "output_type": "execute_result"
    }
   ],
   "source": [
    "user_data_cons_df.shape"
   ]
  },
  {
   "cell_type": "markdown",
   "metadata": {},
   "source": [
    "# 6420 duplicate rows removed"
   ]
  },
  {
   "cell_type": "markdown",
   "metadata": {},
   "source": [
    "# Keep only 10,000 data samples (and not 10,00,000) as getting out of memory error below while using CF model with kNNMeans (user based or item based) from surprise package"
   ]
  },
  {
   "cell_type": "code",
   "execution_count": 216,
   "metadata": {},
   "outputs": [],
   "source": [
    "user_data_cons_df = user_data_cons_df.head(10000)"
   ]
  },
  {
   "cell_type": "code",
   "execution_count": 217,
   "metadata": {},
   "outputs": [
    {
     "data": {
      "text/html": [
       "<div>\n",
       "<style scoped>\n",
       "    .dataframe tbody tr th:only-of-type {\n",
       "        vertical-align: middle;\n",
       "    }\n",
       "\n",
       "    .dataframe tbody tr th {\n",
       "        vertical-align: top;\n",
       "    }\n",
       "\n",
       "    .dataframe thead th {\n",
       "        text-align: right;\n",
       "    }\n",
       "</style>\n",
       "<table border=\"1\" class=\"dataframe\">\n",
       "  <thead>\n",
       "    <tr style=\"text-align: right;\">\n",
       "      <th></th>\n",
       "      <th>phone_url</th>\n",
       "      <th>date</th>\n",
       "      <th>lang</th>\n",
       "      <th>country</th>\n",
       "      <th>source</th>\n",
       "      <th>domain</th>\n",
       "      <th>score</th>\n",
       "      <th>score_max</th>\n",
       "      <th>extract</th>\n",
       "      <th>author</th>\n",
       "      <th>product</th>\n",
       "    </tr>\n",
       "  </thead>\n",
       "  <tbody>\n",
       "    <tr>\n",
       "      <th>0</th>\n",
       "      <td>/cellphones/samsung-galaxy-s8/</td>\n",
       "      <td>5/2/2017</td>\n",
       "      <td>en</td>\n",
       "      <td>us</td>\n",
       "      <td>Verizon Wireless</td>\n",
       "      <td>verizonwireless.com</td>\n",
       "      <td>10</td>\n",
       "      <td>10.0</td>\n",
       "      <td>As a diehard Samsung fan who has had every Sam...</td>\n",
       "      <td>CarolAnn35</td>\n",
       "      <td>Samsung Galaxy S8</td>\n",
       "    </tr>\n",
       "    <tr>\n",
       "      <th>1</th>\n",
       "      <td>/cellphones/samsung-galaxy-s8/</td>\n",
       "      <td>4/28/2017</td>\n",
       "      <td>en</td>\n",
       "      <td>us</td>\n",
       "      <td>Phone Arena</td>\n",
       "      <td>phonearena.com</td>\n",
       "      <td>10</td>\n",
       "      <td>10.0</td>\n",
       "      <td>Love the phone. the phone is sleek and smooth ...</td>\n",
       "      <td>james0923</td>\n",
       "      <td>Samsung Galaxy S8</td>\n",
       "    </tr>\n",
       "    <tr>\n",
       "      <th>2</th>\n",
       "      <td>/cellphones/samsung-galaxy-s8/</td>\n",
       "      <td>5/4/2017</td>\n",
       "      <td>en</td>\n",
       "      <td>us</td>\n",
       "      <td>Amazon</td>\n",
       "      <td>amazon.com</td>\n",
       "      <td>6</td>\n",
       "      <td>10.0</td>\n",
       "      <td>Adequate feel. Nice heft. Processor's still sl...</td>\n",
       "      <td>R. Craig</td>\n",
       "      <td>Samsung Galaxy S8 (64GB) G950U 5.8\" 4G LTE Unl...</td>\n",
       "    </tr>\n",
       "    <tr>\n",
       "      <th>3</th>\n",
       "      <td>/cellphones/samsung-galaxy-s8/</td>\n",
       "      <td>5/2/2017</td>\n",
       "      <td>en</td>\n",
       "      <td>us</td>\n",
       "      <td>Samsung</td>\n",
       "      <td>samsung.com</td>\n",
       "      <td>9</td>\n",
       "      <td>10.0</td>\n",
       "      <td>Never disappointed. One of the reasons I've be...</td>\n",
       "      <td>Buster2020</td>\n",
       "      <td>Samsung Galaxy S8 64GB (AT&amp;T)</td>\n",
       "    </tr>\n",
       "    <tr>\n",
       "      <th>4</th>\n",
       "      <td>/cellphones/samsung-galaxy-s8/</td>\n",
       "      <td>5/11/2017</td>\n",
       "      <td>en</td>\n",
       "      <td>us</td>\n",
       "      <td>Verizon Wireless</td>\n",
       "      <td>verizonwireless.com</td>\n",
       "      <td>4</td>\n",
       "      <td>10.0</td>\n",
       "      <td>I've now found that i'm in a group of people t...</td>\n",
       "      <td>S Ate Mine</td>\n",
       "      <td>Samsung Galaxy S8</td>\n",
       "    </tr>\n",
       "  </tbody>\n",
       "</table>\n",
       "</div>"
      ],
      "text/plain": [
       "                        phone_url       date lang country            source  \\\n",
       "0  /cellphones/samsung-galaxy-s8/   5/2/2017   en      us  Verizon Wireless   \n",
       "1  /cellphones/samsung-galaxy-s8/  4/28/2017   en      us       Phone Arena   \n",
       "2  /cellphones/samsung-galaxy-s8/   5/4/2017   en      us            Amazon   \n",
       "3  /cellphones/samsung-galaxy-s8/   5/2/2017   en      us           Samsung   \n",
       "4  /cellphones/samsung-galaxy-s8/  5/11/2017   en      us  Verizon Wireless   \n",
       "\n",
       "                domain  score  score_max  \\\n",
       "0  verizonwireless.com     10       10.0   \n",
       "1       phonearena.com     10       10.0   \n",
       "2           amazon.com      6       10.0   \n",
       "3          samsung.com      9       10.0   \n",
       "4  verizonwireless.com      4       10.0   \n",
       "\n",
       "                                             extract       author  \\\n",
       "0  As a diehard Samsung fan who has had every Sam...   CarolAnn35   \n",
       "1  Love the phone. the phone is sleek and smooth ...    james0923   \n",
       "2  Adequate feel. Nice heft. Processor's still sl...     R. Craig   \n",
       "3  Never disappointed. One of the reasons I've be...  Buster2020    \n",
       "4  I've now found that i'm in a group of people t...   S Ate Mine   \n",
       "\n",
       "                                             product  \n",
       "0                                  Samsung Galaxy S8  \n",
       "1                                  Samsung Galaxy S8  \n",
       "2  Samsung Galaxy S8 (64GB) G950U 5.8\" 4G LTE Unl...  \n",
       "3                      Samsung Galaxy S8 64GB (AT&T)  \n",
       "4                                  Samsung Galaxy S8  "
      ]
     },
     "execution_count": 217,
     "metadata": {},
     "output_type": "execute_result"
    }
   ],
   "source": [
    "user_data_cons_df.head()"
   ]
  },
  {
   "cell_type": "markdown",
   "metadata": {},
   "source": [
    "# Keep features like Author, Product, and Score"
   ]
  },
  {
   "cell_type": "code",
   "execution_count": 218,
   "metadata": {},
   "outputs": [],
   "source": [
    "user_data_rs_df = user_data_cons_df[[\"author\", \"product\", \"score\"]]"
   ]
  },
  {
   "cell_type": "code",
   "execution_count": 219,
   "metadata": {},
   "outputs": [
    {
     "data": {
      "text/plain": [
       "(10000, 3)"
      ]
     },
     "execution_count": 219,
     "metadata": {},
     "output_type": "execute_result"
    }
   ],
   "source": [
    "user_data_rs_df.shape"
   ]
  },
  {
   "cell_type": "code",
   "execution_count": 220,
   "metadata": {},
   "outputs": [
    {
     "data": {
      "text/html": [
       "<div>\n",
       "<style scoped>\n",
       "    .dataframe tbody tr th:only-of-type {\n",
       "        vertical-align: middle;\n",
       "    }\n",
       "\n",
       "    .dataframe tbody tr th {\n",
       "        vertical-align: top;\n",
       "    }\n",
       "\n",
       "    .dataframe thead th {\n",
       "        text-align: right;\n",
       "    }\n",
       "</style>\n",
       "<table border=\"1\" class=\"dataframe\">\n",
       "  <thead>\n",
       "    <tr style=\"text-align: right;\">\n",
       "      <th></th>\n",
       "      <th>author</th>\n",
       "      <th>product</th>\n",
       "      <th>score</th>\n",
       "    </tr>\n",
       "  </thead>\n",
       "  <tbody>\n",
       "    <tr>\n",
       "      <th>0</th>\n",
       "      <td>CarolAnn35</td>\n",
       "      <td>Samsung Galaxy S8</td>\n",
       "      <td>10</td>\n",
       "    </tr>\n",
       "    <tr>\n",
       "      <th>1</th>\n",
       "      <td>james0923</td>\n",
       "      <td>Samsung Galaxy S8</td>\n",
       "      <td>10</td>\n",
       "    </tr>\n",
       "    <tr>\n",
       "      <th>2</th>\n",
       "      <td>R. Craig</td>\n",
       "      <td>Samsung Galaxy S8 (64GB) G950U 5.8\" 4G LTE Unl...</td>\n",
       "      <td>6</td>\n",
       "    </tr>\n",
       "    <tr>\n",
       "      <th>3</th>\n",
       "      <td>Buster2020</td>\n",
       "      <td>Samsung Galaxy S8 64GB (AT&amp;T)</td>\n",
       "      <td>9</td>\n",
       "    </tr>\n",
       "    <tr>\n",
       "      <th>4</th>\n",
       "      <td>S Ate Mine</td>\n",
       "      <td>Samsung Galaxy S8</td>\n",
       "      <td>4</td>\n",
       "    </tr>\n",
       "  </tbody>\n",
       "</table>\n",
       "</div>"
      ],
      "text/plain": [
       "        author                                            product  score\n",
       "0   CarolAnn35                                  Samsung Galaxy S8     10\n",
       "1    james0923                                  Samsung Galaxy S8     10\n",
       "2     R. Craig  Samsung Galaxy S8 (64GB) G950U 5.8\" 4G LTE Unl...      6\n",
       "3  Buster2020                       Samsung Galaxy S8 64GB (AT&T)      9\n",
       "4   S Ate Mine                                  Samsung Galaxy S8      4"
      ]
     },
     "execution_count": 220,
     "metadata": {},
     "output_type": "execute_result"
    }
   ],
   "source": [
    "user_data_rs_df.head()"
   ]
  },
  {
   "cell_type": "markdown",
   "metadata": {},
   "source": [
    "# Identify the most rated features / product with most number of reviews"
   ]
  },
  {
   "cell_type": "code",
   "execution_count": 96,
   "metadata": {},
   "outputs": [
    {
     "data": {
      "text/plain": [
       "product\n",
       "Samsung Galaxy S6 edge+ 32GB (T-Mobile)    1040\n",
       "Samsung Galaxy S7 edge 32GB (Verizon)       855\n",
       "Samsung Galaxy S7 edge 32GB (T-Mobile)      758\n",
       "Samsung Galaxy S6 edge+ 32GB (Verizon)      693\n",
       "Samsung Galaxy S7 edge 32GB (AT&T)          616\n",
       "Name: score, dtype: int64"
      ]
     },
     "execution_count": 96,
     "metadata": {},
     "output_type": "execute_result"
    }
   ],
   "source": [
    "user_data_rs_df.groupby('product')['score'].count().sort_values(ascending=False).head()  "
   ]
  },
  {
   "cell_type": "markdown",
   "metadata": {},
   "source": [
    "# Above is a list of top 5 most rated features / products"
   ]
  },
  {
   "cell_type": "markdown",
   "metadata": {},
   "source": [
    "# Identify the users with most number of reviews"
   ]
  },
  {
   "cell_type": "code",
   "execution_count": 97,
   "metadata": {},
   "outputs": [
    {
     "data": {
      "text/plain": [
       "author\n",
       "Anonymous          284\n",
       "Amazon Customer    270\n",
       "Client d'Amazon     57\n",
       "Cliente Amazon      45\n",
       "einer Kundin        19\n",
       "Name: score, dtype: int64"
      ]
     },
     "execution_count": 97,
     "metadata": {},
     "output_type": "execute_result"
    }
   ],
   "source": [
    "user_data_rs_df.groupby('author')['score'].count().sort_values(ascending=False).head()  "
   ]
  },
  {
   "cell_type": "markdown",
   "metadata": {},
   "source": [
    "# Above is a list of top 5 users with most number of reviews given"
   ]
  },
  {
   "cell_type": "markdown",
   "metadata": {},
   "source": [
    "# Select the data with products having more than 50 ratings and users who have given more than 50 ratings. Report the shape of the final dataset"
   ]
  },
  {
   "cell_type": "code",
   "execution_count": 181,
   "metadata": {},
   "outputs": [],
   "source": [
    "final_data = user_data_rs_df.groupby(['product','author'])['score'].count() > 50"
   ]
  },
  {
   "cell_type": "code",
   "execution_count": 182,
   "metadata": {},
   "outputs": [
    {
     "data": {
      "text/plain": [
       "(9305,)"
      ]
     },
     "execution_count": 182,
     "metadata": {},
     "output_type": "execute_result"
    }
   ],
   "source": [
    "final_data.shape"
   ]
  },
  {
   "cell_type": "markdown",
   "metadata": {},
   "source": [
    "# Conclusion: There are 9305 rows in the dataset of 10,000 rows having products with more than 50 ratings and users who have given more than 50 ratings"
   ]
  },
  {
   "cell_type": "markdown",
   "metadata": {},
   "source": [
    "# Build a popularity based model and recommend top 5 mobile phones"
   ]
  },
  {
   "cell_type": "code",
   "execution_count": 109,
   "metadata": {},
   "outputs": [
    {
     "data": {
      "text/plain": [
       "product\n",
       "Samsung Galaxy S6 EDGE PLUS 32GB Black (SM-G928W8) Unlocked                                                                                                                       10.0\n",
       "Samsung Galaxy S8 smartphone (grÃ¥)                                                                                                                                               10.0\n",
       "Samsung Galaxy S7 Edge Dual Sim Factory Unlocked Phone 32 GB - Internationally Sourced (Middle East/Africa/Asia) Version G935FD- Black Oynx                                       10.0\n",
       "Samsung Galaxy S6 Edge Plus - TelÃ©fono mÃ³vil (4 GB de RAM, 64 GB de almacenamiento, WiFi, Bluetooth, 3G)                                                                        10.0\n",
       "Samsung Galaxy S8 Plus - Smartphone libre Android (6.2\", 4 GB RAM, 4G, 12 MP), color plata. [VersiÃ³n alemana: no incluye Samsung Pay ni acceso a promociones Samsung members]    10.0\n",
       "Name: score, dtype: float64"
      ]
     },
     "execution_count": 109,
     "metadata": {},
     "output_type": "execute_result"
    }
   ],
   "source": [
    "# Select those mobile phones having highest mean / average score and sort the resulting list in descending order. \n",
    "# Display the top 5 from this list\n",
    "\n",
    "user_data_rs_df.groupby('product')['score'].mean().sort_values(ascending=False).head(5)  "
   ]
  },
  {
   "cell_type": "markdown",
   "metadata": {},
   "source": [
    "# Build a collaborative filtering model using SVD"
   ]
  },
  {
   "cell_type": "code",
   "execution_count": 225,
   "metadata": {},
   "outputs": [],
   "source": [
    "reader = Reader(rating_scale=(1,10))"
   ]
  },
  {
   "cell_type": "code",
   "execution_count": 226,
   "metadata": {},
   "outputs": [],
   "source": [
    "score_data = Dataset.load_from_df(user_data_rs_df[['author','product','score']], reader)"
   ]
  },
  {
   "cell_type": "code",
   "execution_count": 227,
   "metadata": {},
   "outputs": [],
   "source": [
    "trainset = score_data.build_full_trainset()"
   ]
  },
  {
   "cell_type": "code",
   "execution_count": 229,
   "metadata": {},
   "outputs": [
    {
     "data": {
      "text/plain": [
       "<surprise.prediction_algorithms.matrix_factorization.SVD at 0x20416736580>"
      ]
     },
     "execution_count": 229,
     "metadata": {},
     "output_type": "execute_result"
    }
   ],
   "source": [
    "algo = SVD()\n",
    "algo.fit(trainset)"
   ]
  },
  {
   "cell_type": "code",
   "execution_count": 230,
   "metadata": {},
   "outputs": [],
   "source": [
    "testset = trainset.build_anti_testset()"
   ]
  },
  {
   "cell_type": "code",
   "execution_count": 232,
   "metadata": {},
   "outputs": [],
   "source": [
    "predictions = algo.test(testset)"
   ]
  },
  {
   "cell_type": "code",
   "execution_count": 234,
   "metadata": {},
   "outputs": [],
   "source": [
    "# function to get top 10 score predictions\n",
    "\n",
    "def get_top_n(predictions, n=10):\n",
    "    # First map the predictions to each user.\n",
    "    top_n = defaultdict(list)\n",
    "    for uid, iid, true_r, est, _ in predictions:\n",
    "        top_n[uid].append((iid, est))\n",
    "\n",
    "    # Then sort the predictions for each user and retrieve the k highest ones.\n",
    "    for uid, user_ratings in top_n.items():\n",
    "        user_ratings.sort(key=lambda x: x[1], reverse=True)\n",
    "        top_n[uid] = user_ratings[:n]\n",
    "\n",
    "    return top_n"
   ]
  },
  {
   "cell_type": "code",
   "execution_count": 237,
   "metadata": {},
   "outputs": [],
   "source": [
    "# To get top 10 predictions of the score, call the above function \n",
    "\n",
    "top_n = get_top_n(predictions, n=10)"
   ]
  },
  {
   "cell_type": "code",
   "execution_count": null,
   "metadata": {},
   "outputs": [],
   "source": [
    "# Print the recommended items for each user\n",
    "\n",
    "for uid, user_ratings in top_n.items():\n",
    "    print(uid, [iid for (iid, _) in user_ratings])"
   ]
  },
  {
   "cell_type": "markdown",
   "metadata": {},
   "source": [
    "# Build a collaborative filtering model using kNNWithMeans from surprise. You can try both user-based and item-based model"
   ]
  },
  {
   "cell_type": "code",
   "execution_count": 134,
   "metadata": {},
   "outputs": [],
   "source": [
    "trainset, testset = train_test_split(score_data, test_size=.25, random_state=123)"
   ]
  },
  {
   "cell_type": "code",
   "execution_count": 135,
   "metadata": {},
   "outputs": [
    {
     "name": "stdout",
     "output_type": "stream",
     "text": [
      "Computing the pearson similarity matrix...\n",
      "Done computing similarity matrix.\n"
     ]
    },
    {
     "data": {
      "text/plain": [
       "<surprise.prediction_algorithms.knns.KNNWithMeans at 0x20416aaa700>"
      ]
     },
     "execution_count": 135,
     "metadata": {},
     "output_type": "execute_result"
    }
   ],
   "source": [
    "# Using CF user-based model with kNNWithMeans\n",
    "\n",
    "algo_user_based = KNNWithMeans(k=51, sim_options={'name': 'pearson' , 'user_based' : False})\n",
    "algo_user_based.fit(trainset)"
   ]
  },
  {
   "cell_type": "code",
   "execution_count": 149,
   "metadata": {},
   "outputs": [],
   "source": [
    "test_pred_user_based = algo_user_based.test(testset)"
   ]
  },
  {
   "cell_type": "code",
   "execution_count": 137,
   "metadata": {},
   "outputs": [
    {
     "name": "stdout",
     "output_type": "stream",
     "text": [
      "Computing the pearson similarity matrix...\n",
      "Done computing similarity matrix.\n"
     ]
    },
    {
     "data": {
      "text/plain": [
       "<surprise.prediction_algorithms.knns.KNNWithMeans at 0x20416aa4460>"
      ]
     },
     "execution_count": 137,
     "metadata": {},
     "output_type": "execute_result"
    }
   ],
   "source": [
    "# Using CF item-based model with kNNWithMeans\n",
    "\n",
    "algo_item_based = KNNWithMeans(k=51, sim_options={'name': 'pearson' , 'item_based' : False})\n",
    "algo_item_based.fit(trainset)"
   ]
  },
  {
   "cell_type": "code",
   "execution_count": 148,
   "metadata": {},
   "outputs": [],
   "source": [
    "test_pred_item_based = algo_item_based.test(testset)"
   ]
  },
  {
   "cell_type": "markdown",
   "metadata": {},
   "source": [
    "test_pred_item_based = algo.test(testset)"
   ]
  },
  {
   "cell_type": "markdown",
   "metadata": {},
   "source": [
    "# Evaluate the collaborative model. Print RMSE value"
   ]
  },
  {
   "cell_type": "code",
   "execution_count": 140,
   "metadata": {},
   "outputs": [
    {
     "name": "stdout",
     "output_type": "stream",
     "text": [
      "RMSE: 1.7888\n"
     ]
    },
    {
     "data": {
      "text/plain": [
       "1.7888482638111611"
      ]
     },
     "execution_count": 140,
     "metadata": {},
     "output_type": "execute_result"
    }
   ],
   "source": [
    "# RMSE for user-based CF model\n",
    "accuracy.rmse(test_pred_user_based)"
   ]
  },
  {
   "cell_type": "code",
   "execution_count": 141,
   "metadata": {},
   "outputs": [
    {
     "name": "stdout",
     "output_type": "stream",
     "text": [
      "RMSE: 1.8218\n"
     ]
    },
    {
     "data": {
      "text/plain": [
       "1.8217900558527378"
      ]
     },
     "execution_count": 141,
     "metadata": {},
     "output_type": "execute_result"
    }
   ],
   "source": [
    "# RMSE for item-based CF model\n",
    "accuracy.rmse(test_pred_item_based)"
   ]
  },
  {
   "cell_type": "markdown",
   "metadata": {},
   "source": [
    "# Predict score (average rating) for test users"
   ]
  },
  {
   "cell_type": "code",
   "execution_count": 142,
   "metadata": {},
   "outputs": [],
   "source": [
    "test_pred_user_based_df = pd.DataFrame(test_pred_user_based)"
   ]
  },
  {
   "cell_type": "code",
   "execution_count": 170,
   "metadata": {},
   "outputs": [
    {
     "data": {
      "text/html": [
       "<div>\n",
       "<style scoped>\n",
       "    .dataframe tbody tr th:only-of-type {\n",
       "        vertical-align: middle;\n",
       "    }\n",
       "\n",
       "    .dataframe tbody tr th {\n",
       "        vertical-align: top;\n",
       "    }\n",
       "\n",
       "    .dataframe thead th {\n",
       "        text-align: right;\n",
       "    }\n",
       "</style>\n",
       "<table border=\"1\" class=\"dataframe\">\n",
       "  <thead>\n",
       "    <tr style=\"text-align: right;\">\n",
       "      <th></th>\n",
       "      <th>uid</th>\n",
       "      <th>iid</th>\n",
       "      <th>r_ui</th>\n",
       "      <th>est</th>\n",
       "      <th>details</th>\n",
       "    </tr>\n",
       "  </thead>\n",
       "  <tbody>\n",
       "    <tr>\n",
       "      <th>0</th>\n",
       "      <td>WildYoungCharm</td>\n",
       "      <td>Samsung Galaxy S6 edge+ 32GB (T-Mobile)</td>\n",
       "      <td>10.0</td>\n",
       "      <td>8.909733</td>\n",
       "      <td>{'was_impossible': True, 'reason': 'User and/o...</td>\n",
       "    </tr>\n",
       "    <tr>\n",
       "      <th>1</th>\n",
       "      <td>boinero</td>\n",
       "      <td>Samsung Galaxy S8</td>\n",
       "      <td>10.0</td>\n",
       "      <td>8.909733</td>\n",
       "      <td>{'was_impossible': True, 'reason': 'User and/o...</td>\n",
       "    </tr>\n",
       "    <tr>\n",
       "      <th>2</th>\n",
       "      <td>dog</td>\n",
       "      <td>Samsung Galaxy S7 Edge G935P 32GB Gold- Sprint...</td>\n",
       "      <td>10.0</td>\n",
       "      <td>8.909733</td>\n",
       "      <td>{'was_impossible': True, 'reason': 'User and/o...</td>\n",
       "    </tr>\n",
       "    <tr>\n",
       "      <th>3</th>\n",
       "      <td>Memee77</td>\n",
       "      <td>Samsung Galaxy S6 edge+ 32GB (T-Mobile)</td>\n",
       "      <td>10.0</td>\n",
       "      <td>8.909733</td>\n",
       "      <td>{'was_impossible': True, 'reason': 'User and/o...</td>\n",
       "    </tr>\n",
       "    <tr>\n",
       "      <th>4</th>\n",
       "      <td>Squeakla29</td>\n",
       "      <td>Samsung Galaxy S6 edge+ 32GB (Sprint)</td>\n",
       "      <td>10.0</td>\n",
       "      <td>8.909733</td>\n",
       "      <td>{'was_impossible': True, 'reason': 'User and/o...</td>\n",
       "    </tr>\n",
       "  </tbody>\n",
       "</table>\n",
       "</div>"
      ],
      "text/plain": [
       "               uid                                                iid  r_ui  \\\n",
       "0  WildYoungCharm             Samsung Galaxy S6 edge+ 32GB (T-Mobile)  10.0   \n",
       "1          boinero                                  Samsung Galaxy S8  10.0   \n",
       "2              dog  Samsung Galaxy S7 Edge G935P 32GB Gold- Sprint...  10.0   \n",
       "3         Memee77             Samsung Galaxy S6 edge+ 32GB (T-Mobile)  10.0   \n",
       "4      Squeakla29               Samsung Galaxy S6 edge+ 32GB (Sprint)  10.0   \n",
       "\n",
       "        est                                            details  \n",
       "0  8.909733  {'was_impossible': True, 'reason': 'User and/o...  \n",
       "1  8.909733  {'was_impossible': True, 'reason': 'User and/o...  \n",
       "2  8.909733  {'was_impossible': True, 'reason': 'User and/o...  \n",
       "3  8.909733  {'was_impossible': True, 'reason': 'User and/o...  \n",
       "4  8.909733  {'was_impossible': True, 'reason': 'User and/o...  "
      ]
     },
     "execution_count": 170,
     "metadata": {},
     "output_type": "execute_result"
    }
   ],
   "source": [
    "# Average / Estimated rating for test users under user-based CF model\n",
    "test_pred_user_based_df.head(5)"
   ]
  },
  {
   "cell_type": "code",
   "execution_count": 144,
   "metadata": {},
   "outputs": [],
   "source": [
    "test_pred_item_based_df = pd.DataFrame(test_pred_item_based)"
   ]
  },
  {
   "cell_type": "code",
   "execution_count": 160,
   "metadata": {},
   "outputs": [
    {
     "data": {
      "text/html": [
       "<div>\n",
       "<style scoped>\n",
       "    .dataframe tbody tr th:only-of-type {\n",
       "        vertical-align: middle;\n",
       "    }\n",
       "\n",
       "    .dataframe tbody tr th {\n",
       "        vertical-align: top;\n",
       "    }\n",
       "\n",
       "    .dataframe thead th {\n",
       "        text-align: right;\n",
       "    }\n",
       "</style>\n",
       "<table border=\"1\" class=\"dataframe\">\n",
       "  <thead>\n",
       "    <tr style=\"text-align: right;\">\n",
       "      <th></th>\n",
       "      <th>uid</th>\n",
       "      <th>iid</th>\n",
       "      <th>r_ui</th>\n",
       "      <th>est</th>\n",
       "      <th>details</th>\n",
       "    </tr>\n",
       "  </thead>\n",
       "  <tbody>\n",
       "    <tr>\n",
       "      <th>0</th>\n",
       "      <td>WildYoungCharm</td>\n",
       "      <td>Samsung Galaxy S6 edge+ 32GB (T-Mobile)</td>\n",
       "      <td>10.0</td>\n",
       "      <td>8.909733</td>\n",
       "      <td>{'was_impossible': True, 'reason': 'User and/o...</td>\n",
       "    </tr>\n",
       "    <tr>\n",
       "      <th>1</th>\n",
       "      <td>boinero</td>\n",
       "      <td>Samsung Galaxy S8</td>\n",
       "      <td>10.0</td>\n",
       "      <td>8.909733</td>\n",
       "      <td>{'was_impossible': True, 'reason': 'User and/o...</td>\n",
       "    </tr>\n",
       "    <tr>\n",
       "      <th>2</th>\n",
       "      <td>dog</td>\n",
       "      <td>Samsung Galaxy S7 Edge G935P 32GB Gold- Sprint...</td>\n",
       "      <td>10.0</td>\n",
       "      <td>8.909733</td>\n",
       "      <td>{'was_impossible': True, 'reason': 'User and/o...</td>\n",
       "    </tr>\n",
       "    <tr>\n",
       "      <th>3</th>\n",
       "      <td>Memee77</td>\n",
       "      <td>Samsung Galaxy S6 edge+ 32GB (T-Mobile)</td>\n",
       "      <td>10.0</td>\n",
       "      <td>8.909733</td>\n",
       "      <td>{'was_impossible': True, 'reason': 'User and/o...</td>\n",
       "    </tr>\n",
       "    <tr>\n",
       "      <th>4</th>\n",
       "      <td>Squeakla29</td>\n",
       "      <td>Samsung Galaxy S6 edge+ 32GB (Sprint)</td>\n",
       "      <td>10.0</td>\n",
       "      <td>8.909733</td>\n",
       "      <td>{'was_impossible': True, 'reason': 'User and/o...</td>\n",
       "    </tr>\n",
       "  </tbody>\n",
       "</table>\n",
       "</div>"
      ],
      "text/plain": [
       "               uid                                                iid  r_ui  \\\n",
       "0  WildYoungCharm             Samsung Galaxy S6 edge+ 32GB (T-Mobile)  10.0   \n",
       "1          boinero                                  Samsung Galaxy S8  10.0   \n",
       "2              dog  Samsung Galaxy S7 Edge G935P 32GB Gold- Sprint...  10.0   \n",
       "3         Memee77             Samsung Galaxy S6 edge+ 32GB (T-Mobile)  10.0   \n",
       "4      Squeakla29               Samsung Galaxy S6 edge+ 32GB (Sprint)  10.0   \n",
       "\n",
       "        est                                            details  \n",
       "0  8.909733  {'was_impossible': True, 'reason': 'User and/o...  \n",
       "1  8.909733  {'was_impossible': True, 'reason': 'User and/o...  \n",
       "2  8.909733  {'was_impossible': True, 'reason': 'User and/o...  \n",
       "3  8.909733  {'was_impossible': True, 'reason': 'User and/o...  \n",
       "4  8.909733  {'was_impossible': True, 'reason': 'User and/o...  "
      ]
     },
     "execution_count": 160,
     "metadata": {},
     "output_type": "execute_result"
    }
   ],
   "source": [
    "# Average / Estimated rating for test users under item-based CF model\n",
    "test_pred_item_based_df.head(5)"
   ]
  },
  {
   "cell_type": "markdown",
   "metadata": {},
   "source": [
    "# Report your findings and inferences"
   ]
  },
  {
   "cell_type": "markdown",
   "metadata": {},
   "source": [
    "# There is no significant difference in the RMSE accuracy score between user-based and item-based CF models. As a result the average ratings for the test users is same across these two models, as shown in the two above tables having average / estimated ratings"
   ]
  },
  {
   "cell_type": "markdown",
   "metadata": {},
   "source": [
    "# Try and recommend top 5 products for test users"
   ]
  },
  {
   "cell_type": "code",
   "execution_count": 168,
   "metadata": {},
   "outputs": [],
   "source": [
    "top_5_prod_recos = test_pred_user_based_df.groupby('uid').head(5).reset_index(drop=True)"
   ]
  },
  {
   "cell_type": "code",
   "execution_count": 169,
   "metadata": {},
   "outputs": [
    {
     "data": {
      "text/html": [
       "<div>\n",
       "<style scoped>\n",
       "    .dataframe tbody tr th:only-of-type {\n",
       "        vertical-align: middle;\n",
       "    }\n",
       "\n",
       "    .dataframe tbody tr th {\n",
       "        vertical-align: top;\n",
       "    }\n",
       "\n",
       "    .dataframe thead th {\n",
       "        text-align: right;\n",
       "    }\n",
       "</style>\n",
       "<table border=\"1\" class=\"dataframe\">\n",
       "  <thead>\n",
       "    <tr style=\"text-align: right;\">\n",
       "      <th></th>\n",
       "      <th>uid</th>\n",
       "      <th>iid</th>\n",
       "      <th>r_ui</th>\n",
       "      <th>est</th>\n",
       "      <th>details</th>\n",
       "    </tr>\n",
       "  </thead>\n",
       "  <tbody>\n",
       "    <tr>\n",
       "      <th>0</th>\n",
       "      <td>WildYoungCharm</td>\n",
       "      <td>Samsung Galaxy S6 edge+ 32GB (T-Mobile)</td>\n",
       "      <td>10.0</td>\n",
       "      <td>8.909733</td>\n",
       "      <td>{'was_impossible': True, 'reason': 'User and/o...</td>\n",
       "    </tr>\n",
       "    <tr>\n",
       "      <th>1</th>\n",
       "      <td>boinero</td>\n",
       "      <td>Samsung Galaxy S8</td>\n",
       "      <td>10.0</td>\n",
       "      <td>8.909733</td>\n",
       "      <td>{'was_impossible': True, 'reason': 'User and/o...</td>\n",
       "    </tr>\n",
       "    <tr>\n",
       "      <th>2</th>\n",
       "      <td>dog</td>\n",
       "      <td>Samsung Galaxy S7 Edge G935P 32GB Gold- Sprint...</td>\n",
       "      <td>10.0</td>\n",
       "      <td>8.909733</td>\n",
       "      <td>{'was_impossible': True, 'reason': 'User and/o...</td>\n",
       "    </tr>\n",
       "    <tr>\n",
       "      <th>3</th>\n",
       "      <td>Memee77</td>\n",
       "      <td>Samsung Galaxy S6 edge+ 32GB (T-Mobile)</td>\n",
       "      <td>10.0</td>\n",
       "      <td>8.909733</td>\n",
       "      <td>{'was_impossible': True, 'reason': 'User and/o...</td>\n",
       "    </tr>\n",
       "    <tr>\n",
       "      <th>4</th>\n",
       "      <td>Squeakla29</td>\n",
       "      <td>Samsung Galaxy S6 edge+ 32GB (Sprint)</td>\n",
       "      <td>10.0</td>\n",
       "      <td>8.909733</td>\n",
       "      <td>{'was_impossible': True, 'reason': 'User and/o...</td>\n",
       "    </tr>\n",
       "    <tr>\n",
       "      <th>...</th>\n",
       "      <td>...</td>\n",
       "      <td>...</td>\n",
       "      <td>...</td>\n",
       "      <td>...</td>\n",
       "      <td>...</td>\n",
       "    </tr>\n",
       "    <tr>\n",
       "      <th>2363</th>\n",
       "      <td>Ana paula</td>\n",
       "      <td>Sim Free Samsung Galaxy S7 Edge Mobile Phone -...</td>\n",
       "      <td>10.0</td>\n",
       "      <td>8.909733</td>\n",
       "      <td>{'was_impossible': True, 'reason': 'User and/o...</td>\n",
       "    </tr>\n",
       "    <tr>\n",
       "      <th>2364</th>\n",
       "      <td>carlitosways</td>\n",
       "      <td>Samsung Galaxy S8</td>\n",
       "      <td>10.0</td>\n",
       "      <td>8.909733</td>\n",
       "      <td>{'was_impossible': True, 'reason': 'User and/o...</td>\n",
       "    </tr>\n",
       "    <tr>\n",
       "      <th>2365</th>\n",
       "      <td>Dadoo50002000</td>\n",
       "      <td>Samsung Galaxy S7 edge</td>\n",
       "      <td>8.0</td>\n",
       "      <td>8.909733</td>\n",
       "      <td>{'was_impossible': True, 'reason': 'User and/o...</td>\n",
       "    </tr>\n",
       "    <tr>\n",
       "      <th>2366</th>\n",
       "      <td>Beels</td>\n",
       "      <td>Sim Free Samsung Galaxy S7 Edge Mobile Phone -...</td>\n",
       "      <td>10.0</td>\n",
       "      <td>8.909733</td>\n",
       "      <td>{'was_impossible': True, 'reason': 'User and/o...</td>\n",
       "    </tr>\n",
       "    <tr>\n",
       "      <th>2367</th>\n",
       "      <td>ElRickster</td>\n",
       "      <td>Samsung Galaxy S7 edge 32GB (T-Mobile)</td>\n",
       "      <td>9.0</td>\n",
       "      <td>8.909733</td>\n",
       "      <td>{'was_impossible': True, 'reason': 'User and/o...</td>\n",
       "    </tr>\n",
       "  </tbody>\n",
       "</table>\n",
       "<p>2368 rows × 5 columns</p>\n",
       "</div>"
      ],
      "text/plain": [
       "                  uid                                                iid  \\\n",
       "0     WildYoungCharm             Samsung Galaxy S6 edge+ 32GB (T-Mobile)   \n",
       "1             boinero                                  Samsung Galaxy S8   \n",
       "2                 dog  Samsung Galaxy S7 Edge G935P 32GB Gold- Sprint...   \n",
       "3            Memee77             Samsung Galaxy S6 edge+ 32GB (T-Mobile)   \n",
       "4         Squeakla29               Samsung Galaxy S6 edge+ 32GB (Sprint)   \n",
       "...               ...                                                ...   \n",
       "2363        Ana paula  Sim Free Samsung Galaxy S7 Edge Mobile Phone -...   \n",
       "2364     carlitosways                                  Samsung Galaxy S8   \n",
       "2365    Dadoo50002000                             Samsung Galaxy S7 edge   \n",
       "2366            Beels  Sim Free Samsung Galaxy S7 Edge Mobile Phone -...   \n",
       "2367      ElRickster              Samsung Galaxy S7 edge 32GB (T-Mobile)   \n",
       "\n",
       "      r_ui       est                                            details  \n",
       "0     10.0  8.909733  {'was_impossible': True, 'reason': 'User and/o...  \n",
       "1     10.0  8.909733  {'was_impossible': True, 'reason': 'User and/o...  \n",
       "2     10.0  8.909733  {'was_impossible': True, 'reason': 'User and/o...  \n",
       "3     10.0  8.909733  {'was_impossible': True, 'reason': 'User and/o...  \n",
       "4     10.0  8.909733  {'was_impossible': True, 'reason': 'User and/o...  \n",
       "...    ...       ...                                                ...  \n",
       "2363  10.0  8.909733  {'was_impossible': True, 'reason': 'User and/o...  \n",
       "2364  10.0  8.909733  {'was_impossible': True, 'reason': 'User and/o...  \n",
       "2365   8.0  8.909733  {'was_impossible': True, 'reason': 'User and/o...  \n",
       "2366  10.0  8.909733  {'was_impossible': True, 'reason': 'User and/o...  \n",
       "2367   9.0  8.909733  {'was_impossible': True, 'reason': 'User and/o...  \n",
       "\n",
       "[2368 rows x 5 columns]"
      ]
     },
     "execution_count": 169,
     "metadata": {},
     "output_type": "execute_result"
    }
   ],
   "source": [
    "top_5_prod_recos"
   ]
  },
  {
   "cell_type": "markdown",
   "metadata": {},
   "source": [
    "# In what business scenario you should use popularity based Recommendation Systems"
   ]
  },
  {
   "cell_type": "markdown",
   "metadata": {},
   "source": [
    "# Popularity based recommendation systems work by recommending items viewed/purchased by most people and rated high. They are used when context is available / relevant (product / item features) and recommendations cannot be personalised (user data is not available). They are used in the B2C (Business to Customer) domains like recommending most popular books, movies, jobs, citations / research papers, courses (online / offline),  advertisements, restaurants, music tracks, etc. These recommendation systems are highly scalable."
   ]
  },
  {
   "cell_type": "markdown",
   "metadata": {},
   "source": [
    "# In what business scenario you should use CF based Recommendation Systems?"
   ]
  },
  {
   "cell_type": "markdown",
   "metadata": {},
   "source": [
    "# Collaborative Filtering (CF) based Recommendation Systems are entirely based on the user’s past behaviour and not on the context. The basic assumption here is that customers who had similar tastes in the past, will have similar tastes in the future. They can be either User-User based - Recommend items to the user that are similar to the the users that have bought the same item; or Item-Item based - Recommend items to the user that are similar to the items the user has bought. They are used in the B2C (Business to Customer) domains like recommending books, movies, jobs, citations / research papers, courses (online / offline),  advertisements, restaurants, music tracks, etc. These recommendation systems are not highly scalable and suffer from cold start problem (require prior user data to be available)"
   ]
  }
 ],
 "metadata": {
  "kernelspec": {
   "display_name": "Python 3",
   "language": "python",
   "name": "python3"
  },
  "language_info": {
   "codemirror_mode": {
    "name": "ipython",
    "version": 3
   },
   "file_extension": ".py",
   "mimetype": "text/x-python",
   "name": "python",
   "nbconvert_exporter": "python",
   "pygments_lexer": "ipython3",
   "version": "3.8.5"
  }
 },
 "nbformat": 4,
 "nbformat_minor": 4
}
